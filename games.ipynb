{
 "cells": [
  {
   "cell_type": "markdown",
   "metadata": {},
   "source": [
    "# Сборный проект - 1. Выявление закономерностей, определяющих успешность компьютерной игры."
   ]
  },
  {
   "cell_type": "markdown",
   "metadata": {},
   "source": [
    "Цель проекта - выявить определяющие успешность игры закономерности, а также выбрать потенциально популярный продукт, чтобы в дальнейшем спланировать рекламные кампании."
   ]
  },
  {
   "cell_type": "markdown",
   "metadata": {},
   "source": [
    "## Предобработка данных"
   ]
  },
  {
   "cell_type": "code",
   "execution_count": 1,
   "metadata": {},
   "outputs": [
    {
     "data": {
      "text/html": [
       "<div>\n",
       "<style scoped>\n",
       "    .dataframe tbody tr th:only-of-type {\n",
       "        vertical-align: middle;\n",
       "    }\n",
       "\n",
       "    .dataframe tbody tr th {\n",
       "        vertical-align: top;\n",
       "    }\n",
       "\n",
       "    .dataframe thead th {\n",
       "        text-align: right;\n",
       "    }\n",
       "</style>\n",
       "<table border=\"1\" class=\"dataframe\">\n",
       "  <thead>\n",
       "    <tr style=\"text-align: right;\">\n",
       "      <th></th>\n",
       "      <th>Name</th>\n",
       "      <th>Platform</th>\n",
       "      <th>Year_of_Release</th>\n",
       "      <th>Genre</th>\n",
       "      <th>NA_sales</th>\n",
       "      <th>EU_sales</th>\n",
       "      <th>JP_sales</th>\n",
       "      <th>Other_sales</th>\n",
       "      <th>Critic_Score</th>\n",
       "      <th>User_Score</th>\n",
       "      <th>Rating</th>\n",
       "    </tr>\n",
       "  </thead>\n",
       "  <tbody>\n",
       "    <tr>\n",
       "      <th>0</th>\n",
       "      <td>Wii Sports</td>\n",
       "      <td>Wii</td>\n",
       "      <td>2006.0</td>\n",
       "      <td>Sports</td>\n",
       "      <td>41.36</td>\n",
       "      <td>28.96</td>\n",
       "      <td>3.77</td>\n",
       "      <td>8.45</td>\n",
       "      <td>76.0</td>\n",
       "      <td>8</td>\n",
       "      <td>E</td>\n",
       "    </tr>\n",
       "    <tr>\n",
       "      <th>1</th>\n",
       "      <td>Super Mario Bros.</td>\n",
       "      <td>NES</td>\n",
       "      <td>1985.0</td>\n",
       "      <td>Platform</td>\n",
       "      <td>29.08</td>\n",
       "      <td>3.58</td>\n",
       "      <td>6.81</td>\n",
       "      <td>0.77</td>\n",
       "      <td>NaN</td>\n",
       "      <td>NaN</td>\n",
       "      <td>NaN</td>\n",
       "    </tr>\n",
       "    <tr>\n",
       "      <th>2</th>\n",
       "      <td>Mario Kart Wii</td>\n",
       "      <td>Wii</td>\n",
       "      <td>2008.0</td>\n",
       "      <td>Racing</td>\n",
       "      <td>15.68</td>\n",
       "      <td>12.76</td>\n",
       "      <td>3.79</td>\n",
       "      <td>3.29</td>\n",
       "      <td>82.0</td>\n",
       "      <td>8.3</td>\n",
       "      <td>E</td>\n",
       "    </tr>\n",
       "    <tr>\n",
       "      <th>3</th>\n",
       "      <td>Wii Sports Resort</td>\n",
       "      <td>Wii</td>\n",
       "      <td>2009.0</td>\n",
       "      <td>Sports</td>\n",
       "      <td>15.61</td>\n",
       "      <td>10.93</td>\n",
       "      <td>3.28</td>\n",
       "      <td>2.95</td>\n",
       "      <td>80.0</td>\n",
       "      <td>8</td>\n",
       "      <td>E</td>\n",
       "    </tr>\n",
       "    <tr>\n",
       "      <th>4</th>\n",
       "      <td>Pokemon Red/Pokemon Blue</td>\n",
       "      <td>GB</td>\n",
       "      <td>1996.0</td>\n",
       "      <td>Role-Playing</td>\n",
       "      <td>11.27</td>\n",
       "      <td>8.89</td>\n",
       "      <td>10.22</td>\n",
       "      <td>1.00</td>\n",
       "      <td>NaN</td>\n",
       "      <td>NaN</td>\n",
       "      <td>NaN</td>\n",
       "    </tr>\n",
       "  </tbody>\n",
       "</table>\n",
       "</div>"
      ],
      "text/plain": [
       "                       Name Platform  Year_of_Release         Genre  NA_sales  \\\n",
       "0                Wii Sports      Wii           2006.0        Sports     41.36   \n",
       "1         Super Mario Bros.      NES           1985.0      Platform     29.08   \n",
       "2            Mario Kart Wii      Wii           2008.0        Racing     15.68   \n",
       "3         Wii Sports Resort      Wii           2009.0        Sports     15.61   \n",
       "4  Pokemon Red/Pokemon Blue       GB           1996.0  Role-Playing     11.27   \n",
       "\n",
       "   EU_sales  JP_sales  Other_sales  Critic_Score User_Score Rating  \n",
       "0     28.96      3.77         8.45          76.0          8      E  \n",
       "1      3.58      6.81         0.77           NaN        NaN    NaN  \n",
       "2     12.76      3.79         3.29          82.0        8.3      E  \n",
       "3     10.93      3.28         2.95          80.0          8      E  \n",
       "4      8.89     10.22         1.00           NaN        NaN    NaN  "
      ]
     },
     "execution_count": 1,
     "metadata": {},
     "output_type": "execute_result"
    }
   ],
   "source": [
    "import pandas as pd\n",
    "import numpy as np\n",
    "import matplotlib.pyplot as plt\n",
    "from scipy import stats as st\n",
    "data = pd.read_csv('/datasets/games.csv')\n",
    "data.head()"
   ]
  },
  {
   "cell_type": "code",
   "execution_count": 2,
   "metadata": {},
   "outputs": [
    {
     "name": "stdout",
     "output_type": "stream",
     "text": [
      "<class 'pandas.core.frame.DataFrame'>\n",
      "RangeIndex: 16715 entries, 0 to 16714\n",
      "Data columns (total 11 columns):\n",
      " #   Column           Non-Null Count  Dtype  \n",
      "---  ------           --------------  -----  \n",
      " 0   Name             16713 non-null  object \n",
      " 1   Platform         16715 non-null  object \n",
      " 2   Year_of_Release  16446 non-null  float64\n",
      " 3   Genre            16713 non-null  object \n",
      " 4   NA_sales         16715 non-null  float64\n",
      " 5   EU_sales         16715 non-null  float64\n",
      " 6   JP_sales         16715 non-null  float64\n",
      " 7   Other_sales      16715 non-null  float64\n",
      " 8   Critic_Score     8137 non-null   float64\n",
      " 9   User_Score       10014 non-null  object \n",
      " 10  Rating           9949 non-null   object \n",
      "dtypes: float64(6), object(5)\n",
      "memory usage: 1.4+ MB\n"
     ]
    }
   ],
   "source": [
    "data.info()"
   ]
  },
  {
   "cell_type": "code",
   "execution_count": 3,
   "metadata": {},
   "outputs": [
    {
     "name": "stdout",
     "output_type": "stream",
     "text": [
      "<class 'pandas.core.frame.DataFrame'>\n",
      "RangeIndex: 16715 entries, 0 to 16714\n",
      "Data columns (total 11 columns):\n",
      " #   Column           Non-Null Count  Dtype  \n",
      "---  ------           --------------  -----  \n",
      " 0   name             16713 non-null  object \n",
      " 1   platform         16715 non-null  object \n",
      " 2   year_of_release  16446 non-null  float64\n",
      " 3   genre            16713 non-null  object \n",
      " 4   na_sales         16715 non-null  float64\n",
      " 5   eu_sales         16715 non-null  float64\n",
      " 6   jp_sales         16715 non-null  float64\n",
      " 7   other_sales      16715 non-null  float64\n",
      " 8   critic_score     8137 non-null   float64\n",
      " 9   user_score       10014 non-null  object \n",
      " 10  rating           9949 non-null   object \n",
      "dtypes: float64(6), object(5)\n",
      "memory usage: 1.4+ MB\n"
     ]
    }
   ],
   "source": [
    "#приведём названия столбцов к нижнему регистру\n",
    "data.columns = data.columns.str.lower()\n",
    "data.info()"
   ]
  },
  {
   "cell_type": "code",
   "execution_count": 4,
   "metadata": {},
   "outputs": [
    {
     "data": {
      "text/plain": [
       "0"
      ]
     },
     "execution_count": 4,
     "metadata": {},
     "output_type": "execute_result"
    }
   ],
   "source": [
    "#проверим на явные дубликаты\n",
    "data.duplicated().sum()"
   ]
  },
  {
   "cell_type": "code",
   "execution_count": 5,
   "metadata": {},
   "outputs": [
    {
     "name": "stdout",
     "output_type": "stream",
     "text": [
      "<class 'pandas.core.frame.DataFrame'>\n",
      "Int64Index: 16444 entries, 0 to 16714\n",
      "Data columns (total 11 columns):\n",
      " #   Column           Non-Null Count  Dtype  \n",
      "---  ------           --------------  -----  \n",
      " 0   name             16444 non-null  object \n",
      " 1   platform         16444 non-null  object \n",
      " 2   year_of_release  16444 non-null  float64\n",
      " 3   genre            16444 non-null  object \n",
      " 4   na_sales         16444 non-null  float64\n",
      " 5   eu_sales         16444 non-null  float64\n",
      " 6   jp_sales         16444 non-null  float64\n",
      " 7   other_sales      16444 non-null  float64\n",
      " 8   critic_score     7983 non-null   float64\n",
      " 9   user_score       9839 non-null   object \n",
      " 10  rating           9768 non-null   object \n",
      "dtypes: float64(6), object(5)\n",
      "memory usage: 1.5+ MB\n"
     ]
    }
   ],
   "source": [
    "#удалим пропуски в столбцах 'name', 'year_of_release' и 'genre', т.к. их небольшое количество\n",
    "#относительно всего датафрейма\n",
    "data.dropna(subset=['name', 'year_of_release', 'genre'], inplace=True)\n",
    "data.info()"
   ]
  },
  {
   "cell_type": "code",
   "execution_count": 6,
   "metadata": {},
   "outputs": [
    {
     "data": {
      "text/plain": [
       "array(['8', nan, '8.3', '8.5', '6.6', '8.4', '8.6', '7.7', '6.3', '7.4',\n",
       "       '8.2', '9', '7.9', '8.1', '8.7', '7.1', '3.4', '5.3', '4.8', '3.2',\n",
       "       '8.9', '6.4', '7.8', '7.5', '2.6', '7.2', '9.2', '7', '7.3', '4.3',\n",
       "       '7.6', '5.7', '5', '9.1', '6.5', 'tbd', '8.8', '6.9', '9.4', '6.8',\n",
       "       '6.1', '6.7', '5.4', '4', '4.9', '4.5', '9.3', '6.2', '4.2', '6',\n",
       "       '3.7', '4.1', '5.8', '5.6', '5.5', '4.4', '4.6', '5.9', '3.9',\n",
       "       '3.1', '2.9', '5.2', '3.3', '4.7', '5.1', '3.5', '2.5', '1.9', '3',\n",
       "       '2.7', '2.2', '2', '9.5', '2.1', '3.6', '2.8', '1.8', '3.8', '0',\n",
       "       '1.6', '9.6', '2.4', '1.7', '1.1', '0.3', '1.5', '0.7', '1.2',\n",
       "       '2.3', '0.5', '1.3', '0.2', '0.6', '1.4', '0.9', '1', '9.7'],\n",
       "      dtype=object)"
      ]
     },
     "execution_count": 6,
     "metadata": {},
     "output_type": "execute_result"
    }
   ],
   "source": [
    "data['user_score'].unique()"
   ]
  },
  {
   "cell_type": "markdown",
   "metadata": {},
   "source": [
    "Предполагаем, что 'tbd' - это \"Подлежит уточнению\", т.е. достоверной информации об оценке пользователей пока нет. Заменим эти значения пустыми строками."
   ]
  },
  {
   "cell_type": "code",
   "execution_count": 7,
   "metadata": {},
   "outputs": [
    {
     "name": "stdout",
     "output_type": "stream",
     "text": [
      "<class 'pandas.core.frame.DataFrame'>\n",
      "Int64Index: 16444 entries, 0 to 16714\n",
      "Data columns (total 11 columns):\n",
      " #   Column           Non-Null Count  Dtype  \n",
      "---  ------           --------------  -----  \n",
      " 0   name             16444 non-null  object \n",
      " 1   platform         16444 non-null  object \n",
      " 2   year_of_release  16444 non-null  float64\n",
      " 3   genre            16444 non-null  object \n",
      " 4   na_sales         16444 non-null  float64\n",
      " 5   eu_sales         16444 non-null  float64\n",
      " 6   jp_sales         16444 non-null  float64\n",
      " 7   other_sales      16444 non-null  float64\n",
      " 8   critic_score     7983 non-null   float64\n",
      " 9   user_score       7463 non-null   object \n",
      " 10  rating           9768 non-null   object \n",
      "dtypes: float64(6), object(5)\n",
      "memory usage: 1.5+ MB\n"
     ]
    }
   ],
   "source": [
    "data.loc[data['user_score']=='tbd', 'user_score'] = np.nan\n",
    "data.info()"
   ]
  },
  {
   "cell_type": "code",
   "execution_count": 8,
   "metadata": {},
   "outputs": [
    {
     "data": {
      "text/html": [
       "<div>\n",
       "<style scoped>\n",
       "    .dataframe tbody tr th:only-of-type {\n",
       "        vertical-align: middle;\n",
       "    }\n",
       "\n",
       "    .dataframe tbody tr th {\n",
       "        vertical-align: top;\n",
       "    }\n",
       "\n",
       "    .dataframe thead th {\n",
       "        text-align: right;\n",
       "    }\n",
       "</style>\n",
       "<table border=\"1\" class=\"dataframe\">\n",
       "  <thead>\n",
       "    <tr style=\"text-align: right;\">\n",
       "      <th></th>\n",
       "      <th>name</th>\n",
       "      <th>platform</th>\n",
       "      <th>year_of_release</th>\n",
       "      <th>genre</th>\n",
       "      <th>na_sales</th>\n",
       "      <th>eu_sales</th>\n",
       "      <th>jp_sales</th>\n",
       "      <th>other_sales</th>\n",
       "      <th>critic_score</th>\n",
       "      <th>user_score</th>\n",
       "      <th>rating</th>\n",
       "      <th>sales_all</th>\n",
       "    </tr>\n",
       "  </thead>\n",
       "  <tbody>\n",
       "    <tr>\n",
       "      <th>0</th>\n",
       "      <td>Wii Sports</td>\n",
       "      <td>Wii</td>\n",
       "      <td>2006.0</td>\n",
       "      <td>Sports</td>\n",
       "      <td>41.36</td>\n",
       "      <td>28.96</td>\n",
       "      <td>3.77</td>\n",
       "      <td>8.45</td>\n",
       "      <td>76.0</td>\n",
       "      <td>8</td>\n",
       "      <td>E</td>\n",
       "      <td>82.54</td>\n",
       "    </tr>\n",
       "    <tr>\n",
       "      <th>1</th>\n",
       "      <td>Super Mario Bros.</td>\n",
       "      <td>NES</td>\n",
       "      <td>1985.0</td>\n",
       "      <td>Platform</td>\n",
       "      <td>29.08</td>\n",
       "      <td>3.58</td>\n",
       "      <td>6.81</td>\n",
       "      <td>0.77</td>\n",
       "      <td>NaN</td>\n",
       "      <td>NaN</td>\n",
       "      <td>NaN</td>\n",
       "      <td>40.24</td>\n",
       "    </tr>\n",
       "    <tr>\n",
       "      <th>2</th>\n",
       "      <td>Mario Kart Wii</td>\n",
       "      <td>Wii</td>\n",
       "      <td>2008.0</td>\n",
       "      <td>Racing</td>\n",
       "      <td>15.68</td>\n",
       "      <td>12.76</td>\n",
       "      <td>3.79</td>\n",
       "      <td>3.29</td>\n",
       "      <td>82.0</td>\n",
       "      <td>8.3</td>\n",
       "      <td>E</td>\n",
       "      <td>35.52</td>\n",
       "    </tr>\n",
       "    <tr>\n",
       "      <th>3</th>\n",
       "      <td>Wii Sports Resort</td>\n",
       "      <td>Wii</td>\n",
       "      <td>2009.0</td>\n",
       "      <td>Sports</td>\n",
       "      <td>15.61</td>\n",
       "      <td>10.93</td>\n",
       "      <td>3.28</td>\n",
       "      <td>2.95</td>\n",
       "      <td>80.0</td>\n",
       "      <td>8</td>\n",
       "      <td>E</td>\n",
       "      <td>32.77</td>\n",
       "    </tr>\n",
       "    <tr>\n",
       "      <th>4</th>\n",
       "      <td>Pokemon Red/Pokemon Blue</td>\n",
       "      <td>GB</td>\n",
       "      <td>1996.0</td>\n",
       "      <td>Role-Playing</td>\n",
       "      <td>11.27</td>\n",
       "      <td>8.89</td>\n",
       "      <td>10.22</td>\n",
       "      <td>1.00</td>\n",
       "      <td>NaN</td>\n",
       "      <td>NaN</td>\n",
       "      <td>NaN</td>\n",
       "      <td>31.38</td>\n",
       "    </tr>\n",
       "    <tr>\n",
       "      <th>...</th>\n",
       "      <td>...</td>\n",
       "      <td>...</td>\n",
       "      <td>...</td>\n",
       "      <td>...</td>\n",
       "      <td>...</td>\n",
       "      <td>...</td>\n",
       "      <td>...</td>\n",
       "      <td>...</td>\n",
       "      <td>...</td>\n",
       "      <td>...</td>\n",
       "      <td>...</td>\n",
       "      <td>...</td>\n",
       "    </tr>\n",
       "    <tr>\n",
       "      <th>16710</th>\n",
       "      <td>Samurai Warriors: Sanada Maru</td>\n",
       "      <td>PS3</td>\n",
       "      <td>2016.0</td>\n",
       "      <td>Action</td>\n",
       "      <td>0.00</td>\n",
       "      <td>0.00</td>\n",
       "      <td>0.01</td>\n",
       "      <td>0.00</td>\n",
       "      <td>NaN</td>\n",
       "      <td>NaN</td>\n",
       "      <td>NaN</td>\n",
       "      <td>0.01</td>\n",
       "    </tr>\n",
       "    <tr>\n",
       "      <th>16711</th>\n",
       "      <td>LMA Manager 2007</td>\n",
       "      <td>X360</td>\n",
       "      <td>2006.0</td>\n",
       "      <td>Sports</td>\n",
       "      <td>0.00</td>\n",
       "      <td>0.01</td>\n",
       "      <td>0.00</td>\n",
       "      <td>0.00</td>\n",
       "      <td>NaN</td>\n",
       "      <td>NaN</td>\n",
       "      <td>NaN</td>\n",
       "      <td>0.01</td>\n",
       "    </tr>\n",
       "    <tr>\n",
       "      <th>16712</th>\n",
       "      <td>Haitaka no Psychedelica</td>\n",
       "      <td>PSV</td>\n",
       "      <td>2016.0</td>\n",
       "      <td>Adventure</td>\n",
       "      <td>0.00</td>\n",
       "      <td>0.00</td>\n",
       "      <td>0.01</td>\n",
       "      <td>0.00</td>\n",
       "      <td>NaN</td>\n",
       "      <td>NaN</td>\n",
       "      <td>NaN</td>\n",
       "      <td>0.01</td>\n",
       "    </tr>\n",
       "    <tr>\n",
       "      <th>16713</th>\n",
       "      <td>Spirits &amp; Spells</td>\n",
       "      <td>GBA</td>\n",
       "      <td>2003.0</td>\n",
       "      <td>Platform</td>\n",
       "      <td>0.01</td>\n",
       "      <td>0.00</td>\n",
       "      <td>0.00</td>\n",
       "      <td>0.00</td>\n",
       "      <td>NaN</td>\n",
       "      <td>NaN</td>\n",
       "      <td>NaN</td>\n",
       "      <td>0.01</td>\n",
       "    </tr>\n",
       "    <tr>\n",
       "      <th>16714</th>\n",
       "      <td>Winning Post 8 2016</td>\n",
       "      <td>PSV</td>\n",
       "      <td>2016.0</td>\n",
       "      <td>Simulation</td>\n",
       "      <td>0.00</td>\n",
       "      <td>0.00</td>\n",
       "      <td>0.01</td>\n",
       "      <td>0.00</td>\n",
       "      <td>NaN</td>\n",
       "      <td>NaN</td>\n",
       "      <td>NaN</td>\n",
       "      <td>0.01</td>\n",
       "    </tr>\n",
       "  </tbody>\n",
       "</table>\n",
       "<p>16444 rows × 12 columns</p>\n",
       "</div>"
      ],
      "text/plain": [
       "                                name platform  year_of_release         genre  \\\n",
       "0                         Wii Sports      Wii           2006.0        Sports   \n",
       "1                  Super Mario Bros.      NES           1985.0      Platform   \n",
       "2                     Mario Kart Wii      Wii           2008.0        Racing   \n",
       "3                  Wii Sports Resort      Wii           2009.0        Sports   \n",
       "4           Pokemon Red/Pokemon Blue       GB           1996.0  Role-Playing   \n",
       "...                              ...      ...              ...           ...   \n",
       "16710  Samurai Warriors: Sanada Maru      PS3           2016.0        Action   \n",
       "16711               LMA Manager 2007     X360           2006.0        Sports   \n",
       "16712        Haitaka no Psychedelica      PSV           2016.0     Adventure   \n",
       "16713               Spirits & Spells      GBA           2003.0      Platform   \n",
       "16714            Winning Post 8 2016      PSV           2016.0    Simulation   \n",
       "\n",
       "       na_sales  eu_sales  jp_sales  other_sales  critic_score user_score  \\\n",
       "0         41.36     28.96      3.77         8.45          76.0          8   \n",
       "1         29.08      3.58      6.81         0.77           NaN        NaN   \n",
       "2         15.68     12.76      3.79         3.29          82.0        8.3   \n",
       "3         15.61     10.93      3.28         2.95          80.0          8   \n",
       "4         11.27      8.89     10.22         1.00           NaN        NaN   \n",
       "...         ...       ...       ...          ...           ...        ...   \n",
       "16710      0.00      0.00      0.01         0.00           NaN        NaN   \n",
       "16711      0.00      0.01      0.00         0.00           NaN        NaN   \n",
       "16712      0.00      0.00      0.01         0.00           NaN        NaN   \n",
       "16713      0.01      0.00      0.00         0.00           NaN        NaN   \n",
       "16714      0.00      0.00      0.01         0.00           NaN        NaN   \n",
       "\n",
       "      rating  sales_all  \n",
       "0          E      82.54  \n",
       "1        NaN      40.24  \n",
       "2          E      35.52  \n",
       "3          E      32.77  \n",
       "4        NaN      31.38  \n",
       "...      ...        ...  \n",
       "16710    NaN       0.01  \n",
       "16711    NaN       0.01  \n",
       "16712    NaN       0.01  \n",
       "16713    NaN       0.01  \n",
       "16714    NaN       0.01  \n",
       "\n",
       "[16444 rows x 12 columns]"
      ]
     },
     "execution_count": 8,
     "metadata": {},
     "output_type": "execute_result"
    }
   ],
   "source": [
    "#Столбец с суммарными продажами во всех регионах\n",
    "data['sales_all'] = data[['na_sales', 'eu_sales', 'jp_sales', 'other_sales']].sum(axis=1)\n",
    "data"
   ]
  },
  {
   "cell_type": "code",
   "execution_count": 9,
   "metadata": {},
   "outputs": [
    {
     "name": "stdout",
     "output_type": "stream",
     "text": [
      "<class 'pandas.core.frame.DataFrame'>\n",
      "Int64Index: 16444 entries, 0 to 16714\n",
      "Data columns (total 12 columns):\n",
      " #   Column           Non-Null Count  Dtype  \n",
      "---  ------           --------------  -----  \n",
      " 0   name             16444 non-null  object \n",
      " 1   platform         16444 non-null  object \n",
      " 2   year_of_release  16444 non-null  int64  \n",
      " 3   genre            16444 non-null  object \n",
      " 4   na_sales         16444 non-null  float64\n",
      " 5   eu_sales         16444 non-null  float64\n",
      " 6   jp_sales         16444 non-null  float64\n",
      " 7   other_sales      16444 non-null  float64\n",
      " 8   critic_score     7983 non-null   float64\n",
      " 9   user_score       7463 non-null   object \n",
      " 10  rating           9768 non-null   object \n",
      " 11  sales_all        16444 non-null  float64\n",
      "dtypes: float64(6), int64(1), object(5)\n",
      "memory usage: 1.6+ MB\n"
     ]
    }
   ],
   "source": [
    "#Приведём данные в столбце 'years_of_release' к типу int\n",
    "data['year_of_release'] = data['year_of_release'].astype(int)\n",
    "data.info()"
   ]
  },
  {
   "cell_type": "markdown",
   "metadata": {},
   "source": [
    "Пропуски в остальных столбцах пока оставим без изменений, чтобы не потерять большое количество данных. Создадим в дальнейшем отдельные датасеты, необходимые для анализа этих столбцов."
   ]
  },
  {
   "cell_type": "markdown",
   "metadata": {},
   "source": [
    "Поменяем тип данных на float в user_score. Заполним пропуски в rating нейтральным значением, чтоб игры без рейтинга вошли в график портрета пользователя отдельного региона"
   ]
  },
  {
   "cell_type": "code",
   "execution_count": 10,
   "metadata": {},
   "outputs": [
    {
     "name": "stdout",
     "output_type": "stream",
     "text": [
      "<class 'pandas.core.frame.DataFrame'>\n",
      "Int64Index: 16444 entries, 0 to 16714\n",
      "Data columns (total 12 columns):\n",
      " #   Column           Non-Null Count  Dtype  \n",
      "---  ------           --------------  -----  \n",
      " 0   name             16444 non-null  object \n",
      " 1   platform         16444 non-null  object \n",
      " 2   year_of_release  16444 non-null  int64  \n",
      " 3   genre            16444 non-null  object \n",
      " 4   na_sales         16444 non-null  float64\n",
      " 5   eu_sales         16444 non-null  float64\n",
      " 6   jp_sales         16444 non-null  float64\n",
      " 7   other_sales      16444 non-null  float64\n",
      " 8   critic_score     7983 non-null   float64\n",
      " 9   user_score       7463 non-null   float64\n",
      " 10  rating           9768 non-null   object \n",
      " 11  sales_all        16444 non-null  float64\n",
      "dtypes: float64(7), int64(1), object(4)\n",
      "memory usage: 1.6+ MB\n"
     ]
    }
   ],
   "source": [
    "try:\n",
    "    data['user_score'] = data['user_score'].astype(float)\n",
    "except:\n",
    "    pass\n",
    "data.info()"
   ]
  },
  {
   "cell_type": "code",
   "execution_count": 11,
   "metadata": {},
   "outputs": [],
   "source": [
    "data['rating'] = data['rating'].fillna('NoNe')"
   ]
  },
  {
   "cell_type": "markdown",
   "metadata": {},
   "source": [
    "## Исследовательский анализ данных"
   ]
  },
  {
   "cell_type": "markdown",
   "metadata": {},
   "source": [
    "### Сколько игр выпускалось в разные годы"
   ]
  },
  {
   "cell_type": "code",
   "execution_count": 12,
   "metadata": {
    "scrolled": true
   },
   "outputs": [
    {
     "data": {
      "image/png": "[encoded data removed]",
      "text/plain": [
       "<Figure size 720x360 with 1 Axes>"
      ]
     },
     "metadata": {
      "needs_background": "light"
     },
     "output_type": "display_data"
    }
   ],
   "source": [
    "years = data.groupby(['year_of_release']).agg(count=('year_of_release', 'count'))\n",
    "years.plot(grid=True, title=('Количество игр по годам'), figsize=(10,5));"
   ]
  },
  {
   "cell_type": "markdown",
   "metadata": {},
   "source": [
    "На графике видно, что до 2009 года был относительно плавный рост количества игр, в 2009 и 2012 годах были резкие падения выпуска игр, затем колебания не такие резкие."
   ]
  },
  {
   "cell_type": "markdown",
   "metadata": {},
   "source": [
    "### Как менялись проджи по платформам"
   ]
  },
  {
   "cell_type": "code",
   "execution_count": 13,
   "metadata": {},
   "outputs": [
    {
     "data": {
      "text/html": [
       "<div>\n",
       "<style scoped>\n",
       "    .dataframe tbody tr th:only-of-type {\n",
       "        vertical-align: middle;\n",
       "    }\n",
       "\n",
       "    .dataframe tbody tr th {\n",
       "        vertical-align: top;\n",
       "    }\n",
       "\n",
       "    .dataframe thead th {\n",
       "        text-align: right;\n",
       "    }\n",
       "</style>\n",
       "<table border=\"1\" class=\"dataframe\">\n",
       "  <thead>\n",
       "    <tr style=\"text-align: right;\">\n",
       "      <th></th>\n",
       "      <th>sales_all</th>\n",
       "    </tr>\n",
       "    <tr>\n",
       "      <th>platform</th>\n",
       "      <th></th>\n",
       "    </tr>\n",
       "  </thead>\n",
       "  <tbody>\n",
       "    <tr>\n",
       "      <th>PS2</th>\n",
       "      <td>1233.56</td>\n",
       "    </tr>\n",
       "    <tr>\n",
       "      <th>X360</th>\n",
       "      <td>961.24</td>\n",
       "    </tr>\n",
       "    <tr>\n",
       "      <th>PS3</th>\n",
       "      <td>931.34</td>\n",
       "    </tr>\n",
       "    <tr>\n",
       "      <th>Wii</th>\n",
       "      <td>891.18</td>\n",
       "    </tr>\n",
       "    <tr>\n",
       "      <th>DS</th>\n",
       "      <td>802.78</td>\n",
       "    </tr>\n",
       "    <tr>\n",
       "      <th>PS</th>\n",
       "      <td>727.58</td>\n",
       "    </tr>\n",
       "    <tr>\n",
       "      <th>PS4</th>\n",
       "      <td>314.14</td>\n",
       "    </tr>\n",
       "    <tr>\n",
       "      <th>GBA</th>\n",
       "      <td>312.88</td>\n",
       "    </tr>\n",
       "    <tr>\n",
       "      <th>PSP</th>\n",
       "      <td>289.53</td>\n",
       "    </tr>\n",
       "    <tr>\n",
       "      <th>3DS</th>\n",
       "      <td>257.81</td>\n",
       "    </tr>\n",
       "    <tr>\n",
       "      <th>PC</th>\n",
       "      <td>255.76</td>\n",
       "    </tr>\n",
       "    <tr>\n",
       "      <th>GB</th>\n",
       "      <td>254.43</td>\n",
       "    </tr>\n",
       "    <tr>\n",
       "      <th>XB</th>\n",
       "      <td>251.57</td>\n",
       "    </tr>\n",
       "    <tr>\n",
       "      <th>NES</th>\n",
       "      <td>251.05</td>\n",
       "    </tr>\n",
       "    <tr>\n",
       "      <th>N64</th>\n",
       "      <td>218.01</td>\n",
       "    </tr>\n",
       "    <tr>\n",
       "      <th>SNES</th>\n",
       "      <td>200.04</td>\n",
       "    </tr>\n",
       "    <tr>\n",
       "      <th>GC</th>\n",
       "      <td>196.73</td>\n",
       "    </tr>\n",
       "    <tr>\n",
       "      <th>XOne</th>\n",
       "      <td>159.32</td>\n",
       "    </tr>\n",
       "    <tr>\n",
       "      <th>2600</th>\n",
       "      <td>86.48</td>\n",
       "    </tr>\n",
       "    <tr>\n",
       "      <th>WiiU</th>\n",
       "      <td>82.19</td>\n",
       "    </tr>\n",
       "    <tr>\n",
       "      <th>PSV</th>\n",
       "      <td>53.81</td>\n",
       "    </tr>\n",
       "    <tr>\n",
       "      <th>SAT</th>\n",
       "      <td>33.59</td>\n",
       "    </tr>\n",
       "    <tr>\n",
       "      <th>GEN</th>\n",
       "      <td>28.35</td>\n",
       "    </tr>\n",
       "    <tr>\n",
       "      <th>DC</th>\n",
       "      <td>15.95</td>\n",
       "    </tr>\n",
       "    <tr>\n",
       "      <th>SCD</th>\n",
       "      <td>1.86</td>\n",
       "    </tr>\n",
       "    <tr>\n",
       "      <th>NG</th>\n",
       "      <td>1.44</td>\n",
       "    </tr>\n",
       "    <tr>\n",
       "      <th>WS</th>\n",
       "      <td>1.42</td>\n",
       "    </tr>\n",
       "    <tr>\n",
       "      <th>TG16</th>\n",
       "      <td>0.16</td>\n",
       "    </tr>\n",
       "    <tr>\n",
       "      <th>3DO</th>\n",
       "      <td>0.10</td>\n",
       "    </tr>\n",
       "    <tr>\n",
       "      <th>GG</th>\n",
       "      <td>0.04</td>\n",
       "    </tr>\n",
       "    <tr>\n",
       "      <th>PCFX</th>\n",
       "      <td>0.03</td>\n",
       "    </tr>\n",
       "  </tbody>\n",
       "</table>\n",
       "</div>"
      ],
      "text/plain": [
       "          sales_all\n",
       "platform           \n",
       "PS2         1233.56\n",
       "X360         961.24\n",
       "PS3          931.34\n",
       "Wii          891.18\n",
       "DS           802.78\n",
       "PS           727.58\n",
       "PS4          314.14\n",
       "GBA          312.88\n",
       "PSP          289.53\n",
       "3DS          257.81\n",
       "PC           255.76\n",
       "GB           254.43\n",
       "XB           251.57\n",
       "NES          251.05\n",
       "N64          218.01\n",
       "SNES         200.04\n",
       "GC           196.73\n",
       "XOne         159.32\n",
       "2600          86.48\n",
       "WiiU          82.19\n",
       "PSV           53.81\n",
       "SAT           33.59\n",
       "GEN           28.35\n",
       "DC            15.95\n",
       "SCD            1.86\n",
       "NG             1.44\n",
       "WS             1.42\n",
       "TG16           0.16\n",
       "3DO            0.10\n",
       "GG             0.04\n",
       "PCFX           0.03"
      ]
     },
     "execution_count": 13,
     "metadata": {},
     "output_type": "execute_result"
    }
   ],
   "source": [
    "platforms = data.groupby(['platform']).agg({'sales_all':'sum'})\n",
    "platforms.sort_values(by='sales_all', ascending=False)"
   ]
  },
  {
   "cell_type": "markdown",
   "metadata": {},
   "source": [
    "Построим графики зависимости числа продаж по годам для шести платформ с наибольшими суммарными продажами."
   ]
  },
  {
   "cell_type": "code",
   "execution_count": 14,
   "metadata": {},
   "outputs": [
    {
     "data": {
      "image/png": "[encoded data removed]",
      "text/plain": [
       "<Figure size 720x360 with 1 Axes>"
      ]
     },
     "metadata": {
      "needs_background": "light"
     },
     "output_type": "display_data"
    }
   ],
   "source": [
    "data.query('platform==\"PS2\"').pivot_table(index='year_of_release',\\\n",
    "    columns='platform', values='sales_all', aggfunc='sum').plot(grid=True, figsize=(10,5));"
   ]
  },
  {
   "cell_type": "code",
   "execution_count": 15,
   "metadata": {},
   "outputs": [
    {
     "data": {
      "image/png": "[encoded data removed]",
      "text/plain": [
       "<Figure size 720x360 with 1 Axes>"
      ]
     },
     "metadata": {
      "needs_background": "light"
     },
     "output_type": "display_data"
    }
   ],
   "source": [
    "data.query('platform==\"X360\"').pivot_table(index='year_of_release',\\\n",
    "    columns='platform', values='sales_all', aggfunc='sum').plot(grid=True, figsize=(10,5));"
   ]
  },
  {
   "cell_type": "code",
   "execution_count": 16,
   "metadata": {},
   "outputs": [
    {
     "data": {
      "image/png": "[encoded data removed]",
      "text/plain": [
       "<Figure size 720x360 with 1 Axes>"
      ]
     },
     "metadata": {
      "needs_background": "light"
     },
     "output_type": "display_data"
    }
   ],
   "source": [
    "data.query('platform==\"PS3\"').pivot_table(index='year_of_release',\\\n",
    "    columns='platform', values='sales_all', aggfunc='sum').plot(grid=True, figsize=(10,5));"
   ]
  },
  {
   "cell_type": "code",
   "execution_count": 17,
   "metadata": {},
   "outputs": [
    {
     "data": {
      "image/png": "[encoded data removed]",
      "text/plain": [
       "<Figure size 720x360 with 1 Axes>"
      ]
     },
     "metadata": {
      "needs_background": "light"
     },
     "output_type": "display_data"
    }
   ],
   "source": [
    "data.query('platform==\"Wii\"').pivot_table(index='year_of_release',\\\n",
    "    columns='platform', values='sales_all', aggfunc='sum').plot(grid=True, figsize=(10,5));"
   ]
  },
  {
   "cell_type": "code",
   "execution_count": 18,
   "metadata": {},
   "outputs": [
    {
     "data": {
      "image/png": "[encoded data removed]",
      "text/plain": [
       "<Figure size 720x360 with 1 Axes>"
      ]
     },
     "metadata": {
      "needs_background": "light"
     },
     "output_type": "display_data"
    }
   ],
   "source": [
    "data.query('platform==\"DS\"').pivot_table(index='year_of_release',\\\n",
    "    columns='platform', values='sales_all', aggfunc='sum').plot(grid=True, figsize=(10,5));"
   ]
  },
  {
   "cell_type": "code",
   "execution_count": 19,
   "metadata": {},
   "outputs": [
    {
     "data": {
      "image/png": "[encoded data removed]",
      "text/plain": [
       "<Figure size 720x360 with 1 Axes>"
      ]
     },
     "metadata": {
      "needs_background": "light"
     },
     "output_type": "display_data"
    }
   ],
   "source": [
    "data.query('platform==\"PS\"').pivot_table(index='year_of_release',\\\n",
    "    columns='platform', values='sales_all', aggfunc='sum').plot(grid=True, figsize=(10,5));"
   ]
  },
  {
   "cell_type": "markdown",
   "metadata": {},
   "source": [
    "На основе графиков можно сделать вывод, что срок \"жизни\" платформы в среднем составляет 10-11 лет.\n",
    "Более-менее равномерное распределение начинается с 2012 года. Будем изучать данные за период 2012-2016 годов."
   ]
  },
  {
   "cell_type": "markdown",
   "metadata": {},
   "source": [
    "### Актуальный период. Потенциально прибыльные платформы"
   ]
  },
  {
   "cell_type": "code",
   "execution_count": 20,
   "metadata": {},
   "outputs": [
    {
     "data": {
      "text/plain": [
       "array(['PS3', 'X360', 'PS4', '3DS', 'DS', 'XOne', 'WiiU', 'Wii', 'PC',\n",
       "       'PSV', 'PSP'], dtype=object)"
      ]
     },
     "execution_count": 20,
     "metadata": {},
     "output_type": "execute_result"
    }
   ],
   "source": [
    "#Выясним, на какие платформы продолжают выходить игры за выбранный период\n",
    "ap = data.loc[data['year_of_release'] >= 2012]\n",
    "ap['platform'].unique()"
   ]
  },
  {
   "cell_type": "code",
   "execution_count": 21,
   "metadata": {},
   "outputs": [
    {
     "data": {
      "image/png": "[encoded data removed]",
      "text/plain": [
       "<Figure size 720x360 with 1 Axes>"
      ]
     },
     "metadata": {
      "needs_background": "light"
     },
     "output_type": "display_data"
    }
   ],
   "source": [
    "ap.query('platform==\"PS3\"').pivot_table(index='year_of_release',\\\n",
    "    values='platform', aggfunc='count').plot(grid=True, title='PS3', figsize=(10,5));"
   ]
  },
  {
   "cell_type": "code",
   "execution_count": 22,
   "metadata": {},
   "outputs": [
    {
     "data": {
      "image/png": "[encoded data removed]",
      "text/plain": [
       "<Figure size 720x360 with 1 Axes>"
      ]
     },
     "metadata": {
      "needs_background": "light"
     },
     "output_type": "display_data"
    }
   ],
   "source": [
    "ap.query('platform==\"X360\"').pivot_table(index='year_of_release',\\\n",
    "    values='platform', aggfunc='count').plot(grid=True, title='X360', figsize=(10,5));"
   ]
  },
  {
   "cell_type": "code",
   "execution_count": 23,
   "metadata": {},
   "outputs": [
    {
     "data": {
      "image/png": "[encoded data removed]",
      "text/plain": [
       "<Figure size 720x360 with 1 Axes>"
      ]
     },
     "metadata": {
      "needs_background": "light"
     },
     "output_type": "display_data"
    }
   ],
   "source": [
    "ap.query('platform==\"PS4\"').pivot_table(index='year_of_release',\\\n",
    "    values='platform', aggfunc='count').plot(grid=True, title='PS4', figsize=(10,5));"
   ]
  },
  {
   "cell_type": "code",
   "execution_count": 24,
   "metadata": {},
   "outputs": [
    {
     "data": {
      "image/png": "[encoded data removed]",
      "text/plain": [
       "<Figure size 720x360 with 1 Axes>"
      ]
     },
     "metadata": {
      "needs_background": "light"
     },
     "output_type": "display_data"
    }
   ],
   "source": [
    "ap.query('platform==\"3DS\"').pivot_table(index='year_of_release',\\\n",
    "    values='platform', aggfunc='count').plot(grid=True, title='3DS', figsize=(10,5));"
   ]
  },
  {
   "cell_type": "code",
   "execution_count": 25,
   "metadata": {},
   "outputs": [
    {
     "data": {
      "image/png": "[encoded data removed]",
      "text/plain": [
       "<Figure size 720x360 with 1 Axes>"
      ]
     },
     "metadata": {
      "needs_background": "light"
     },
     "output_type": "display_data"
    }
   ],
   "source": [
    "ap.query('platform==\"DS\"').pivot_table(index='year_of_release',\\\n",
    "    values='platform', aggfunc='count').plot(grid=True, title='DS', figsize=(10,5));"
   ]
  },
  {
   "cell_type": "code",
   "execution_count": 26,
   "metadata": {},
   "outputs": [
    {
     "data": {
      "image/png": "[encoded data removed]",
      "text/plain": [
       "<Figure size 720x360 with 1 Axes>"
      ]
     },
     "metadata": {
      "needs_background": "light"
     },
     "output_type": "display_data"
    }
   ],
   "source": [
    "ap.query('platform==\"XOne\"').pivot_table(index='year_of_release',\\\n",
    "    values='platform', aggfunc='count').plot(grid=True, title='XOne', figsize=(10,5));"
   ]
  },
  {
   "cell_type": "code",
   "execution_count": 27,
   "metadata": {},
   "outputs": [
    {
     "data": {
      "image/png": "[encoded data removed]",
      "text/plain": [
       "<Figure size 720x360 with 1 Axes>"
      ]
     },
     "metadata": {
      "needs_background": "light"
     },
     "output_type": "display_data"
    }
   ],
   "source": [
    "ap.query('platform==\"WiiU\"').pivot_table(index='year_of_release',\\\n",
    "    values='platform', aggfunc='count').plot(grid=True, title='WiiU', figsize=(10,5));"
   ]
  },
  {
   "cell_type": "code",
   "execution_count": 28,
   "metadata": {},
   "outputs": [
    {
     "data": {
      "image/png": "[encoded data removed]",
      "text/plain": [
       "<Figure size 720x360 with 1 Axes>"
      ]
     },
     "metadata": {
      "needs_background": "light"
     },
     "output_type": "display_data"
    }
   ],
   "source": [
    "ap.query('platform==\"Wii\"').pivot_table(index='year_of_release',\\\n",
    "    values='platform', aggfunc='count').plot(grid=True, title='Wii', figsize=(10,5));"
   ]
  },
  {
   "cell_type": "code",
   "execution_count": 29,
   "metadata": {},
   "outputs": [
    {
     "data": {
      "image/png": "[encoded data removed]",
      "text/plain": [
       "<Figure size 720x360 with 1 Axes>"
      ]
     },
     "metadata": {
      "needs_background": "light"
     },
     "output_type": "display_data"
    }
   ],
   "source": [
    "ap.query('platform==\"PC\"').pivot_table(index='year_of_release',\\\n",
    "    values='platform', aggfunc='count').plot(grid=True, title='PC', figsize=(10,5));"
   ]
  },
  {
   "cell_type": "code",
   "execution_count": 30,
   "metadata": {},
   "outputs": [
    {
     "data": {
      "image/png": "[encoded data removed]",
      "text/plain": [
       "<Figure size 720x360 with 1 Axes>"
      ]
     },
     "metadata": {
      "needs_background": "light"
     },
     "output_type": "display_data"
    }
   ],
   "source": [
    "ap.query('platform==\"PSV\"').pivot_table(index='year_of_release',\\\n",
    "    values='platform', aggfunc='count').plot(grid=True, title='PSV', figsize=(10,5));"
   ]
  },
  {
   "cell_type": "code",
   "execution_count": 31,
   "metadata": {},
   "outputs": [
    {
     "data": {
      "image/png": "[encoded data removed]",
      "text/plain": [
       "<Figure size 720x360 with 1 Axes>"
      ]
     },
     "metadata": {
      "needs_background": "light"
     },
     "output_type": "display_data"
    }
   ],
   "source": [
    "ap.query('platform==\"PSP\"').pivot_table(index='year_of_release',\\\n",
    "    values='platform', aggfunc='count').plot(grid=True, title='PSP', figsize=(10,5));"
   ]
  },
  {
   "cell_type": "markdown",
   "metadata": {},
   "source": [
    "Потенциально прибыльные для инвестиций платформы - PS4 и XOne: они достаточно недавно появились и сейчас находятся в стадии развития. Также игры для PC после некоторого спада, с 2013 года демонстрируют рост. Остальные либо уже пришли к упадку, либо на них на данный момент игры не выпускаются."
   ]
  },
  {
   "cell_type": "markdown",
   "metadata": {},
   "source": [
    "Посмотрим, по каким платформам было продано больше всего игр и построим график."
   ]
  },
  {
   "cell_type": "code",
   "execution_count": 32,
   "metadata": {
    "scrolled": false
   },
   "outputs": [
    {
     "data": {
      "text/html": [
       "<div>\n",
       "<style scoped>\n",
       "    .dataframe tbody tr th:only-of-type {\n",
       "        vertical-align: middle;\n",
       "    }\n",
       "\n",
       "    .dataframe tbody tr th {\n",
       "        vertical-align: top;\n",
       "    }\n",
       "\n",
       "    .dataframe thead th {\n",
       "        text-align: right;\n",
       "    }\n",
       "</style>\n",
       "<table border=\"1\" class=\"dataframe\">\n",
       "  <thead>\n",
       "    <tr style=\"text-align: right;\">\n",
       "      <th></th>\n",
       "      <th>sales_all</th>\n",
       "    </tr>\n",
       "    <tr>\n",
       "      <th>platform</th>\n",
       "      <th></th>\n",
       "    </tr>\n",
       "  </thead>\n",
       "  <tbody>\n",
       "    <tr>\n",
       "      <th>PS4</th>\n",
       "      <td>314.14</td>\n",
       "    </tr>\n",
       "    <tr>\n",
       "      <th>PS3</th>\n",
       "      <td>288.79</td>\n",
       "    </tr>\n",
       "    <tr>\n",
       "      <th>X360</th>\n",
       "      <td>236.54</td>\n",
       "    </tr>\n",
       "    <tr>\n",
       "      <th>3DS</th>\n",
       "      <td>194.61</td>\n",
       "    </tr>\n",
       "    <tr>\n",
       "      <th>XOne</th>\n",
       "      <td>159.32</td>\n",
       "    </tr>\n",
       "    <tr>\n",
       "      <th>WiiU</th>\n",
       "      <td>82.19</td>\n",
       "    </tr>\n",
       "    <tr>\n",
       "      <th>PC</th>\n",
       "      <td>62.65</td>\n",
       "    </tr>\n",
       "    <tr>\n",
       "      <th>PSV</th>\n",
       "      <td>49.18</td>\n",
       "    </tr>\n",
       "    <tr>\n",
       "      <th>Wii</th>\n",
       "      <td>35.37</td>\n",
       "    </tr>\n",
       "    <tr>\n",
       "      <th>DS</th>\n",
       "      <td>12.55</td>\n",
       "    </tr>\n",
       "    <tr>\n",
       "      <th>PSP</th>\n",
       "      <td>11.19</td>\n",
       "    </tr>\n",
       "  </tbody>\n",
       "</table>\n",
       "</div>"
      ],
      "text/plain": [
       "          sales_all\n",
       "platform           \n",
       "PS4          314.14\n",
       "PS3          288.79\n",
       "X360         236.54\n",
       "3DS          194.61\n",
       "XOne         159.32\n",
       "WiiU          82.19\n",
       "PC            62.65\n",
       "PSV           49.18\n",
       "Wii           35.37\n",
       "DS            12.55\n",
       "PSP           11.19"
      ]
     },
     "execution_count": 32,
     "metadata": {},
     "output_type": "execute_result"
    }
   ],
   "source": [
    "sales_global = ap.groupby(['platform']).agg({'sales_all':'sum'})\n",
    "sales_global.sort_values(by='sales_all', ascending=False)"
   ]
  },
  {
   "cell_type": "markdown",
   "metadata": {},
   "source": [
    "### График глобальных продаж игр в разбивке по платформам"
   ]
  },
  {
   "cell_type": "code",
   "execution_count": 33,
   "metadata": {},
   "outputs": [
    {
     "data": {
      "image/png": "[encoded data removed]",
      "text/plain": [
       "<Figure size 1440x720 with 1 Axes>"
      ]
     },
     "metadata": {
      "needs_background": "light"
     },
     "output_type": "display_data"
    }
   ],
   "source": [
    "#построим график по 5 самым прибыльным платформам\n",
    "ap.query('platform==\"PS4\" or platform==\"PS3\" or platform==\"X360\" or platform==\"3DS\" or platform==\"XOne\"')\\\n",
    ".boxplot(column=['sales_all'], by = ['platform'], figsize=(20,10));\n",
    "plt.ylim(-1, 3);"
   ]
  },
  {
   "cell_type": "markdown",
   "metadata": {},
   "source": [
    "Т.к. мы определили наиболее потенциально прибыльными платформы PS4 и XOne, полезно будет сравнить их с предыдущими версиями (PS3 и X360). Видно, что X360 была прибыльней, чем PS3, за тот же период времени (промежуток \"жизни\" обеих платформ совпадает). Однако на данный момент PS4 всё же обгоняет XOne по продажам."
   ]
  },
  {
   "cell_type": "markdown",
   "metadata": {},
   "source": [
    "###  Влияние на продажи внутри одной популярной платформы отзывов пользователей и критиков"
   ]
  },
  {
   "cell_type": "markdown",
   "metadata": {},
   "source": [
    "Рассмотрим, как влияют на продажи отзывы пользователей и критиков по PS4. Создадим новую переменную, где удалим пропуски в столбце 'user_score', и приведём их к типу float."
   ]
  },
  {
   "cell_type": "markdown",
   "metadata": {},
   "source": [
    "Отзывы пользователей."
   ]
  },
  {
   "cell_type": "code",
   "execution_count": 34,
   "metadata": {},
   "outputs": [
    {
     "name": "stdout",
     "output_type": "stream",
     "text": [
      "Корреляция =  -0.031957110204556376\n"
     ]
    },
    {
     "data": {
      "image/png": "[encoded data removed]",
      "text/plain": [
       "<Figure size 1152x432 with 1 Axes>"
      ]
     },
     "metadata": {
      "needs_background": "light"
     },
     "output_type": "display_data"
    }
   ],
   "source": [
    "ap_score = ap.dropna(subset=['user_score']).reset_index(drop=True)\n",
    "ap_score['user_score'] = ap_score['user_score'].astype(float)\n",
    "ap_score.query('platform==\"PS4\"').plot(x='user_score', y='sales_all', kind='scatter', figsize=(16,6),\\\n",
    "          title='Зависимость продаж от оценки пользователей PS4');\n",
    "print('Корреляция = ',\\\n",
    "      ap_score.loc[ap_score['platform']=='PS4', 'user_score']\\\n",
    "      .corr(ap_score.loc[ap_score['platform']=='PS4', 'sales_all']))"
   ]
  },
  {
   "cell_type": "markdown",
   "metadata": {},
   "source": [
    "Отзывы критиков."
   ]
  },
  {
   "cell_type": "code",
   "execution_count": 35,
   "metadata": {},
   "outputs": [
    {
     "name": "stdout",
     "output_type": "stream",
     "text": [
      "Корреляция =  0.40589480145836687\n"
     ]
    },
    {
     "data": {
      "image/png": "[encoded data removed]",
      "text/plain": [
       "<Figure size 1152x432 with 1 Axes>"
      ]
     },
     "metadata": {
      "needs_background": "light"
     },
     "output_type": "display_data"
    }
   ],
   "source": [
    "ap_score.query('platform==\"PS4\"').plot(x='critic_score', y='sales_all', kind='scatter', figsize=(16,6),\\\n",
    "          title='Зависимость продаж от оценки критиков PS4');\n",
    "print('Корреляция = ',\\\n",
    "      ap_score.loc[ap_score['platform']=='PS4', 'critic_score']\\\n",
    "      .corr(ap_score.loc[ap_score['platform']=='PS4', 'sales_all']))"
   ]
  },
  {
   "cell_type": "markdown",
   "metadata": {},
   "source": [
    "Можно сделать вывод, что отзывы пользователей почти не влияют на продажу игр, тогда как отзывы критиков оказывают более существенное влияние. Но в обоих случаях корреляция недостаточно высока, чтобы с точностью сделать выводы. К тому же на успех игры влияет множество других факторов (стоимость игры, доступность платформы населению) и оценки пользователей и критиков здесь не самый значимый параметр. Рассмотрим размер корреляции для XOne:"
   ]
  },
  {
   "cell_type": "code",
   "execution_count": 36,
   "metadata": {},
   "outputs": [
    {
     "name": "stdout",
     "output_type": "stream",
     "text": [
      "Корреляция (оценка пользователей) =  -0.06892505328279414\n",
      "Корреляция (оценка критиков) =  0.41042203561296375\n"
     ]
    }
   ],
   "source": [
    "print('Корреляция (оценка пользователей) = ',\\\n",
    "      ap_score.loc[ap_score['platform']=='XOne', 'user_score']\\\n",
    "      .corr(ap_score.loc[ap_score['platform']=='XOne', 'sales_all']))\n",
    "print('Корреляция (оценка критиков) = ',\\\n",
    "      ap_score.loc[ap_score['platform']=='XOne', 'critic_score']\\\n",
    "      .corr(ap_score.loc[ap_score['platform']=='XOne', 'sales_all']))"
   ]
  },
  {
   "cell_type": "markdown",
   "metadata": {},
   "source": [
    "Результаты примерно такие же. Можно сказать, что это верно и для остальных платформ."
   ]
  },
  {
   "cell_type": "markdown",
   "metadata": {},
   "source": [
    "### Распределение игр по жанрам"
   ]
  },
  {
   "cell_type": "code",
   "execution_count": 37,
   "metadata": {},
   "outputs": [
    {
     "data": {
      "image/png": "[encoded data removed]",
      "text/plain": [
       "<Figure size 1152x432 with 1 Axes>"
      ]
     },
     "metadata": {
      "needs_background": "light"
     },
     "output_type": "display_data"
    }
   ],
   "source": [
    "#изучим распределение игр по жанрам\n",
    "ap['genre'].hist(bins=30, figsize=(16,6));"
   ]
  },
  {
   "cell_type": "code",
   "execution_count": 38,
   "metadata": {},
   "outputs": [
    {
     "data": {
      "image/png": "[encoded data removed]",
      "text/plain": [
       "<Figure size 1440x720 with 1 Axes>"
      ]
     },
     "metadata": {
      "needs_background": "light"
     },
     "output_type": "display_data"
    }
   ],
   "source": [
    "#посмотрим, какие жанры наиболее прибыльны\n",
    "ap.boxplot(column=['sales_all'], by = ['genre'], figsize=(20,10));\n",
    "plt.ylim(-1,5);"
   ]
  },
  {
   "cell_type": "markdown",
   "metadata": {},
   "source": [
    "Игры жанра Action занимают лидирующие позиции по количеству выпускаемых игр (скорее всего, потому что многие игры можно подвести под эту категорию), на втором месте Role-Playing. Самый прибыльный жанр - Shooter, менее прибыльный - Adventure и Puzzle."
   ]
  },
  {
   "cell_type": "markdown",
   "metadata": {},
   "source": [
    "## Портрет пользователя каждого региона"
   ]
  },
  {
   "cell_type": "markdown",
   "metadata": {},
   "source": [
    "### NA"
   ]
  },
  {
   "cell_type": "code",
   "execution_count": 39,
   "metadata": {},
   "outputs": [
    {
     "data": {
      "image/png": "[encoded data removed]",
      "text/plain": [
       "<Figure size 720x360 with 1 Axes>"
      ]
     },
     "metadata": {
      "needs_background": "light"
     },
     "output_type": "display_data"
    },
    {
     "data": {
      "image/png": "[encoded data removed]",
      "text/plain": [
       "<Figure size 720x360 with 1 Axes>"
      ]
     },
     "metadata": {
      "needs_background": "light"
     },
     "output_type": "display_data"
    },
    {
     "data": {
      "image/png": "[encoded data removed]",
      "text/plain": [
       "<Figure size 720x360 with 1 Axes>"
      ]
     },
     "metadata": {
      "needs_background": "light"
     },
     "output_type": "display_data"
    }
   ],
   "source": [
    "ap.pivot_table(index='platform',\\\n",
    "    values='na_sales', aggfunc='sum').plot(kind='bar', grid=True, title='NA_platform', figsize=(10,5))\n",
    "ap.pivot_table(index='genre',\\\n",
    "    values='na_sales', aggfunc='sum').plot(kind='bar', grid=True, title='NA_genre', figsize=(10,5))\n",
    "ap.pivot_table(index='rating',\\\n",
    "    values='na_sales', aggfunc='sum').plot(kind='bar', grid=True, title='NA_rating', figsize=(10,5))\n",
    "plt.show()"
   ]
  },
  {
   "cell_type": "markdown",
   "metadata": {},
   "source": [
    "Самые популярные платформы в NA - X360 и XOne, им немного уступают PS3 и PS4. Самые популярные жанры - Action и Shooter(который по сути является разновидностью Action). Можно сказать, что рейтинг ESRB не влияет на продажи: количество продаж с рейтингом 17+ лидирует."
   ]
  },
  {
   "cell_type": "markdown",
   "metadata": {},
   "source": [
    "### EU"
   ]
  },
  {
   "cell_type": "code",
   "execution_count": 40,
   "metadata": {},
   "outputs": [
    {
     "data": {
      "image/png": "[encoded data removed]",
      "text/plain": [
       "<Figure size 720x360 with 1 Axes>"
      ]
     },
     "metadata": {
      "needs_background": "light"
     },
     "output_type": "display_data"
    },
    {
     "data": {
      "image/png": "[encoded data removed]",
      "text/plain": [
       "<Figure size 720x360 with 1 Axes>"
      ]
     },
     "metadata": {
      "needs_background": "light"
     },
     "output_type": "display_data"
    },
    {
     "data": {
      "image/png": "[encoded data removed]",
      "text/plain": [
       "<Figure size 720x360 with 1 Axes>"
      ]
     },
     "metadata": {
      "needs_background": "light"
     },
     "output_type": "display_data"
    }
   ],
   "source": [
    "ap.pivot_table(index='platform',\\\n",
    "    values='eu_sales', aggfunc='sum').plot(kind='bar', grid=True, title='EU_platform', figsize=(10,5))\n",
    "ap.pivot_table(index='genre',\\\n",
    "    values='eu_sales', aggfunc='sum').plot(kind='bar', grid=True, title='EU_genre', figsize=(10,5))\n",
    "ap.pivot_table(index='rating',\\\n",
    "    values='eu_sales', aggfunc='sum').plot(kind='bar', grid=True, title='EU_rating', figsize=(10,5))\n",
    "plt.show()"
   ]
  },
  {
   "cell_type": "markdown",
   "metadata": {},
   "source": [
    "Абсолютными лидерами региона являются PS3 и PS4, им значительно уступают X360, XOne и 3DS. Среди жанров популярны те же Action и Shooter. Также количество продаж с рейтингом 17+ на первом месте."
   ]
  },
  {
   "cell_type": "markdown",
   "metadata": {},
   "source": [
    "### JP"
   ]
  },
  {
   "cell_type": "code",
   "execution_count": 41,
   "metadata": {},
   "outputs": [
    {
     "data": {
      "image/png": "[encoded data removed]",
      "text/plain": [
       "<Figure size 720x360 with 1 Axes>"
      ]
     },
     "metadata": {
      "needs_background": "light"
     },
     "output_type": "display_data"
    },
    {
     "data": {
      "image/png": "[encoded data removed]",
      "text/plain": [
       "<Figure size 720x360 with 1 Axes>"
      ]
     },
     "metadata": {
      "needs_background": "light"
     },
     "output_type": "display_data"
    },
    {
     "data": {
      "image/png": "[encoded data removed]",
      "text/plain": [
       "<Figure size 720x360 with 1 Axes>"
      ]
     },
     "metadata": {
      "needs_background": "light"
     },
     "output_type": "display_data"
    }
   ],
   "source": [
    "ap.pivot_table(index='platform',\\\n",
    "    values='jp_sales', aggfunc='sum').plot(kind='bar', grid=True, title='JP_platform', figsize=(10,5))\n",
    "ap.pivot_table(index='genre',\\\n",
    "    values='jp_sales', aggfunc='sum').plot(kind='bar', grid=True, title='JP_genre', figsize=(10,5))\n",
    "ap.pivot_table(index='rating',\\\n",
    "    values='jp_sales', aggfunc='sum').plot(kind='bar', grid=True, title='JP_rating', figsize=(10,5))\n",
    "plt.show()"
   ]
  },
  {
   "cell_type": "markdown",
   "metadata": {},
   "source": [
    "Тут ситуация значительно отличается от двух предыдущих регионов: 3DS - абсолютный лидер среди платформ, PS3, занимающая второе место, сильно уступает в доле рынка, а X360 и XOne совсем не популярны. Жанр Action тоже сдаёт позиции, и Role-Playing занимает первое место. Больше всего игр, которым рейтинг ESRB не присвоен: в Японии своя, более строгая, система возрастной оценки игр. Чтоб попасть на японский рынок, необходимо пройти валидацию по местной рейтинговой системе."
   ]
  },
  {
   "cell_type": "markdown",
   "metadata": {},
   "source": [
    "## Проверка гипотез"
   ]
  },
  {
   "cell_type": "markdown",
   "metadata": {},
   "source": [
    "Т.к. мы проверяем гипотезы о равенстве среднего двух генеральных совокупностей по взятым из них выборкам, будем использовать метод scipy.stats.ttest_ind: \n",
    "1. у нас дано два массива данных\n",
    "2. Генеральные совокупности не зависят друг от друга\n",
    "3. Согласно ЦПТ, распределение нормальное, т. к. выборки достаточного размера"
   ]
  },
  {
   "cell_type": "markdown",
   "metadata": {},
   "source": [
    "### Гипотеза-1\n",
    " H₀: Средние пользовательские рейтинги платформ Xbox One и PC одинаковые; \n",
    " \n",
    " H₁: Средние пользовательские рейтинги платформ Xbox One и PC разные;"
   ]
  },
  {
   "cell_type": "markdown",
   "metadata": {},
   "source": [
    "Создадим переменные для значений столбца user_score в соответствии с нужной платформой. Возьмём датафрейм ap_score, где уже удалены пропущенные значения. На основании этих выборок проведём тест."
   ]
  },
  {
   "cell_type": "code",
   "execution_count": 42,
   "metadata": {},
   "outputs": [
    {
     "data": {
      "text/plain": [
       "count    206.000000\n",
       "mean       6.428641\n",
       "std        1.664465\n",
       "min        1.400000\n",
       "25%        5.500000\n",
       "50%        6.800000\n",
       "75%        7.700000\n",
       "max        9.300000\n",
       "Name: user_score, dtype: float64"
      ]
     },
     "execution_count": 42,
     "metadata": {},
     "output_type": "execute_result"
    }
   ],
   "source": [
    "#Оценим распределение и объём выборок\n",
    "PC = ap_score.loc[ap_score['platform']=='PC', 'user_score']\n",
    "PC.describe()"
   ]
  },
  {
   "cell_type": "code",
   "execution_count": 43,
   "metadata": {},
   "outputs": [
    {
     "data": {
      "text/plain": [
       "count    182.000000\n",
       "mean       6.521429\n",
       "std        1.380941\n",
       "min        1.600000\n",
       "25%        5.800000\n",
       "50%        6.800000\n",
       "75%        7.500000\n",
       "max        9.200000\n",
       "Name: user_score, dtype: float64"
      ]
     },
     "execution_count": 43,
     "metadata": {},
     "output_type": "execute_result"
    }
   ],
   "source": [
    "XOne = ap_score.loc[ap_score['platform']=='XOne', 'user_score']\n",
    "XOne.describe()"
   ]
  },
  {
   "cell_type": "code",
   "execution_count": 44,
   "metadata": {},
   "outputs": [
    {
     "name": "stdout",
     "output_type": "stream",
     "text": [
      "p-значение: 0.5535080500643661\n",
      "Не получилось отвергнуть нулевую гипотезу\n"
     ]
    }
   ],
   "source": [
    "#Выборки и стандартное отклонение не сильно отличаются, оставим equal_var=True\n",
    "results = st.ttest_ind(PC, XOne)\n",
    "alpha = 0.05\n",
    "print('p-значение:', results.pvalue)\n",
    "\n",
    "if results.pvalue < alpha:\n",
    "    print(\"Отвергаем нулевую гипотезу\")\n",
    "else:\n",
    "    print(\"Не получилось отвергнуть нулевую гипотезу\") "
   ]
  },
  {
   "cell_type": "markdown",
   "metadata": {},
   "source": [
    "### Гипотеза-2\n",
    "H₀: Средние пользовательские рейтинги жанров Action и Sports разные;\n",
    "\n",
    "H₁: Средние пользовательские рейтинги жанров Action и Sports одинаковые;"
   ]
  },
  {
   "cell_type": "markdown",
   "metadata": {},
   "source": [
    "Гипотеза-2\n",
    "\n",
    "H₀: Средние пользовательские рейтинги жанров Action и Sports одинаковые;\n",
    "\n",
    "H₁: Средние пользовательские рейтинги жанров Action и Sports разные;"
   ]
  },
  {
   "cell_type": "code",
   "execution_count": 45,
   "metadata": {},
   "outputs": [
    {
     "data": {
      "text/plain": [
       "count    523.000000\n",
       "mean       6.825048\n",
       "std        1.374440\n",
       "min        1.600000\n",
       "25%        6.250000\n",
       "50%        7.100000\n",
       "75%        7.800000\n",
       "max        9.100000\n",
       "Name: user_score, dtype: float64"
      ]
     },
     "execution_count": 45,
     "metadata": {},
     "output_type": "execute_result"
    }
   ],
   "source": [
    "act = ap_score.loc[ap_score['genre']=='Action', 'user_score']\n",
    "act.describe()"
   ]
  },
  {
   "cell_type": "code",
   "execution_count": 46,
   "metadata": {},
   "outputs": [
    {
     "data": {
      "text/plain": [
       "count    195.000000\n",
       "mean       5.455897\n",
       "std        1.738646\n",
       "min        0.200000\n",
       "25%        4.300000\n",
       "50%        5.700000\n",
       "75%        6.800000\n",
       "max        8.800000\n",
       "Name: user_score, dtype: float64"
      ]
     },
     "execution_count": 46,
     "metadata": {},
     "output_type": "execute_result"
    }
   ],
   "source": [
    "sports = ap_score.loc[ap_score['genre']=='Sports', 'user_score']\n",
    "sports.describe()"
   ]
  },
  {
   "cell_type": "code",
   "execution_count": 47,
   "metadata": {},
   "outputs": [
    {
     "name": "stdout",
     "output_type": "stream",
     "text": [
      "p-значение: 4.24307776572644e-20\n",
      "Отвергаем нулевую гипотезу\n"
     ]
    }
   ],
   "source": [
    "#Выборки отличаются значительно, поэтому обозначим equal_var=False\n",
    "results_g = st.ttest_ind(act, sports, equal_var=False)\n",
    "alpha = 0.05\n",
    "print('p-значение:', results_g.pvalue)\n",
    "\n",
    "if results_g.pvalue < alpha:\n",
    "    print(\"Отвергаем нулевую гипотезу\")\n",
    "else:\n",
    "    print(\"Не получилось отвергнуть нулевую гипотезу\")"
   ]
  },
  {
   "cell_type": "markdown",
   "metadata": {},
   "source": [
    "В первом случае нулевую гипотезу - Средние пользовательские рейтинги платформ Xbox One и PC одинаковые - не удалось отвергнуть, во втором случае гипотезу Средние пользовательские рейтинги жанров Action и Sports одинаковые пришлось отвергнуть - жанры экшн и спорт имеют разные средние пользовательские рейтинги."
   ]
  },
  {
   "cell_type": "markdown",
   "metadata": {},
   "source": [
    "# Общий вывод"
   ]
  },
  {
   "cell_type": "markdown",
   "metadata": {},
   "source": [
    "В ходе проекта был проведён анализ данных компьютерных игр за актуальный период - последние 5 лет и сделаны следующие выводы:\n",
    "1. Наиболее перспективные платформы - Playstation 4 и Xbox One: они достаточно недавно созданы и сейчас находятся в стадии роста и развития; также компьютерные игры начинают снова обретать популярность после спада продаж;\n",
    "2. Отзывы критиков более выраженно влияют на продажи игр, нежели отзывы пользователей;\n",
    "3. Больше всего выпускается игр жанра экшн, самый прибыльный жанр - шутер;\n",
    "4. Страны Северной Америки и Европы примерно похожи по игровым предпочтениям, но в Америке больше предпочитают Xbox, а в Европе - Playstation. Из жанров популярны экшн и шутер и игры с рейтингом \"М\". На Японском рынке же ситуация совсем иная: здесь предпочитают приставку Nintendo, жанр ролевые игры с рейтингом \"Е\" и \"Т\".\n",
    "5. Проверили две гипотезы и выяснили, что средние пользовательские рейтинги платформ Xbox One и PC одинаковые, а средние пользовательские рейтинги жанров Action и Sports разные."
   ]
  }
 ],
 "metadata": {
  "ExecuteTimeLog": [
   {
    "duration": 883,
    "start_time": "2022-08-22T23:01:31.440Z"
   },
   {
    "duration": 86,
    "start_time": "2022-08-22T23:01:43.834Z"
   },
   {
    "duration": 21,
    "start_time": "2022-08-22T23:02:16.897Z"
   },
   {
    "duration": 530,
    "start_time": "2022-08-23T08:44:11.404Z"
   },
   {
    "duration": 13,
    "start_time": "2022-08-23T08:44:14.976Z"
   },
   {
    "duration": 4,
    "start_time": "2022-08-23T08:45:14.910Z"
   },
   {
    "duration": 5,
    "start_time": "2022-08-23T08:45:37.921Z"
   },
   {
    "duration": 84,
    "start_time": "2022-08-23T08:48:28.153Z"
   },
   {
    "duration": 19,
    "start_time": "2022-08-23T08:48:52.751Z"
   },
   {
    "duration": 36,
    "start_time": "2022-08-23T08:52:01.496Z"
   },
   {
    "duration": 17,
    "start_time": "2022-08-23T08:52:37.222Z"
   },
   {
    "duration": 25,
    "start_time": "2022-08-23T08:55:29.757Z"
   },
   {
    "duration": 12,
    "start_time": "2022-08-23T08:59:37.612Z"
   },
   {
    "duration": 10,
    "start_time": "2022-08-23T09:00:54.901Z"
   },
   {
    "duration": 10,
    "start_time": "2022-08-23T09:01:51.528Z"
   },
   {
    "duration": 3,
    "start_time": "2022-08-23T09:02:28.539Z"
   },
   {
    "duration": 14,
    "start_time": "2022-08-23T09:02:38.138Z"
   },
   {
    "duration": 16,
    "start_time": "2022-08-23T09:07:51.103Z"
   },
   {
    "duration": 13,
    "start_time": "2022-08-23T09:08:10.033Z"
   },
   {
    "duration": 18,
    "start_time": "2022-08-23T09:08:22.415Z"
   },
   {
    "duration": 5,
    "start_time": "2022-08-23T09:15:59.508Z"
   },
   {
    "duration": 17,
    "start_time": "2022-08-23T09:17:14.243Z"
   },
   {
    "duration": 16,
    "start_time": "2022-08-23T09:17:28.569Z"
   },
   {
    "duration": 16,
    "start_time": "2022-08-23T09:18:59.739Z"
   },
   {
    "duration": 16,
    "start_time": "2022-08-23T09:19:06.277Z"
   },
   {
    "duration": 18,
    "start_time": "2022-08-23T09:19:32.251Z"
   },
   {
    "duration": 18,
    "start_time": "2022-08-23T09:23:03.030Z"
   },
   {
    "duration": 5,
    "start_time": "2022-08-23T09:27:18.795Z"
   },
   {
    "duration": 6,
    "start_time": "2022-08-23T09:27:38.775Z"
   },
   {
    "duration": 5,
    "start_time": "2022-08-23T09:29:04.868Z"
   },
   {
    "duration": 10,
    "start_time": "2022-08-23T09:29:14.664Z"
   },
   {
    "duration": 8,
    "start_time": "2022-08-23T09:29:30.735Z"
   },
   {
    "duration": 7,
    "start_time": "2022-08-23T09:29:55.119Z"
   },
   {
    "duration": 7,
    "start_time": "2022-08-23T09:30:34.021Z"
   },
   {
    "duration": 8,
    "start_time": "2022-08-23T09:30:59.793Z"
   },
   {
    "duration": 8,
    "start_time": "2022-08-23T09:31:06.018Z"
   },
   {
    "duration": 6,
    "start_time": "2022-08-23T09:31:25.847Z"
   },
   {
    "duration": 7,
    "start_time": "2022-08-23T09:31:43.679Z"
   },
   {
    "duration": 8,
    "start_time": "2022-08-23T09:32:15.909Z"
   },
   {
    "duration": 9,
    "start_time": "2022-08-23T09:32:22.094Z"
   },
   {
    "duration": 7,
    "start_time": "2022-08-23T09:32:39.526Z"
   },
   {
    "duration": 6,
    "start_time": "2022-08-23T09:34:50.669Z"
   },
   {
    "duration": 7,
    "start_time": "2022-08-23T09:35:05.361Z"
   },
   {
    "duration": 7,
    "start_time": "2022-08-23T09:37:32.108Z"
   },
   {
    "duration": 6,
    "start_time": "2022-08-23T09:37:59.360Z"
   },
   {
    "duration": 5,
    "start_time": "2022-08-23T09:38:48.313Z"
   },
   {
    "duration": 5,
    "start_time": "2022-08-23T09:41:57.911Z"
   },
   {
    "duration": 8,
    "start_time": "2022-08-23T09:42:07.457Z"
   },
   {
    "duration": 12,
    "start_time": "2022-08-23T09:42:47.577Z"
   },
   {
    "duration": 8,
    "start_time": "2022-08-23T09:43:57.811Z"
   },
   {
    "duration": 9,
    "start_time": "2022-08-23T09:44:24.209Z"
   },
   {
    "duration": 13,
    "start_time": "2022-08-23T09:48:34.627Z"
   },
   {
    "duration": 10,
    "start_time": "2022-08-23T09:48:56.150Z"
   },
   {
    "duration": 13,
    "start_time": "2022-08-23T09:49:03.274Z"
   },
   {
    "duration": 13,
    "start_time": "2022-08-23T09:50:11.516Z"
   },
   {
    "duration": 785,
    "start_time": "2022-08-23T09:58:18.034Z"
   },
   {
    "duration": 915,
    "start_time": "2022-08-23T09:59:14.977Z"
   },
   {
    "duration": 865,
    "start_time": "2022-08-23T10:01:20.924Z"
   },
   {
    "duration": 479,
    "start_time": "2022-08-23T10:02:23.480Z"
   },
   {
    "duration": 13,
    "start_time": "2022-08-23T10:02:23.960Z"
   },
   {
    "duration": 20,
    "start_time": "2022-08-23T10:02:23.974Z"
   },
   {
    "duration": 20,
    "start_time": "2022-08-23T10:02:23.996Z"
   },
   {
    "duration": 17,
    "start_time": "2022-08-23T10:02:24.018Z"
   },
   {
    "duration": 1243,
    "start_time": "2022-08-23T10:02:24.037Z"
   },
   {
    "duration": 0,
    "start_time": "2022-08-23T10:02:25.281Z"
   },
   {
    "duration": 5,
    "start_time": "2022-08-23T10:02:40.783Z"
   },
   {
    "duration": 7,
    "start_time": "2022-08-23T10:03:02.244Z"
   },
   {
    "duration": 19,
    "start_time": "2022-08-23T10:03:13.309Z"
   },
   {
    "duration": 19,
    "start_time": "2022-08-23T10:03:46.921Z"
   },
   {
    "duration": 12,
    "start_time": "2022-08-23T10:20:02.909Z"
   },
   {
    "duration": 569,
    "start_time": "2022-08-23T10:20:19.341Z"
   },
   {
    "duration": 18,
    "start_time": "2022-08-23T10:21:17.491Z"
   },
   {
    "duration": 21,
    "start_time": "2022-08-23T10:21:53.761Z"
   },
   {
    "duration": 5,
    "start_time": "2022-08-23T10:24:15.446Z"
   },
   {
    "duration": 141,
    "start_time": "2022-08-23T10:26:40.214Z"
   },
   {
    "duration": 126,
    "start_time": "2022-08-23T10:26:58.463Z"
   },
   {
    "duration": 266,
    "start_time": "2022-08-23T10:27:29.774Z"
   },
   {
    "duration": 28,
    "start_time": "2022-08-23T10:38:29.721Z"
   },
   {
    "duration": 69,
    "start_time": "2022-08-23T10:38:45.084Z"
   },
   {
    "duration": 19,
    "start_time": "2022-08-23T10:40:02.622Z"
   },
   {
    "duration": 15,
    "start_time": "2022-08-23T10:44:38.120Z"
   },
   {
    "duration": 13,
    "start_time": "2022-08-23T10:47:28.518Z"
   },
   {
    "duration": 13,
    "start_time": "2022-08-23T10:49:24.287Z"
   },
   {
    "duration": 457,
    "start_time": "2022-08-23T10:55:22.661Z"
   },
   {
    "duration": 12,
    "start_time": "2022-08-23T10:55:23.119Z"
   },
   {
    "duration": 12,
    "start_time": "2022-08-23T10:55:23.133Z"
   },
   {
    "duration": 14,
    "start_time": "2022-08-23T10:55:23.148Z"
   },
   {
    "duration": 18,
    "start_time": "2022-08-23T10:55:23.164Z"
   },
   {
    "duration": 23,
    "start_time": "2022-08-23T10:55:23.211Z"
   },
   {
    "duration": 5,
    "start_time": "2022-08-23T10:55:23.236Z"
   },
   {
    "duration": 22,
    "start_time": "2022-08-23T10:55:23.243Z"
   },
   {
    "duration": 481,
    "start_time": "2022-08-23T10:55:23.267Z"
   },
   {
    "duration": 17,
    "start_time": "2022-08-23T10:55:23.751Z"
   },
   {
    "duration": 27492,
    "start_time": "2022-08-23T10:55:23.769Z"
   },
   {
    "duration": 89126,
    "start_time": "2022-08-23T10:57:12.867Z"
   },
   {
    "duration": 28150,
    "start_time": "2022-08-23T10:58:56.397Z"
   },
   {
    "duration": 69,
    "start_time": "2022-08-23T11:09:20.383Z"
   },
   {
    "duration": 62,
    "start_time": "2022-08-23T11:09:33.263Z"
   },
   {
    "duration": 3,
    "start_time": "2022-08-23T11:09:39.512Z"
   },
   {
    "duration": 434,
    "start_time": "2022-08-23T11:09:49.547Z"
   },
   {
    "duration": 12,
    "start_time": "2022-08-23T11:09:49.983Z"
   },
   {
    "duration": 20,
    "start_time": "2022-08-23T11:09:49.996Z"
   },
   {
    "duration": 30,
    "start_time": "2022-08-23T11:09:50.018Z"
   },
   {
    "duration": 29,
    "start_time": "2022-08-23T11:09:50.051Z"
   },
   {
    "duration": 35,
    "start_time": "2022-08-23T11:09:50.081Z"
   },
   {
    "duration": 11,
    "start_time": "2022-08-23T11:09:50.117Z"
   },
   {
    "duration": 18,
    "start_time": "2022-08-23T11:09:50.129Z"
   },
   {
    "duration": 477,
    "start_time": "2022-08-23T11:09:50.148Z"
   },
   {
    "duration": 12,
    "start_time": "2022-08-23T11:09:50.627Z"
   },
   {
    "duration": 88,
    "start_time": "2022-08-23T11:09:50.640Z"
   },
   {
    "duration": 830,
    "start_time": "2022-08-23T11:13:10.105Z"
   },
   {
    "duration": 14,
    "start_time": "2022-08-23T11:14:28.947Z"
   },
   {
    "duration": 7,
    "start_time": "2022-08-23T11:15:01.857Z"
   },
   {
    "duration": 12,
    "start_time": "2022-08-23T11:15:25.285Z"
   },
   {
    "duration": 6,
    "start_time": "2022-08-23T11:24:50.107Z"
   },
   {
    "duration": 5,
    "start_time": "2022-08-23T11:25:17.635Z"
   },
   {
    "duration": 5,
    "start_time": "2022-08-23T11:25:40.181Z"
   },
   {
    "duration": 16,
    "start_time": "2022-08-23T11:28:07.301Z"
   },
   {
    "duration": 28,
    "start_time": "2022-08-23T11:30:12.141Z"
   },
   {
    "duration": 27313,
    "start_time": "2022-08-23T11:30:26.010Z"
   },
   {
    "duration": 417,
    "start_time": "2022-08-23T11:31:22.750Z"
   },
   {
    "duration": 13,
    "start_time": "2022-08-23T11:31:23.168Z"
   },
   {
    "duration": 11,
    "start_time": "2022-08-23T11:31:23.182Z"
   },
   {
    "duration": 17,
    "start_time": "2022-08-23T11:31:23.195Z"
   },
   {
    "duration": 17,
    "start_time": "2022-08-23T11:31:23.214Z"
   },
   {
    "duration": 23,
    "start_time": "2022-08-23T11:31:23.233Z"
   },
   {
    "duration": 5,
    "start_time": "2022-08-23T11:31:23.258Z"
   },
   {
    "duration": 16,
    "start_time": "2022-08-23T11:31:23.264Z"
   },
   {
    "duration": 485,
    "start_time": "2022-08-23T11:31:23.310Z"
   },
   {
    "duration": 18,
    "start_time": "2022-08-23T11:31:23.796Z"
   },
   {
    "duration": 6,
    "start_time": "2022-08-23T11:31:23.816Z"
   },
   {
    "duration": 88,
    "start_time": "2022-08-23T11:33:26.792Z"
   },
   {
    "duration": 128,
    "start_time": "2022-08-23T11:33:46.070Z"
   },
   {
    "duration": 294,
    "start_time": "2022-08-23T11:34:42.317Z"
   },
   {
    "duration": 10,
    "start_time": "2022-08-23T11:46:18.526Z"
   },
   {
    "duration": 14,
    "start_time": "2022-08-23T11:46:27.050Z"
   },
   {
    "duration": 72,
    "start_time": "2022-08-23T11:49:10.365Z"
   },
   {
    "duration": 16,
    "start_time": "2022-08-23T11:49:46.747Z"
   },
   {
    "duration": 15,
    "start_time": "2022-08-23T11:50:43.387Z"
   },
   {
    "duration": 16,
    "start_time": "2022-08-23T11:51:01.481Z"
   },
   {
    "duration": 136,
    "start_time": "2022-08-23T11:52:58.269Z"
   },
   {
    "duration": 12,
    "start_time": "2022-08-23T11:53:33.879Z"
   },
   {
    "duration": 1206,
    "start_time": "2022-08-23T11:59:31.073Z"
   },
   {
    "duration": 2,
    "start_time": "2022-08-23T12:04:58.904Z"
   },
   {
    "duration": 1142,
    "start_time": "2022-08-23T12:06:23.559Z"
   },
   {
    "duration": 149,
    "start_time": "2022-08-23T12:07:12.071Z"
   },
   {
    "duration": 5,
    "start_time": "2022-08-23T12:08:37.595Z"
   },
   {
    "duration": 483,
    "start_time": "2022-08-23T12:08:48.607Z"
   },
   {
    "duration": 12,
    "start_time": "2022-08-23T12:08:49.092Z"
   },
   {
    "duration": 13,
    "start_time": "2022-08-23T12:08:49.105Z"
   },
   {
    "duration": 17,
    "start_time": "2022-08-23T12:08:49.120Z"
   },
   {
    "duration": 18,
    "start_time": "2022-08-23T12:08:49.138Z"
   },
   {
    "duration": 22,
    "start_time": "2022-08-23T12:08:49.157Z"
   },
   {
    "duration": 5,
    "start_time": "2022-08-23T12:08:49.180Z"
   },
   {
    "duration": 27,
    "start_time": "2022-08-23T12:08:49.187Z"
   },
   {
    "duration": 8,
    "start_time": "2022-08-23T12:08:49.216Z"
   },
   {
    "duration": 374,
    "start_time": "2022-08-23T12:08:49.226Z"
   },
   {
    "duration": 1249,
    "start_time": "2022-08-23T12:08:49.602Z"
   },
   {
    "duration": 3,
    "start_time": "2022-08-23T12:09:08.770Z"
   },
   {
    "duration": 148,
    "start_time": "2022-08-23T12:09:13.486Z"
   },
   {
    "duration": 137,
    "start_time": "2022-08-23T12:09:19.464Z"
   },
   {
    "duration": 495,
    "start_time": "2022-08-23T12:09:30.584Z"
   },
   {
    "duration": 13,
    "start_time": "2022-08-23T12:09:31.081Z"
   },
   {
    "duration": 21,
    "start_time": "2022-08-23T12:09:31.096Z"
   },
   {
    "duration": 24,
    "start_time": "2022-08-23T12:09:31.119Z"
   },
   {
    "duration": 19,
    "start_time": "2022-08-23T12:09:31.144Z"
   },
   {
    "duration": 23,
    "start_time": "2022-08-23T12:09:31.164Z"
   },
   {
    "duration": 3,
    "start_time": "2022-08-23T12:09:31.189Z"
   },
   {
    "duration": 35,
    "start_time": "2022-08-23T12:09:31.193Z"
   },
   {
    "duration": 19,
    "start_time": "2022-08-23T12:09:31.229Z"
   },
   {
    "duration": 374,
    "start_time": "2022-08-23T12:09:31.250Z"
   },
   {
    "duration": 1289,
    "start_time": "2022-08-23T12:09:31.625Z"
   },
   {
    "duration": 33,
    "start_time": "2022-08-23T12:09:57.452Z"
   },
   {
    "duration": 138,
    "start_time": "2022-08-23T12:10:54.609Z"
   },
   {
    "duration": 143,
    "start_time": "2022-08-23T12:13:46.703Z"
   },
   {
    "duration": 101,
    "start_time": "2022-08-23T12:14:20.088Z"
   },
   {
    "duration": 114,
    "start_time": "2022-08-23T12:14:27.094Z"
   },
   {
    "duration": 133,
    "start_time": "2022-08-23T12:14:37.469Z"
   },
   {
    "duration": 94,
    "start_time": "2022-08-23T12:17:04.782Z"
   },
   {
    "duration": 4,
    "start_time": "2022-08-23T12:19:08.868Z"
   },
   {
    "duration": 141,
    "start_time": "2022-08-23T12:19:38.096Z"
   },
   {
    "duration": 19,
    "start_time": "2022-08-23T12:19:57.864Z"
   },
   {
    "duration": 19,
    "start_time": "2022-08-23T12:21:00.840Z"
   },
   {
    "duration": 125,
    "start_time": "2022-08-23T12:21:07.523Z"
   },
   {
    "duration": 141,
    "start_time": "2022-08-23T12:22:41.521Z"
   },
   {
    "duration": 48,
    "start_time": "2022-08-23T12:24:41.842Z"
   },
   {
    "duration": 130,
    "start_time": "2022-08-23T12:24:56.647Z"
   },
   {
    "duration": 146,
    "start_time": "2022-08-23T12:25:34.699Z"
   },
   {
    "duration": 135,
    "start_time": "2022-08-23T12:26:36.054Z"
   },
   {
    "duration": 194,
    "start_time": "2022-08-23T12:27:20.867Z"
   },
   {
    "duration": 136,
    "start_time": "2022-08-23T12:28:01.950Z"
   },
   {
    "duration": 156,
    "start_time": "2022-08-23T12:28:52.401Z"
   },
   {
    "duration": 119,
    "start_time": "2022-08-23T12:29:26.274Z"
   },
   {
    "duration": 130,
    "start_time": "2022-08-23T12:30:26.570Z"
   },
   {
    "duration": 588,
    "start_time": "2022-08-23T18:32:38.497Z"
   },
   {
    "duration": 12,
    "start_time": "2022-08-23T18:32:39.087Z"
   },
   {
    "duration": 12,
    "start_time": "2022-08-23T18:32:39.100Z"
   },
   {
    "duration": 14,
    "start_time": "2022-08-23T18:32:39.113Z"
   },
   {
    "duration": 16,
    "start_time": "2022-08-23T18:32:39.128Z"
   },
   {
    "duration": 21,
    "start_time": "2022-08-23T18:32:39.146Z"
   },
   {
    "duration": 39,
    "start_time": "2022-08-23T18:32:39.169Z"
   },
   {
    "duration": 4,
    "start_time": "2022-08-23T18:32:39.210Z"
   },
   {
    "duration": 9,
    "start_time": "2022-08-23T18:32:39.215Z"
   },
   {
    "duration": 513,
    "start_time": "2022-08-23T18:32:39.226Z"
   },
   {
    "duration": 143,
    "start_time": "2022-08-23T18:32:39.741Z"
   },
   {
    "duration": 140,
    "start_time": "2022-08-23T18:32:39.885Z"
   },
   {
    "duration": 212,
    "start_time": "2022-08-23T18:32:40.027Z"
   },
   {
    "duration": 144,
    "start_time": "2022-08-23T18:32:40.241Z"
   },
   {
    "duration": 144,
    "start_time": "2022-08-23T18:32:40.387Z"
   },
   {
    "duration": 142,
    "start_time": "2022-08-23T18:32:40.533Z"
   },
   {
    "duration": 127,
    "start_time": "2022-08-23T18:32:40.676Z"
   },
   {
    "duration": 135,
    "start_time": "2022-08-23T18:32:40.805Z"
   },
   {
    "duration": 63,
    "start_time": "2022-08-23T18:35:52.825Z"
   },
   {
    "duration": 6,
    "start_time": "2022-08-23T18:36:05.160Z"
   },
   {
    "duration": 526,
    "start_time": "2022-08-23T18:40:16.030Z"
   },
   {
    "duration": 417,
    "start_time": "2022-08-23T18:40:59.041Z"
   },
   {
    "duration": 474,
    "start_time": "2022-08-23T18:41:09.894Z"
   },
   {
    "duration": 455,
    "start_time": "2022-08-23T18:41:26.338Z"
   },
   {
    "duration": 260,
    "start_time": "2022-08-23T18:43:06.897Z"
   },
   {
    "duration": 175,
    "start_time": "2022-08-23T18:44:45.802Z"
   },
   {
    "duration": 179,
    "start_time": "2022-08-23T18:45:47.416Z"
   },
   {
    "duration": 188,
    "start_time": "2022-08-23T18:49:41.485Z"
   },
   {
    "duration": 165,
    "start_time": "2022-08-23T18:50:05.414Z"
   },
   {
    "duration": 178,
    "start_time": "2022-08-23T18:50:50.547Z"
   },
   {
    "duration": 169,
    "start_time": "2022-08-23T18:51:06.659Z"
   },
   {
    "duration": 63,
    "start_time": "2022-08-23T18:55:12.597Z"
   },
   {
    "duration": 26,
    "start_time": "2022-08-23T18:56:06.278Z"
   },
   {
    "duration": 714,
    "start_time": "2022-08-23T18:56:23.374Z"
   },
   {
    "duration": 13,
    "start_time": "2022-08-23T18:56:24.089Z"
   },
   {
    "duration": 11,
    "start_time": "2022-08-23T18:56:24.104Z"
   },
   {
    "duration": 15,
    "start_time": "2022-08-23T18:56:24.117Z"
   },
   {
    "duration": 20,
    "start_time": "2022-08-23T18:56:24.136Z"
   },
   {
    "duration": 49,
    "start_time": "2022-08-23T18:56:24.157Z"
   },
   {
    "duration": 15,
    "start_time": "2022-08-23T18:56:24.208Z"
   },
   {
    "duration": 7,
    "start_time": "2022-08-23T18:56:24.224Z"
   },
   {
    "duration": 205,
    "start_time": "2022-08-23T18:56:24.232Z"
   },
   {
    "duration": 198,
    "start_time": "2022-08-23T18:56:24.439Z"
   },
   {
    "duration": 205,
    "start_time": "2022-08-23T18:56:24.639Z"
   },
   {
    "duration": 179,
    "start_time": "2022-08-23T18:56:24.846Z"
   },
   {
    "duration": 236,
    "start_time": "2022-08-23T18:56:25.027Z"
   },
   {
    "duration": 179,
    "start_time": "2022-08-23T18:56:25.265Z"
   },
   {
    "duration": 6,
    "start_time": "2022-08-23T18:56:25.446Z"
   },
   {
    "duration": 154,
    "start_time": "2022-08-23T18:56:25.453Z"
   },
   {
    "duration": 148,
    "start_time": "2022-08-23T18:56:25.609Z"
   },
   {
    "duration": 167,
    "start_time": "2022-08-23T18:56:25.759Z"
   },
   {
    "duration": 189,
    "start_time": "2022-08-23T18:56:25.928Z"
   },
   {
    "duration": 209,
    "start_time": "2022-08-23T18:56:26.119Z"
   },
   {
    "duration": 151,
    "start_time": "2022-08-23T18:56:26.329Z"
   },
   {
    "duration": 158,
    "start_time": "2022-08-23T18:56:26.482Z"
   },
   {
    "duration": 149,
    "start_time": "2022-08-23T18:56:26.641Z"
   },
   {
    "duration": 150,
    "start_time": "2022-08-23T18:56:26.792Z"
   },
   {
    "duration": 187,
    "start_time": "2022-08-23T18:56:54.654Z"
   },
   {
    "duration": 146,
    "start_time": "2022-08-23T18:57:10.485Z"
   },
   {
    "duration": 161,
    "start_time": "2022-08-23T18:57:21.366Z"
   },
   {
    "duration": 140,
    "start_time": "2022-08-23T18:57:33.417Z"
   },
   {
    "duration": 145,
    "start_time": "2022-08-23T18:57:44.346Z"
   },
   {
    "duration": 179,
    "start_time": "2022-08-23T18:57:55.981Z"
   },
   {
    "duration": 190,
    "start_time": "2022-08-23T18:58:15.972Z"
   },
   {
    "duration": 142,
    "start_time": "2022-08-23T18:58:24.765Z"
   },
   {
    "duration": 161,
    "start_time": "2022-08-23T18:58:33.551Z"
   },
   {
    "duration": 164,
    "start_time": "2022-08-23T18:58:42.955Z"
   },
   {
    "duration": 140,
    "start_time": "2022-08-23T18:58:50.458Z"
   },
   {
    "duration": 196,
    "start_time": "2022-08-23T18:59:15.453Z"
   },
   {
    "duration": 130,
    "start_time": "2022-08-23T18:59:40.519Z"
   },
   {
    "duration": 73,
    "start_time": "2022-08-23T18:59:49.703Z"
   },
   {
    "duration": 139,
    "start_time": "2022-08-23T18:59:58.149Z"
   },
   {
    "duration": 179,
    "start_time": "2022-08-23T19:02:05.387Z"
   },
   {
    "duration": 27,
    "start_time": "2022-08-23T19:10:31.060Z"
   },
   {
    "duration": 7,
    "start_time": "2022-08-23T19:13:04.761Z"
   },
   {
    "duration": 3,
    "start_time": "2022-08-23T19:18:54.085Z"
   },
   {
    "duration": 5,
    "start_time": "2022-08-23T19:19:02.850Z"
   },
   {
    "duration": 5,
    "start_time": "2022-08-23T19:19:18.365Z"
   },
   {
    "duration": 70,
    "start_time": "2022-08-23T19:23:25.454Z"
   },
   {
    "duration": 7,
    "start_time": "2022-08-23T19:23:35.444Z"
   },
   {
    "duration": 19,
    "start_time": "2022-08-23T19:23:43.728Z"
   },
   {
    "duration": 10,
    "start_time": "2022-08-23T19:24:29.034Z"
   },
   {
    "duration": 74,
    "start_time": "2022-08-23T19:26:57.816Z"
   },
   {
    "duration": 75,
    "start_time": "2022-08-23T19:27:12.135Z"
   },
   {
    "duration": 661,
    "start_time": "2022-08-23T19:27:20.626Z"
   },
   {
    "duration": 14,
    "start_time": "2022-08-23T19:27:21.288Z"
   },
   {
    "duration": 13,
    "start_time": "2022-08-23T19:27:21.304Z"
   },
   {
    "duration": 15,
    "start_time": "2022-08-23T19:27:21.318Z"
   },
   {
    "duration": 19,
    "start_time": "2022-08-23T19:27:21.335Z"
   },
   {
    "duration": 23,
    "start_time": "2022-08-23T19:27:21.356Z"
   },
   {
    "duration": 14,
    "start_time": "2022-08-23T19:27:21.407Z"
   },
   {
    "duration": 84,
    "start_time": "2022-08-23T19:27:21.423Z"
   },
   {
    "duration": 0,
    "start_time": "2022-08-23T19:27:21.509Z"
   },
   {
    "duration": 0,
    "start_time": "2022-08-23T19:27:21.510Z"
   },
   {
    "duration": 0,
    "start_time": "2022-08-23T19:27:21.511Z"
   },
   {
    "duration": 0,
    "start_time": "2022-08-23T19:27:21.512Z"
   },
   {
    "duration": 0,
    "start_time": "2022-08-23T19:27:21.514Z"
   },
   {
    "duration": 0,
    "start_time": "2022-08-23T19:27:21.515Z"
   },
   {
    "duration": 0,
    "start_time": "2022-08-23T19:27:21.516Z"
   },
   {
    "duration": 0,
    "start_time": "2022-08-23T19:27:21.517Z"
   },
   {
    "duration": 0,
    "start_time": "2022-08-23T19:27:21.518Z"
   },
   {
    "duration": 0,
    "start_time": "2022-08-23T19:27:21.519Z"
   },
   {
    "duration": 0,
    "start_time": "2022-08-23T19:27:21.521Z"
   },
   {
    "duration": 0,
    "start_time": "2022-08-23T19:27:21.522Z"
   },
   {
    "duration": 0,
    "start_time": "2022-08-23T19:27:21.523Z"
   },
   {
    "duration": 0,
    "start_time": "2022-08-23T19:27:21.524Z"
   },
   {
    "duration": 0,
    "start_time": "2022-08-23T19:27:21.525Z"
   },
   {
    "duration": 0,
    "start_time": "2022-08-23T19:27:21.525Z"
   },
   {
    "duration": 8,
    "start_time": "2022-08-23T19:28:31.572Z"
   },
   {
    "duration": 12,
    "start_time": "2022-08-23T19:28:39.634Z"
   },
   {
    "duration": 151,
    "start_time": "2022-08-23T19:29:15.321Z"
   },
   {
    "duration": 172,
    "start_time": "2022-08-23T19:30:58.959Z"
   },
   {
    "duration": 143,
    "start_time": "2022-08-23T19:31:46.596Z"
   },
   {
    "duration": 6,
    "start_time": "2022-08-23T19:32:41.385Z"
   },
   {
    "duration": 7,
    "start_time": "2022-08-23T19:34:22.586Z"
   },
   {
    "duration": 6,
    "start_time": "2022-08-23T19:40:23.033Z"
   },
   {
    "duration": 123,
    "start_time": "2022-08-23T19:40:53.728Z"
   },
   {
    "duration": 13,
    "start_time": "2022-08-23T19:41:18.031Z"
   },
   {
    "duration": 10,
    "start_time": "2022-08-23T19:43:13.373Z"
   },
   {
    "duration": 11,
    "start_time": "2022-08-23T19:43:28.664Z"
   },
   {
    "duration": 11,
    "start_time": "2022-08-23T19:43:48.476Z"
   },
   {
    "duration": 184,
    "start_time": "2022-08-23T19:45:24.849Z"
   },
   {
    "duration": 140,
    "start_time": "2022-08-23T19:45:34.061Z"
   },
   {
    "duration": 152,
    "start_time": "2022-08-23T19:45:39.959Z"
   },
   {
    "duration": 128,
    "start_time": "2022-08-23T19:45:59.309Z"
   },
   {
    "duration": 161,
    "start_time": "2022-08-23T19:46:06.145Z"
   },
   {
    "duration": 141,
    "start_time": "2022-08-23T19:46:15.122Z"
   },
   {
    "duration": 6,
    "start_time": "2022-08-23T19:59:08.586Z"
   },
   {
    "duration": 141,
    "start_time": "2022-08-23T20:00:12.143Z"
   },
   {
    "duration": 138,
    "start_time": "2022-08-23T20:00:28.349Z"
   },
   {
    "duration": 153,
    "start_time": "2022-08-23T20:01:01.336Z"
   },
   {
    "duration": 166,
    "start_time": "2022-08-23T20:01:27.256Z"
   },
   {
    "duration": 137,
    "start_time": "2022-08-23T20:01:54.716Z"
   },
   {
    "duration": 192,
    "start_time": "2022-08-23T20:02:19.962Z"
   },
   {
    "duration": 143,
    "start_time": "2022-08-23T20:02:53.306Z"
   },
   {
    "duration": 160,
    "start_time": "2022-08-23T20:03:25.838Z"
   },
   {
    "duration": 137,
    "start_time": "2022-08-23T20:03:46.212Z"
   },
   {
    "duration": 152,
    "start_time": "2022-08-23T20:04:16.384Z"
   },
   {
    "duration": 136,
    "start_time": "2022-08-23T20:05:00.302Z"
   },
   {
    "duration": 143,
    "start_time": "2022-08-23T20:05:17.538Z"
   },
   {
    "duration": 9,
    "start_time": "2022-08-23T20:15:48.462Z"
   },
   {
    "duration": 209,
    "start_time": "2022-08-23T20:16:16.615Z"
   },
   {
    "duration": 100,
    "start_time": "2022-08-23T20:16:33.142Z"
   },
   {
    "duration": 102,
    "start_time": "2022-08-23T20:17:22.206Z"
   },
   {
    "duration": 143,
    "start_time": "2022-08-23T20:18:06.187Z"
   },
   {
    "duration": 99,
    "start_time": "2022-08-23T20:18:48.931Z"
   },
   {
    "duration": 96,
    "start_time": "2022-08-23T20:18:57.562Z"
   },
   {
    "duration": 4,
    "start_time": "2022-08-23T20:22:42.136Z"
   },
   {
    "duration": 18,
    "start_time": "2022-08-23T20:23:14.671Z"
   },
   {
    "duration": 6,
    "start_time": "2022-08-23T20:24:01.072Z"
   },
   {
    "duration": 6,
    "start_time": "2022-08-23T20:24:20.073Z"
   },
   {
    "duration": 137,
    "start_time": "2022-08-23T20:24:49.574Z"
   },
   {
    "duration": 6,
    "start_time": "2022-08-23T20:25:57.214Z"
   },
   {
    "duration": 145,
    "start_time": "2022-08-23T20:26:06.280Z"
   },
   {
    "duration": 138,
    "start_time": "2022-08-23T20:26:13.827Z"
   },
   {
    "duration": 146,
    "start_time": "2022-08-23T20:26:27.123Z"
   },
   {
    "duration": 141,
    "start_time": "2022-08-23T20:26:40.375Z"
   },
   {
    "duration": 137,
    "start_time": "2022-08-23T20:26:51.557Z"
   },
   {
    "duration": 146,
    "start_time": "2022-08-23T20:27:03.338Z"
   },
   {
    "duration": 142,
    "start_time": "2022-08-23T20:27:12.548Z"
   },
   {
    "duration": 233,
    "start_time": "2022-08-23T20:27:22.047Z"
   },
   {
    "duration": 158,
    "start_time": "2022-08-23T20:27:43.532Z"
   },
   {
    "duration": 144,
    "start_time": "2022-08-23T20:28:08.745Z"
   },
   {
    "duration": 139,
    "start_time": "2022-08-23T20:28:17.544Z"
   },
   {
    "duration": 90,
    "start_time": "2022-08-23T20:28:33.012Z"
   },
   {
    "duration": 26,
    "start_time": "2022-08-23T20:29:03.175Z"
   },
   {
    "duration": 10,
    "start_time": "2022-08-23T20:29:24.015Z"
   },
   {
    "duration": 8,
    "start_time": "2022-08-23T20:29:51.149Z"
   },
   {
    "duration": 10,
    "start_time": "2022-08-23T20:35:30.577Z"
   },
   {
    "duration": 71,
    "start_time": "2022-08-23T20:36:32.453Z"
   },
   {
    "duration": 103,
    "start_time": "2022-08-23T20:36:38.536Z"
   },
   {
    "duration": 85,
    "start_time": "2022-08-23T20:36:49.017Z"
   },
   {
    "duration": 82,
    "start_time": "2022-08-23T20:37:01.103Z"
   },
   {
    "duration": 95,
    "start_time": "2022-08-23T20:37:15.616Z"
   },
   {
    "duration": 86,
    "start_time": "2022-08-23T20:38:18.026Z"
   },
   {
    "duration": 323,
    "start_time": "2022-08-23T20:41:15.119Z"
   },
   {
    "duration": 303,
    "start_time": "2022-08-23T20:41:37.836Z"
   },
   {
    "duration": 202,
    "start_time": "2022-08-23T20:43:06.296Z"
   },
   {
    "duration": 201,
    "start_time": "2022-08-23T20:43:25.708Z"
   },
   {
    "duration": 216,
    "start_time": "2022-08-23T20:43:49.625Z"
   },
   {
    "duration": 273,
    "start_time": "2022-08-23T20:44:15.866Z"
   },
   {
    "duration": 382,
    "start_time": "2022-08-23T21:00:09.950Z"
   },
   {
    "duration": 926,
    "start_time": "2022-08-25T10:15:01.578Z"
   },
   {
    "duration": 14,
    "start_time": "2022-08-25T10:15:02.506Z"
   },
   {
    "duration": 16,
    "start_time": "2022-08-25T10:15:02.521Z"
   },
   {
    "duration": 14,
    "start_time": "2022-08-25T10:15:02.539Z"
   },
   {
    "duration": 43,
    "start_time": "2022-08-25T10:15:02.555Z"
   },
   {
    "duration": 25,
    "start_time": "2022-08-25T10:15:02.600Z"
   },
   {
    "duration": 14,
    "start_time": "2022-08-25T10:15:02.626Z"
   },
   {
    "duration": 218,
    "start_time": "2022-08-25T10:15:02.642Z"
   },
   {
    "duration": 15,
    "start_time": "2022-08-25T10:15:02.862Z"
   },
   {
    "duration": 183,
    "start_time": "2022-08-25T10:15:02.884Z"
   },
   {
    "duration": 177,
    "start_time": "2022-08-25T10:15:03.069Z"
   },
   {
    "duration": 200,
    "start_time": "2022-08-25T10:15:03.248Z"
   },
   {
    "duration": 216,
    "start_time": "2022-08-25T10:15:03.449Z"
   },
   {
    "duration": 179,
    "start_time": "2022-08-25T10:15:03.667Z"
   },
   {
    "duration": 168,
    "start_time": "2022-08-25T10:15:03.848Z"
   },
   {
    "duration": 7,
    "start_time": "2022-08-25T10:15:04.018Z"
   },
   {
    "duration": 188,
    "start_time": "2022-08-25T10:15:04.026Z"
   },
   {
    "duration": 164,
    "start_time": "2022-08-25T10:15:04.216Z"
   },
   {
    "duration": 221,
    "start_time": "2022-08-25T10:15:04.382Z"
   },
   {
    "duration": 186,
    "start_time": "2022-08-25T10:15:04.606Z"
   },
   {
    "duration": 156,
    "start_time": "2022-08-25T10:15:04.795Z"
   },
   {
    "duration": 176,
    "start_time": "2022-08-25T10:15:04.953Z"
   },
   {
    "duration": 179,
    "start_time": "2022-08-25T10:15:05.131Z"
   },
   {
    "duration": 182,
    "start_time": "2022-08-25T10:15:05.312Z"
   },
   {
    "duration": 225,
    "start_time": "2022-08-25T10:15:05.495Z"
   },
   {
    "duration": 179,
    "start_time": "2022-08-25T10:15:05.722Z"
   },
   {
    "duration": 162,
    "start_time": "2022-08-25T10:15:05.903Z"
   },
   {
    "duration": 22,
    "start_time": "2022-08-25T10:15:06.068Z"
   },
   {
    "duration": 300,
    "start_time": "2022-08-25T10:15:06.091Z"
   },
   {
    "duration": 182,
    "start_time": "2022-08-25T10:18:28.532Z"
   },
   {
    "duration": 270,
    "start_time": "2022-08-25T10:18:55.407Z"
   },
   {
    "duration": 193,
    "start_time": "2022-08-25T10:19:05.635Z"
   },
   {
    "duration": 216,
    "start_time": "2022-08-25T10:20:15.900Z"
   },
   {
    "duration": 206,
    "start_time": "2022-08-25T10:20:28.600Z"
   },
   {
    "duration": 238,
    "start_time": "2022-08-25T10:24:03.449Z"
   },
   {
    "duration": 333,
    "start_time": "2022-08-25T10:32:09.018Z"
   },
   {
    "duration": 13,
    "start_time": "2022-08-25T10:41:36.101Z"
   },
   {
    "duration": 136,
    "start_time": "2022-08-25T10:50:36.792Z"
   },
   {
    "duration": 156,
    "start_time": "2022-08-25T10:52:00.074Z"
   },
   {
    "duration": 6,
    "start_time": "2022-08-25T10:53:06.153Z"
   },
   {
    "duration": 5,
    "start_time": "2022-08-25T10:59:59.985Z"
   },
   {
    "duration": 7,
    "start_time": "2022-08-25T11:00:16.142Z"
   },
   {
    "duration": 21,
    "start_time": "2022-08-25T11:00:39.860Z"
   },
   {
    "duration": 861,
    "start_time": "2022-08-25T11:00:52.009Z"
   },
   {
    "duration": 17,
    "start_time": "2022-08-25T11:00:52.872Z"
   },
   {
    "duration": 21,
    "start_time": "2022-08-25T11:00:52.890Z"
   },
   {
    "duration": 24,
    "start_time": "2022-08-25T11:00:52.913Z"
   },
   {
    "duration": 27,
    "start_time": "2022-08-25T11:00:52.940Z"
   },
   {
    "duration": 20,
    "start_time": "2022-08-25T11:00:52.969Z"
   },
   {
    "duration": 31,
    "start_time": "2022-08-25T11:00:52.993Z"
   },
   {
    "duration": 26,
    "start_time": "2022-08-25T11:00:53.027Z"
   },
   {
    "duration": 35,
    "start_time": "2022-08-25T11:00:53.055Z"
   },
   {
    "duration": 242,
    "start_time": "2022-08-25T11:00:53.092Z"
   },
   {
    "duration": 12,
    "start_time": "2022-08-25T11:00:53.336Z"
   },
   {
    "duration": 169,
    "start_time": "2022-08-25T11:00:53.350Z"
   },
   {
    "duration": 164,
    "start_time": "2022-08-25T11:00:53.521Z"
   },
   {
    "duration": 172,
    "start_time": "2022-08-25T11:00:53.688Z"
   },
   {
    "duration": 228,
    "start_time": "2022-08-25T11:00:53.862Z"
   },
   {
    "duration": 187,
    "start_time": "2022-08-25T11:00:54.092Z"
   },
   {
    "duration": 190,
    "start_time": "2022-08-25T11:00:54.280Z"
   },
   {
    "duration": 15,
    "start_time": "2022-08-25T11:00:54.471Z"
   },
   {
    "duration": 267,
    "start_time": "2022-08-25T11:00:54.489Z"
   },
   {
    "duration": 175,
    "start_time": "2022-08-25T11:00:54.762Z"
   },
   {
    "duration": 173,
    "start_time": "2022-08-25T11:00:54.939Z"
   },
   {
    "duration": 197,
    "start_time": "2022-08-25T11:00:55.113Z"
   },
   {
    "duration": 206,
    "start_time": "2022-08-25T11:00:55.313Z"
   },
   {
    "duration": 210,
    "start_time": "2022-08-25T11:00:55.521Z"
   },
   {
    "duration": 185,
    "start_time": "2022-08-25T11:00:55.733Z"
   },
   {
    "duration": 199,
    "start_time": "2022-08-25T11:00:55.921Z"
   },
   {
    "duration": 253,
    "start_time": "2022-08-25T11:00:56.122Z"
   },
   {
    "duration": 175,
    "start_time": "2022-08-25T11:00:56.377Z"
   },
   {
    "duration": 190,
    "start_time": "2022-08-25T11:00:56.554Z"
   },
   {
    "duration": 10,
    "start_time": "2022-08-25T11:00:56.746Z"
   },
   {
    "duration": 250,
    "start_time": "2022-08-25T11:00:56.757Z"
   },
   {
    "duration": 15,
    "start_time": "2022-08-25T11:00:57.009Z"
   },
   {
    "duration": 178,
    "start_time": "2022-08-25T11:00:57.027Z"
   },
   {
    "duration": 354,
    "start_time": "2022-08-25T11:03:41.652Z"
   },
   {
    "duration": 21,
    "start_time": "2022-08-25T11:03:59.449Z"
   },
   {
    "duration": 164,
    "start_time": "2022-08-25T11:05:00.143Z"
   },
   {
    "duration": 195,
    "start_time": "2022-08-25T11:05:10.680Z"
   },
   {
    "duration": 193,
    "start_time": "2022-08-25T11:08:04.606Z"
   },
   {
    "duration": 153,
    "start_time": "2022-08-25T11:08:39.128Z"
   },
   {
    "duration": 724,
    "start_time": "2022-08-25T11:09:11.558Z"
   },
   {
    "duration": 19,
    "start_time": "2022-08-25T11:09:12.284Z"
   },
   {
    "duration": 18,
    "start_time": "2022-08-25T11:09:12.305Z"
   },
   {
    "duration": 19,
    "start_time": "2022-08-25T11:09:12.325Z"
   },
   {
    "duration": 19,
    "start_time": "2022-08-25T11:09:12.346Z"
   },
   {
    "duration": 22,
    "start_time": "2022-08-25T11:09:12.366Z"
   },
   {
    "duration": 21,
    "start_time": "2022-08-25T11:09:12.389Z"
   },
   {
    "duration": 20,
    "start_time": "2022-08-25T11:09:12.411Z"
   },
   {
    "duration": 15,
    "start_time": "2022-08-25T11:09:12.433Z"
   },
   {
    "duration": 203,
    "start_time": "2022-08-25T11:09:12.450Z"
   },
   {
    "duration": 14,
    "start_time": "2022-08-25T11:09:12.655Z"
   },
   {
    "duration": 171,
    "start_time": "2022-08-25T11:09:12.670Z"
   },
   {
    "duration": 197,
    "start_time": "2022-08-25T11:09:12.842Z"
   },
   {
    "duration": 185,
    "start_time": "2022-08-25T11:09:13.041Z"
   },
   {
    "duration": 214,
    "start_time": "2022-08-25T11:09:13.228Z"
   },
   {
    "duration": 181,
    "start_time": "2022-08-25T11:09:13.443Z"
   },
   {
    "duration": 172,
    "start_time": "2022-08-25T11:09:13.626Z"
   },
   {
    "duration": 7,
    "start_time": "2022-08-25T11:09:13.803Z"
   },
   {
    "duration": 166,
    "start_time": "2022-08-25T11:09:13.811Z"
   },
   {
    "duration": 176,
    "start_time": "2022-08-25T11:09:13.979Z"
   },
   {
    "duration": 172,
    "start_time": "2022-08-25T11:09:14.156Z"
   },
   {
    "duration": 234,
    "start_time": "2022-08-25T11:09:14.330Z"
   },
   {
    "duration": 228,
    "start_time": "2022-08-25T11:09:14.566Z"
   },
   {
    "duration": 173,
    "start_time": "2022-08-25T11:09:14.795Z"
   },
   {
    "duration": 184,
    "start_time": "2022-08-25T11:09:14.970Z"
   },
   {
    "duration": 181,
    "start_time": "2022-08-25T11:09:15.156Z"
   },
   {
    "duration": 234,
    "start_time": "2022-08-25T11:09:15.339Z"
   },
   {
    "duration": 166,
    "start_time": "2022-08-25T11:09:15.577Z"
   },
   {
    "duration": 158,
    "start_time": "2022-08-25T11:09:15.745Z"
   },
   {
    "duration": 9,
    "start_time": "2022-08-25T11:09:15.905Z"
   },
   {
    "duration": 261,
    "start_time": "2022-08-25T11:09:15.916Z"
   },
   {
    "duration": 14,
    "start_time": "2022-08-25T11:09:16.179Z"
   },
   {
    "duration": 159,
    "start_time": "2022-08-25T11:09:16.194Z"
   },
   {
    "duration": 215,
    "start_time": "2022-08-25T11:11:00.979Z"
   },
   {
    "duration": 210,
    "start_time": "2022-08-25T11:11:26.145Z"
   },
   {
    "duration": 5,
    "start_time": "2022-08-25T11:13:01.863Z"
   },
   {
    "duration": 153,
    "start_time": "2022-08-25T11:15:41.704Z"
   },
   {
    "duration": 130,
    "start_time": "2022-08-25T11:15:47.430Z"
   },
   {
    "duration": 5,
    "start_time": "2022-08-25T11:16:00.012Z"
   },
   {
    "duration": 4,
    "start_time": "2022-08-25T11:16:05.242Z"
   },
   {
    "duration": 4,
    "start_time": "2022-08-25T11:16:48.628Z"
   },
   {
    "duration": 769,
    "start_time": "2022-08-25T11:16:56.487Z"
   },
   {
    "duration": 13,
    "start_time": "2022-08-25T11:16:57.258Z"
   },
   {
    "duration": 19,
    "start_time": "2022-08-25T11:16:57.272Z"
   },
   {
    "duration": 15,
    "start_time": "2022-08-25T11:16:57.293Z"
   },
   {
    "duration": 20,
    "start_time": "2022-08-25T11:16:57.310Z"
   },
   {
    "duration": 5,
    "start_time": "2022-08-25T11:16:57.331Z"
   },
   {
    "duration": 16,
    "start_time": "2022-08-25T11:16:57.338Z"
   },
   {
    "duration": 62,
    "start_time": "2022-08-25T11:16:57.356Z"
   },
   {
    "duration": 13,
    "start_time": "2022-08-25T11:16:57.420Z"
   },
   {
    "duration": 203,
    "start_time": "2022-08-25T11:16:57.434Z"
   },
   {
    "duration": 15,
    "start_time": "2022-08-25T11:16:57.639Z"
   },
   {
    "duration": 175,
    "start_time": "2022-08-25T11:16:57.655Z"
   },
   {
    "duration": 176,
    "start_time": "2022-08-25T11:16:57.832Z"
   },
   {
    "duration": 180,
    "start_time": "2022-08-25T11:16:58.011Z"
   },
   {
    "duration": 220,
    "start_time": "2022-08-25T11:16:58.193Z"
   },
   {
    "duration": 181,
    "start_time": "2022-08-25T11:16:58.415Z"
   },
   {
    "duration": 186,
    "start_time": "2022-08-25T11:16:58.597Z"
   },
   {
    "duration": 4,
    "start_time": "2022-08-25T11:16:58.785Z"
   },
   {
    "duration": 9,
    "start_time": "2022-08-25T11:16:58.791Z"
   },
   {
    "duration": 191,
    "start_time": "2022-08-25T11:16:58.801Z"
   },
   {
    "duration": 167,
    "start_time": "2022-08-25T11:16:58.994Z"
   },
   {
    "duration": 171,
    "start_time": "2022-08-25T11:16:59.164Z"
   },
   {
    "duration": 175,
    "start_time": "2022-08-25T11:16:59.336Z"
   },
   {
    "duration": 185,
    "start_time": "2022-08-25T11:16:59.513Z"
   },
   {
    "duration": 179,
    "start_time": "2022-08-25T11:16:59.700Z"
   },
   {
    "duration": 183,
    "start_time": "2022-08-25T11:16:59.881Z"
   },
   {
    "duration": 193,
    "start_time": "2022-08-25T11:17:00.065Z"
   },
   {
    "duration": 235,
    "start_time": "2022-08-25T11:17:00.260Z"
   },
   {
    "duration": 168,
    "start_time": "2022-08-25T11:17:00.497Z"
   },
   {
    "duration": 176,
    "start_time": "2022-08-25T11:17:00.666Z"
   },
   {
    "duration": 10,
    "start_time": "2022-08-25T11:17:00.844Z"
   },
   {
    "duration": 255,
    "start_time": "2022-08-25T11:17:00.856Z"
   },
   {
    "duration": 13,
    "start_time": "2022-08-25T11:17:01.113Z"
   },
   {
    "duration": 174,
    "start_time": "2022-08-25T11:17:01.128Z"
   },
   {
    "duration": 4,
    "start_time": "2022-08-25T11:17:01.304Z"
   },
   {
    "duration": 222,
    "start_time": "2022-08-25T11:17:01.310Z"
   },
   {
    "duration": 13,
    "start_time": "2022-08-25T11:19:26.922Z"
   },
   {
    "duration": 723,
    "start_time": "2022-08-25T11:19:42.894Z"
   },
   {
    "duration": 14,
    "start_time": "2022-08-25T11:19:43.619Z"
   },
   {
    "duration": 14,
    "start_time": "2022-08-25T11:19:43.634Z"
   },
   {
    "duration": 22,
    "start_time": "2022-08-25T11:19:43.650Z"
   },
   {
    "duration": 19,
    "start_time": "2022-08-25T11:19:43.685Z"
   },
   {
    "duration": 6,
    "start_time": "2022-08-25T11:19:43.706Z"
   },
   {
    "duration": 16,
    "start_time": "2022-08-25T11:19:43.714Z"
   },
   {
    "duration": 23,
    "start_time": "2022-08-25T11:19:43.732Z"
   },
   {
    "duration": 43,
    "start_time": "2022-08-25T11:19:43.757Z"
   },
   {
    "duration": 205,
    "start_time": "2022-08-25T11:19:43.804Z"
   },
   {
    "duration": 13,
    "start_time": "2022-08-25T11:19:44.013Z"
   },
   {
    "duration": 155,
    "start_time": "2022-08-25T11:19:44.027Z"
   },
   {
    "duration": 178,
    "start_time": "2022-08-25T11:19:44.184Z"
   },
   {
    "duration": 216,
    "start_time": "2022-08-25T11:19:44.364Z"
   },
   {
    "duration": 201,
    "start_time": "2022-08-25T11:19:44.585Z"
   },
   {
    "duration": 155,
    "start_time": "2022-08-25T11:19:44.788Z"
   },
   {
    "duration": 159,
    "start_time": "2022-08-25T11:19:44.944Z"
   },
   {
    "duration": 16,
    "start_time": "2022-08-25T11:19:45.104Z"
   },
   {
    "duration": 7,
    "start_time": "2022-08-25T11:19:45.122Z"
   },
   {
    "duration": 177,
    "start_time": "2022-08-25T11:19:45.130Z"
   },
   {
    "duration": 156,
    "start_time": "2022-08-25T11:19:45.308Z"
   },
   {
    "duration": 173,
    "start_time": "2022-08-25T11:19:45.466Z"
   },
   {
    "duration": 169,
    "start_time": "2022-08-25T11:19:45.641Z"
   },
   {
    "duration": 166,
    "start_time": "2022-08-25T11:19:45.812Z"
   },
   {
    "duration": 161,
    "start_time": "2022-08-25T11:19:45.985Z"
   },
   {
    "duration": 154,
    "start_time": "2022-08-25T11:19:46.148Z"
   },
   {
    "duration": 164,
    "start_time": "2022-08-25T11:19:46.304Z"
   },
   {
    "duration": 226,
    "start_time": "2022-08-25T11:19:46.471Z"
   },
   {
    "duration": 169,
    "start_time": "2022-08-25T11:19:46.699Z"
   },
   {
    "duration": 173,
    "start_time": "2022-08-25T11:19:46.869Z"
   },
   {
    "duration": 11,
    "start_time": "2022-08-25T11:19:47.044Z"
   },
   {
    "duration": 234,
    "start_time": "2022-08-25T11:19:47.057Z"
   },
   {
    "duration": 11,
    "start_time": "2022-08-25T11:19:47.292Z"
   },
   {
    "duration": 148,
    "start_time": "2022-08-25T11:19:47.304Z"
   },
   {
    "duration": 4,
    "start_time": "2022-08-25T11:19:47.453Z"
   },
   {
    "duration": 182,
    "start_time": "2022-08-25T11:19:47.458Z"
   },
   {
    "duration": 8,
    "start_time": "2022-08-25T11:20:26.049Z"
   },
   {
    "duration": 7,
    "start_time": "2022-08-25T11:20:51.298Z"
   },
   {
    "duration": 11,
    "start_time": "2022-08-25T11:20:54.579Z"
   },
   {
    "duration": 727,
    "start_time": "2022-08-25T11:21:11.199Z"
   },
   {
    "duration": 13,
    "start_time": "2022-08-25T11:21:11.928Z"
   },
   {
    "duration": 94,
    "start_time": "2022-08-25T11:21:11.943Z"
   },
   {
    "duration": 18,
    "start_time": "2022-08-25T11:21:12.039Z"
   },
   {
    "duration": 20,
    "start_time": "2022-08-25T11:21:12.059Z"
   },
   {
    "duration": 7,
    "start_time": "2022-08-25T11:21:12.080Z"
   },
   {
    "duration": 30,
    "start_time": "2022-08-25T11:21:12.090Z"
   },
   {
    "duration": 30,
    "start_time": "2022-08-25T11:21:12.122Z"
   },
   {
    "duration": 18,
    "start_time": "2022-08-25T11:21:12.154Z"
   },
   {
    "duration": 208,
    "start_time": "2022-08-25T11:21:12.174Z"
   },
   {
    "duration": 19,
    "start_time": "2022-08-25T11:21:12.385Z"
   },
   {
    "duration": 185,
    "start_time": "2022-08-25T11:21:12.406Z"
   },
   {
    "duration": 191,
    "start_time": "2022-08-25T11:21:12.592Z"
   },
   {
    "duration": 230,
    "start_time": "2022-08-25T11:21:12.787Z"
   },
   {
    "duration": 221,
    "start_time": "2022-08-25T11:21:13.019Z"
   },
   {
    "duration": 172,
    "start_time": "2022-08-25T11:21:13.242Z"
   },
   {
    "duration": 165,
    "start_time": "2022-08-25T11:21:13.415Z"
   },
   {
    "duration": 20,
    "start_time": "2022-08-25T11:21:13.584Z"
   },
   {
    "duration": 8,
    "start_time": "2022-08-25T11:21:13.605Z"
   },
   {
    "duration": 194,
    "start_time": "2022-08-25T11:21:13.614Z"
   },
   {
    "duration": 168,
    "start_time": "2022-08-25T11:21:13.810Z"
   },
   {
    "duration": 290,
    "start_time": "2022-08-25T11:21:13.980Z"
   },
   {
    "duration": 184,
    "start_time": "2022-08-25T11:21:14.271Z"
   },
   {
    "duration": 218,
    "start_time": "2022-08-25T11:21:14.457Z"
   },
   {
    "duration": 200,
    "start_time": "2022-08-25T11:21:14.677Z"
   },
   {
    "duration": 179,
    "start_time": "2022-08-25T11:21:14.885Z"
   },
   {
    "duration": 187,
    "start_time": "2022-08-25T11:21:15.066Z"
   },
   {
    "duration": 240,
    "start_time": "2022-08-25T11:21:15.255Z"
   },
   {
    "duration": 170,
    "start_time": "2022-08-25T11:21:15.498Z"
   },
   {
    "duration": 170,
    "start_time": "2022-08-25T11:21:15.670Z"
   },
   {
    "duration": 11,
    "start_time": "2022-08-25T11:21:15.842Z"
   },
   {
    "duration": 261,
    "start_time": "2022-08-25T11:21:15.855Z"
   },
   {
    "duration": 11,
    "start_time": "2022-08-25T11:21:16.118Z"
   },
   {
    "duration": 184,
    "start_time": "2022-08-25T11:21:16.131Z"
   },
   {
    "duration": 4,
    "start_time": "2022-08-25T11:21:16.317Z"
   },
   {
    "duration": 218,
    "start_time": "2022-08-25T11:21:16.323Z"
   },
   {
    "duration": 14,
    "start_time": "2022-08-25T11:22:59.544Z"
   },
   {
    "duration": 15,
    "start_time": "2022-08-25T11:23:24.091Z"
   },
   {
    "duration": 688,
    "start_time": "2022-08-25T11:23:35.716Z"
   },
   {
    "duration": 12,
    "start_time": "2022-08-25T11:23:36.406Z"
   },
   {
    "duration": 12,
    "start_time": "2022-08-25T11:23:36.419Z"
   },
   {
    "duration": 15,
    "start_time": "2022-08-25T11:23:36.432Z"
   },
   {
    "duration": 37,
    "start_time": "2022-08-25T11:23:36.449Z"
   },
   {
    "duration": 6,
    "start_time": "2022-08-25T11:23:36.487Z"
   },
   {
    "duration": 27,
    "start_time": "2022-08-25T11:23:36.495Z"
   },
   {
    "duration": 23,
    "start_time": "2022-08-25T11:23:36.523Z"
   },
   {
    "duration": 13,
    "start_time": "2022-08-25T11:23:36.548Z"
   },
   {
    "duration": 199,
    "start_time": "2022-08-25T11:23:36.563Z"
   },
   {
    "duration": 23,
    "start_time": "2022-08-25T11:23:36.764Z"
   },
   {
    "duration": 163,
    "start_time": "2022-08-25T11:23:36.788Z"
   },
   {
    "duration": 172,
    "start_time": "2022-08-25T11:23:36.953Z"
   },
   {
    "duration": 168,
    "start_time": "2022-08-25T11:23:37.129Z"
   },
   {
    "duration": 195,
    "start_time": "2022-08-25T11:23:37.299Z"
   },
   {
    "duration": 158,
    "start_time": "2022-08-25T11:23:37.496Z"
   },
   {
    "duration": 156,
    "start_time": "2022-08-25T11:23:37.656Z"
   },
   {
    "duration": 16,
    "start_time": "2022-08-25T11:23:37.814Z"
   },
   {
    "duration": 5,
    "start_time": "2022-08-25T11:23:37.832Z"
   },
   {
    "duration": 173,
    "start_time": "2022-08-25T11:23:37.838Z"
   },
   {
    "duration": 179,
    "start_time": "2022-08-25T11:23:38.013Z"
   },
   {
    "duration": 157,
    "start_time": "2022-08-25T11:23:38.193Z"
   },
   {
    "duration": 172,
    "start_time": "2022-08-25T11:23:38.352Z"
   },
   {
    "duration": 155,
    "start_time": "2022-08-25T11:23:38.526Z"
   },
   {
    "duration": 149,
    "start_time": "2022-08-25T11:23:38.684Z"
   },
   {
    "duration": 165,
    "start_time": "2022-08-25T11:23:38.835Z"
   },
   {
    "duration": 183,
    "start_time": "2022-08-25T11:23:39.002Z"
   },
   {
    "duration": 238,
    "start_time": "2022-08-25T11:23:39.186Z"
   },
   {
    "duration": 164,
    "start_time": "2022-08-25T11:23:39.426Z"
   },
   {
    "duration": 162,
    "start_time": "2022-08-25T11:23:39.592Z"
   },
   {
    "duration": 10,
    "start_time": "2022-08-25T11:23:39.756Z"
   },
   {
    "duration": 236,
    "start_time": "2022-08-25T11:23:39.767Z"
   },
   {
    "duration": 11,
    "start_time": "2022-08-25T11:23:40.004Z"
   },
   {
    "duration": 701,
    "start_time": "2022-08-25T11:23:40.016Z"
   },
   {
    "duration": 4,
    "start_time": "2022-08-25T11:23:40.718Z"
   },
   {
    "duration": 718,
    "start_time": "2022-08-25T11:23:40.723Z"
   },
   {
    "duration": 665,
    "start_time": "2022-08-25T11:24:02.056Z"
   },
   {
    "duration": 693,
    "start_time": "2022-08-25T11:25:24.052Z"
   },
   {
    "duration": 11,
    "start_time": "2022-08-25T11:25:24.747Z"
   },
   {
    "duration": 13,
    "start_time": "2022-08-25T11:25:24.760Z"
   },
   {
    "duration": 12,
    "start_time": "2022-08-25T11:25:24.775Z"
   },
   {
    "duration": 17,
    "start_time": "2022-08-25T11:25:24.788Z"
   },
   {
    "duration": 5,
    "start_time": "2022-08-25T11:25:24.806Z"
   },
   {
    "duration": 17,
    "start_time": "2022-08-25T11:25:24.812Z"
   },
   {
    "duration": 21,
    "start_time": "2022-08-25T11:25:24.830Z"
   },
   {
    "duration": 35,
    "start_time": "2022-08-25T11:25:24.853Z"
   },
   {
    "duration": 169,
    "start_time": "2022-08-25T11:25:24.892Z"
   },
   {
    "duration": 22,
    "start_time": "2022-08-25T11:25:25.063Z"
   },
   {
    "duration": 156,
    "start_time": "2022-08-25T11:25:25.087Z"
   },
   {
    "duration": 173,
    "start_time": "2022-08-25T11:25:25.244Z"
   },
   {
    "duration": 175,
    "start_time": "2022-08-25T11:25:25.419Z"
   },
   {
    "duration": 198,
    "start_time": "2022-08-25T11:25:25.595Z"
   },
   {
    "duration": 162,
    "start_time": "2022-08-25T11:25:25.795Z"
   },
   {
    "duration": 154,
    "start_time": "2022-08-25T11:25:25.958Z"
   },
   {
    "duration": 6,
    "start_time": "2022-08-25T11:25:26.114Z"
   },
   {
    "duration": 173,
    "start_time": "2022-08-25T11:25:26.122Z"
   },
   {
    "duration": 159,
    "start_time": "2022-08-25T11:25:26.297Z"
   },
   {
    "duration": 168,
    "start_time": "2022-08-25T11:25:26.458Z"
   },
   {
    "duration": 164,
    "start_time": "2022-08-25T11:25:26.628Z"
   },
   {
    "duration": 153,
    "start_time": "2022-08-25T11:25:26.793Z"
   },
   {
    "duration": 172,
    "start_time": "2022-08-25T11:25:26.947Z"
   },
   {
    "duration": 180,
    "start_time": "2022-08-25T11:25:27.121Z"
   },
   {
    "duration": 171,
    "start_time": "2022-08-25T11:25:27.303Z"
   },
   {
    "duration": 213,
    "start_time": "2022-08-25T11:25:27.476Z"
   },
   {
    "duration": 159,
    "start_time": "2022-08-25T11:25:27.692Z"
   },
   {
    "duration": 157,
    "start_time": "2022-08-25T11:25:27.852Z"
   },
   {
    "duration": 10,
    "start_time": "2022-08-25T11:25:28.010Z"
   },
   {
    "duration": 249,
    "start_time": "2022-08-25T11:25:28.021Z"
   },
   {
    "duration": 18,
    "start_time": "2022-08-25T11:25:28.272Z"
   },
   {
    "duration": 170,
    "start_time": "2022-08-25T11:25:28.292Z"
   },
   {
    "duration": 5,
    "start_time": "2022-08-25T11:25:28.464Z"
   },
   {
    "duration": 182,
    "start_time": "2022-08-25T11:25:28.484Z"
   },
   {
    "duration": 172,
    "start_time": "2022-08-25T11:26:23.788Z"
   },
   {
    "duration": 4,
    "start_time": "2022-08-25T11:26:31.546Z"
   },
   {
    "duration": 118,
    "start_time": "2022-08-25T11:26:34.892Z"
   },
   {
    "duration": 671,
    "start_time": "2022-08-25T11:27:03.051Z"
   },
   {
    "duration": 668,
    "start_time": "2022-08-25T11:27:30.597Z"
   },
   {
    "duration": 16,
    "start_time": "2022-08-25T11:29:21.447Z"
   },
   {
    "duration": 15,
    "start_time": "2022-08-25T11:30:01.464Z"
   },
   {
    "duration": 14,
    "start_time": "2022-08-25T11:30:12.542Z"
   },
   {
    "duration": 15,
    "start_time": "2022-08-25T11:30:49.001Z"
   },
   {
    "duration": 826,
    "start_time": "2022-08-25T11:31:03.397Z"
   },
   {
    "duration": 14,
    "start_time": "2022-08-25T11:31:04.225Z"
   },
   {
    "duration": 14,
    "start_time": "2022-08-25T11:31:04.241Z"
   },
   {
    "duration": 33,
    "start_time": "2022-08-25T11:31:04.256Z"
   },
   {
    "duration": 19,
    "start_time": "2022-08-25T11:31:04.291Z"
   },
   {
    "duration": 4,
    "start_time": "2022-08-25T11:31:04.312Z"
   },
   {
    "duration": 18,
    "start_time": "2022-08-25T11:31:04.317Z"
   },
   {
    "duration": 53,
    "start_time": "2022-08-25T11:31:04.337Z"
   },
   {
    "duration": 16,
    "start_time": "2022-08-25T11:31:04.392Z"
   },
   {
    "duration": 223,
    "start_time": "2022-08-25T11:31:04.411Z"
   },
   {
    "duration": 14,
    "start_time": "2022-08-25T11:31:04.636Z"
   },
   {
    "duration": 163,
    "start_time": "2022-08-25T11:31:04.652Z"
   },
   {
    "duration": 171,
    "start_time": "2022-08-25T11:31:04.817Z"
   },
   {
    "duration": 169,
    "start_time": "2022-08-25T11:31:04.991Z"
   },
   {
    "duration": 220,
    "start_time": "2022-08-25T11:31:05.161Z"
   },
   {
    "duration": 175,
    "start_time": "2022-08-25T11:31:05.382Z"
   },
   {
    "duration": 173,
    "start_time": "2022-08-25T11:31:05.558Z"
   },
   {
    "duration": 7,
    "start_time": "2022-08-25T11:31:05.733Z"
   },
   {
    "duration": 205,
    "start_time": "2022-08-25T11:31:05.742Z"
   },
   {
    "duration": 178,
    "start_time": "2022-08-25T11:31:05.949Z"
   },
   {
    "duration": 175,
    "start_time": "2022-08-25T11:31:06.128Z"
   },
   {
    "duration": 161,
    "start_time": "2022-08-25T11:31:06.305Z"
   },
   {
    "duration": 159,
    "start_time": "2022-08-25T11:31:06.468Z"
   },
   {
    "duration": 170,
    "start_time": "2022-08-25T11:31:06.629Z"
   },
   {
    "duration": 174,
    "start_time": "2022-08-25T11:31:06.800Z"
   },
   {
    "duration": 183,
    "start_time": "2022-08-25T11:31:06.976Z"
   },
   {
    "duration": 253,
    "start_time": "2022-08-25T11:31:07.161Z"
   },
   {
    "duration": 174,
    "start_time": "2022-08-25T11:31:07.416Z"
   },
   {
    "duration": 166,
    "start_time": "2022-08-25T11:31:07.592Z"
   },
   {
    "duration": 11,
    "start_time": "2022-08-25T11:31:07.760Z"
   },
   {
    "duration": 273,
    "start_time": "2022-08-25T11:31:07.772Z"
   },
   {
    "duration": 12,
    "start_time": "2022-08-25T11:31:08.047Z"
   },
   {
    "duration": 327,
    "start_time": "2022-08-25T11:31:08.061Z"
   },
   {
    "duration": 0,
    "start_time": "2022-08-25T11:31:08.390Z"
   },
   {
    "duration": 0,
    "start_time": "2022-08-25T11:31:08.392Z"
   },
   {
    "duration": 734,
    "start_time": "2022-08-25T11:31:27.756Z"
   },
   {
    "duration": 14,
    "start_time": "2022-08-25T11:31:28.492Z"
   },
   {
    "duration": 23,
    "start_time": "2022-08-25T11:31:28.508Z"
   },
   {
    "duration": 25,
    "start_time": "2022-08-25T11:31:28.533Z"
   },
   {
    "duration": 26,
    "start_time": "2022-08-25T11:31:28.561Z"
   },
   {
    "duration": 18,
    "start_time": "2022-08-25T11:31:28.589Z"
   },
   {
    "duration": 30,
    "start_time": "2022-08-25T11:31:28.609Z"
   },
   {
    "duration": 39,
    "start_time": "2022-08-25T11:31:28.641Z"
   },
   {
    "duration": 15,
    "start_time": "2022-08-25T11:31:28.682Z"
   },
   {
    "duration": 187,
    "start_time": "2022-08-25T11:31:28.699Z"
   },
   {
    "duration": 15,
    "start_time": "2022-08-25T11:31:28.888Z"
   },
   {
    "duration": 164,
    "start_time": "2022-08-25T11:31:28.904Z"
   },
   {
    "duration": 169,
    "start_time": "2022-08-25T11:31:29.070Z"
   },
   {
    "duration": 167,
    "start_time": "2022-08-25T11:31:29.241Z"
   },
   {
    "duration": 193,
    "start_time": "2022-08-25T11:31:29.409Z"
   },
   {
    "duration": 159,
    "start_time": "2022-08-25T11:31:29.603Z"
   },
   {
    "duration": 149,
    "start_time": "2022-08-25T11:31:29.763Z"
   },
   {
    "duration": 6,
    "start_time": "2022-08-25T11:31:29.914Z"
   },
   {
    "duration": 169,
    "start_time": "2022-08-25T11:31:29.922Z"
   },
   {
    "duration": 168,
    "start_time": "2022-08-25T11:31:30.093Z"
   },
   {
    "duration": 185,
    "start_time": "2022-08-25T11:31:30.263Z"
   },
   {
    "duration": 182,
    "start_time": "2022-08-25T11:31:30.450Z"
   },
   {
    "duration": 174,
    "start_time": "2022-08-25T11:31:30.634Z"
   },
   {
    "duration": 180,
    "start_time": "2022-08-25T11:31:30.811Z"
   },
   {
    "duration": 178,
    "start_time": "2022-08-25T11:31:30.994Z"
   },
   {
    "duration": 184,
    "start_time": "2022-08-25T11:31:31.174Z"
   },
   {
    "duration": 243,
    "start_time": "2022-08-25T11:31:31.360Z"
   },
   {
    "duration": 171,
    "start_time": "2022-08-25T11:31:31.605Z"
   },
   {
    "duration": 166,
    "start_time": "2022-08-25T11:31:31.778Z"
   },
   {
    "duration": 10,
    "start_time": "2022-08-25T11:31:31.946Z"
   },
   {
    "duration": 233,
    "start_time": "2022-08-25T11:31:31.957Z"
   },
   {
    "duration": 12,
    "start_time": "2022-08-25T11:31:32.192Z"
   },
   {
    "duration": 746,
    "start_time": "2022-08-25T11:31:32.205Z"
   },
   {
    "duration": 4,
    "start_time": "2022-08-25T11:31:32.952Z"
   },
   {
    "duration": 744,
    "start_time": "2022-08-25T11:31:32.958Z"
   },
   {
    "duration": 79,
    "start_time": "2022-08-25T11:32:48.940Z"
   },
   {
    "duration": 692,
    "start_time": "2022-08-25T11:33:04.874Z"
   },
   {
    "duration": 14,
    "start_time": "2022-08-25T11:33:05.568Z"
   },
   {
    "duration": 21,
    "start_time": "2022-08-25T11:33:05.583Z"
   },
   {
    "duration": 15,
    "start_time": "2022-08-25T11:33:05.606Z"
   },
   {
    "duration": 20,
    "start_time": "2022-08-25T11:33:05.623Z"
   },
   {
    "duration": 5,
    "start_time": "2022-08-25T11:33:05.644Z"
   },
   {
    "duration": 35,
    "start_time": "2022-08-25T11:33:05.651Z"
   },
   {
    "duration": 25,
    "start_time": "2022-08-25T11:33:05.687Z"
   },
   {
    "duration": 23,
    "start_time": "2022-08-25T11:33:05.714Z"
   },
   {
    "duration": 195,
    "start_time": "2022-08-25T11:33:05.739Z"
   },
   {
    "duration": 12,
    "start_time": "2022-08-25T11:33:05.937Z"
   },
   {
    "duration": 149,
    "start_time": "2022-08-25T11:33:05.951Z"
   },
   {
    "duration": 170,
    "start_time": "2022-08-25T11:33:06.101Z"
   },
   {
    "duration": 159,
    "start_time": "2022-08-25T11:33:06.274Z"
   },
   {
    "duration": 197,
    "start_time": "2022-08-25T11:33:06.435Z"
   },
   {
    "duration": 166,
    "start_time": "2022-08-25T11:33:06.634Z"
   },
   {
    "duration": 188,
    "start_time": "2022-08-25T11:33:06.801Z"
   },
   {
    "duration": 6,
    "start_time": "2022-08-25T11:33:06.991Z"
   },
   {
    "duration": 172,
    "start_time": "2022-08-25T11:33:06.998Z"
   },
   {
    "duration": 183,
    "start_time": "2022-08-25T11:33:07.172Z"
   },
   {
    "duration": 174,
    "start_time": "2022-08-25T11:33:07.357Z"
   },
   {
    "duration": 168,
    "start_time": "2022-08-25T11:33:07.533Z"
   },
   {
    "duration": 168,
    "start_time": "2022-08-25T11:33:07.703Z"
   },
   {
    "duration": 176,
    "start_time": "2022-08-25T11:33:07.873Z"
   },
   {
    "duration": 178,
    "start_time": "2022-08-25T11:33:08.050Z"
   },
   {
    "duration": 198,
    "start_time": "2022-08-25T11:33:08.230Z"
   },
   {
    "duration": 237,
    "start_time": "2022-08-25T11:33:08.429Z"
   },
   {
    "duration": 158,
    "start_time": "2022-08-25T11:33:08.667Z"
   },
   {
    "duration": 163,
    "start_time": "2022-08-25T11:33:08.827Z"
   },
   {
    "duration": 10,
    "start_time": "2022-08-25T11:33:08.992Z"
   },
   {
    "duration": 254,
    "start_time": "2022-08-25T11:33:09.003Z"
   },
   {
    "duration": 10,
    "start_time": "2022-08-25T11:33:09.258Z"
   },
   {
    "duration": 114,
    "start_time": "2022-08-25T11:33:09.270Z"
   },
   {
    "duration": 0,
    "start_time": "2022-08-25T11:33:09.386Z"
   },
   {
    "duration": 0,
    "start_time": "2022-08-25T11:33:09.387Z"
   },
   {
    "duration": 744,
    "start_time": "2022-08-25T11:33:39.080Z"
   },
   {
    "duration": 13,
    "start_time": "2022-08-25T11:33:39.826Z"
   },
   {
    "duration": 18,
    "start_time": "2022-08-25T11:33:39.840Z"
   },
   {
    "duration": 30,
    "start_time": "2022-08-25T11:33:39.859Z"
   },
   {
    "duration": 18,
    "start_time": "2022-08-25T11:33:39.891Z"
   },
   {
    "duration": 5,
    "start_time": "2022-08-25T11:33:39.910Z"
   },
   {
    "duration": 22,
    "start_time": "2022-08-25T11:33:39.917Z"
   },
   {
    "duration": 23,
    "start_time": "2022-08-25T11:33:39.941Z"
   },
   {
    "duration": 23,
    "start_time": "2022-08-25T11:33:39.985Z"
   },
   {
    "duration": 222,
    "start_time": "2022-08-25T11:33:40.011Z"
   },
   {
    "duration": 17,
    "start_time": "2022-08-25T11:33:40.234Z"
   },
   {
    "duration": 234,
    "start_time": "2022-08-25T11:33:40.253Z"
   },
   {
    "duration": 238,
    "start_time": "2022-08-25T11:33:40.489Z"
   },
   {
    "duration": 181,
    "start_time": "2022-08-25T11:33:40.731Z"
   },
   {
    "duration": 193,
    "start_time": "2022-08-25T11:33:40.913Z"
   },
   {
    "duration": 161,
    "start_time": "2022-08-25T11:33:41.107Z"
   },
   {
    "duration": 152,
    "start_time": "2022-08-25T11:33:41.269Z"
   },
   {
    "duration": 6,
    "start_time": "2022-08-25T11:33:41.423Z"
   },
   {
    "duration": 160,
    "start_time": "2022-08-25T11:33:41.430Z"
   },
   {
    "duration": 167,
    "start_time": "2022-08-25T11:33:41.591Z"
   },
   {
    "duration": 178,
    "start_time": "2022-08-25T11:33:41.760Z"
   },
   {
    "duration": 176,
    "start_time": "2022-08-25T11:33:41.940Z"
   },
   {
    "duration": 175,
    "start_time": "2022-08-25T11:33:42.118Z"
   },
   {
    "duration": 169,
    "start_time": "2022-08-25T11:33:42.294Z"
   },
   {
    "duration": 166,
    "start_time": "2022-08-25T11:33:42.465Z"
   },
   {
    "duration": 186,
    "start_time": "2022-08-25T11:33:42.633Z"
   },
   {
    "duration": 239,
    "start_time": "2022-08-25T11:33:42.821Z"
   },
   {
    "duration": 174,
    "start_time": "2022-08-25T11:33:43.061Z"
   },
   {
    "duration": 150,
    "start_time": "2022-08-25T11:33:43.237Z"
   },
   {
    "duration": 11,
    "start_time": "2022-08-25T11:33:43.388Z"
   },
   {
    "duration": 234,
    "start_time": "2022-08-25T11:33:43.400Z"
   },
   {
    "duration": 11,
    "start_time": "2022-08-25T11:33:43.636Z"
   },
   {
    "duration": 708,
    "start_time": "2022-08-25T11:33:43.648Z"
   },
   {
    "duration": 5,
    "start_time": "2022-08-25T11:33:44.358Z"
   },
   {
    "duration": 860,
    "start_time": "2022-08-25T11:33:44.364Z"
   },
   {
    "duration": 544,
    "start_time": "2022-08-25T11:34:23.550Z"
   },
   {
    "duration": 181,
    "start_time": "2022-08-25T11:36:57.999Z"
   },
   {
    "duration": 126,
    "start_time": "2022-08-25T11:37:11.660Z"
   },
   {
    "duration": 151,
    "start_time": "2022-08-25T11:37:19.746Z"
   },
   {
    "duration": 7,
    "start_time": "2022-08-25T11:37:39.129Z"
   },
   {
    "duration": 239,
    "start_time": "2022-08-25T11:39:59.702Z"
   },
   {
    "duration": 167,
    "start_time": "2022-08-25T11:40:27.400Z"
   },
   {
    "duration": 197,
    "start_time": "2022-08-25T11:42:43.584Z"
   },
   {
    "duration": 190,
    "start_time": "2022-08-25T11:43:16.516Z"
   },
   {
    "duration": 183,
    "start_time": "2022-08-25T11:44:26.243Z"
   },
   {
    "duration": 203,
    "start_time": "2022-08-25T11:47:05.908Z"
   },
   {
    "duration": 161,
    "start_time": "2022-08-25T11:48:57.465Z"
   },
   {
    "duration": 174,
    "start_time": "2022-08-25T11:49:08.267Z"
   },
   {
    "duration": 186,
    "start_time": "2022-08-25T11:49:39.573Z"
   },
   {
    "duration": 6,
    "start_time": "2022-08-25T11:51:08.060Z"
   },
   {
    "duration": 5,
    "start_time": "2022-08-25T11:51:33.477Z"
   },
   {
    "duration": 7,
    "start_time": "2022-08-25T11:52:00.189Z"
   },
   {
    "duration": 5,
    "start_time": "2022-08-25T11:52:23.354Z"
   },
   {
    "duration": 165,
    "start_time": "2022-08-25T11:54:15.262Z"
   },
   {
    "duration": 136,
    "start_time": "2022-08-25T11:54:47.153Z"
   },
   {
    "duration": 706,
    "start_time": "2022-08-25T11:55:58.762Z"
   },
   {
    "duration": 12,
    "start_time": "2022-08-25T11:55:59.470Z"
   },
   {
    "duration": 14,
    "start_time": "2022-08-25T11:55:59.483Z"
   },
   {
    "duration": 12,
    "start_time": "2022-08-25T11:55:59.499Z"
   },
   {
    "duration": 16,
    "start_time": "2022-08-25T11:55:59.513Z"
   },
   {
    "duration": 4,
    "start_time": "2022-08-25T11:55:59.530Z"
   },
   {
    "duration": 15,
    "start_time": "2022-08-25T11:55:59.535Z"
   },
   {
    "duration": 44,
    "start_time": "2022-08-25T11:55:59.551Z"
   },
   {
    "duration": 13,
    "start_time": "2022-08-25T11:55:59.597Z"
   },
   {
    "duration": 174,
    "start_time": "2022-08-25T11:55:59.612Z"
   },
   {
    "duration": 12,
    "start_time": "2022-08-25T11:55:59.788Z"
   },
   {
    "duration": 154,
    "start_time": "2022-08-25T11:55:59.802Z"
   },
   {
    "duration": 178,
    "start_time": "2022-08-25T11:55:59.957Z"
   },
   {
    "duration": 182,
    "start_time": "2022-08-25T11:56:00.137Z"
   },
   {
    "duration": 207,
    "start_time": "2022-08-25T11:56:00.320Z"
   },
   {
    "duration": 175,
    "start_time": "2022-08-25T11:56:00.529Z"
   },
   {
    "duration": 164,
    "start_time": "2022-08-25T11:56:00.706Z"
   },
   {
    "duration": 19,
    "start_time": "2022-08-25T11:56:00.872Z"
   },
   {
    "duration": 178,
    "start_time": "2022-08-25T11:56:00.892Z"
   },
   {
    "duration": 170,
    "start_time": "2022-08-25T11:56:01.072Z"
   },
   {
    "duration": 176,
    "start_time": "2022-08-25T11:56:01.244Z"
   },
   {
    "duration": 171,
    "start_time": "2022-08-25T11:56:01.421Z"
   },
   {
    "duration": 153,
    "start_time": "2022-08-25T11:56:01.594Z"
   },
   {
    "duration": 183,
    "start_time": "2022-08-25T11:56:01.748Z"
   },
   {
    "duration": 171,
    "start_time": "2022-08-25T11:56:01.933Z"
   },
   {
    "duration": 157,
    "start_time": "2022-08-25T11:56:02.106Z"
   },
   {
    "duration": 220,
    "start_time": "2022-08-25T11:56:02.265Z"
   },
   {
    "duration": 158,
    "start_time": "2022-08-25T11:56:02.488Z"
   },
   {
    "duration": 158,
    "start_time": "2022-08-25T11:56:02.648Z"
   },
   {
    "duration": 10,
    "start_time": "2022-08-25T11:56:02.808Z"
   },
   {
    "duration": 237,
    "start_time": "2022-08-25T11:56:02.820Z"
   },
   {
    "duration": 10,
    "start_time": "2022-08-25T11:56:03.059Z"
   },
   {
    "duration": 173,
    "start_time": "2022-08-25T11:56:03.070Z"
   },
   {
    "duration": 153,
    "start_time": "2022-08-25T11:56:03.244Z"
   },
   {
    "duration": 155,
    "start_time": "2022-08-25T11:56:03.398Z"
   },
   {
    "duration": 171,
    "start_time": "2022-08-25T11:56:03.555Z"
   },
   {
    "duration": 180,
    "start_time": "2022-08-25T11:56:03.728Z"
   },
   {
    "duration": 164,
    "start_time": "2022-08-25T11:56:03.910Z"
   },
   {
    "duration": 198,
    "start_time": "2022-08-25T11:56:04.075Z"
   },
   {
    "duration": 10,
    "start_time": "2022-08-25T11:56:04.275Z"
   },
   {
    "duration": 227,
    "start_time": "2022-08-25T11:56:27.339Z"
   },
   {
    "duration": 12,
    "start_time": "2022-08-25T13:07:37.052Z"
   },
   {
    "duration": 193,
    "start_time": "2022-08-25T13:20:42.833Z"
   },
   {
    "duration": 160,
    "start_time": "2022-08-25T13:20:50.515Z"
   },
   {
    "duration": 186,
    "start_time": "2022-08-25T13:21:11.375Z"
   },
   {
    "duration": 163,
    "start_time": "2022-08-25T13:24:29.583Z"
   },
   {
    "duration": 191,
    "start_time": "2022-08-25T13:25:36.481Z"
   },
   {
    "duration": 279,
    "start_time": "2022-08-25T13:26:57.104Z"
   },
   {
    "duration": 288,
    "start_time": "2022-08-25T13:27:38.015Z"
   },
   {
    "duration": 336,
    "start_time": "2022-08-25T13:27:47.316Z"
   },
   {
    "duration": 342,
    "start_time": "2022-08-25T13:28:22.295Z"
   },
   {
    "duration": 316,
    "start_time": "2022-08-25T13:28:32.678Z"
   },
   {
    "duration": 270,
    "start_time": "2022-08-25T13:28:38.266Z"
   },
   {
    "duration": 284,
    "start_time": "2022-08-25T13:28:51.202Z"
   },
   {
    "duration": 732,
    "start_time": "2022-08-25T13:29:04.068Z"
   },
   {
    "duration": 12,
    "start_time": "2022-08-25T13:29:04.801Z"
   },
   {
    "duration": 13,
    "start_time": "2022-08-25T13:29:04.815Z"
   },
   {
    "duration": 13,
    "start_time": "2022-08-25T13:29:04.829Z"
   },
   {
    "duration": 17,
    "start_time": "2022-08-25T13:29:04.844Z"
   },
   {
    "duration": 24,
    "start_time": "2022-08-25T13:29:04.862Z"
   },
   {
    "duration": 16,
    "start_time": "2022-08-25T13:29:04.888Z"
   },
   {
    "duration": 20,
    "start_time": "2022-08-25T13:29:04.906Z"
   },
   {
    "duration": 13,
    "start_time": "2022-08-25T13:29:04.927Z"
   },
   {
    "duration": 191,
    "start_time": "2022-08-25T13:29:04.941Z"
   },
   {
    "duration": 13,
    "start_time": "2022-08-25T13:29:05.134Z"
   },
   {
    "duration": 162,
    "start_time": "2022-08-25T13:29:05.149Z"
   },
   {
    "duration": 152,
    "start_time": "2022-08-25T13:29:05.313Z"
   },
   {
    "duration": 167,
    "start_time": "2022-08-25T13:29:05.467Z"
   },
   {
    "duration": 207,
    "start_time": "2022-08-25T13:29:05.636Z"
   },
   {
    "duration": 172,
    "start_time": "2022-08-25T13:29:05.845Z"
   },
   {
    "duration": 162,
    "start_time": "2022-08-25T13:29:06.019Z"
   },
   {
    "duration": 6,
    "start_time": "2022-08-25T13:29:06.183Z"
   },
   {
    "duration": 169,
    "start_time": "2022-08-25T13:29:06.190Z"
   },
   {
    "duration": 165,
    "start_time": "2022-08-25T13:29:06.361Z"
   },
   {
    "duration": 173,
    "start_time": "2022-08-25T13:29:06.528Z"
   },
   {
    "duration": 178,
    "start_time": "2022-08-25T13:29:06.702Z"
   },
   {
    "duration": 169,
    "start_time": "2022-08-25T13:29:06.884Z"
   },
   {
    "duration": 166,
    "start_time": "2022-08-25T13:29:07.055Z"
   },
   {
    "duration": 161,
    "start_time": "2022-08-25T13:29:07.223Z"
   },
   {
    "duration": 160,
    "start_time": "2022-08-25T13:29:07.386Z"
   },
   {
    "duration": 213,
    "start_time": "2022-08-25T13:29:07.548Z"
   },
   {
    "duration": 162,
    "start_time": "2022-08-25T13:29:07.763Z"
   },
   {
    "duration": 190,
    "start_time": "2022-08-25T13:29:07.928Z"
   },
   {
    "duration": 11,
    "start_time": "2022-08-25T13:29:08.120Z"
   },
   {
    "duration": 254,
    "start_time": "2022-08-25T13:29:08.133Z"
   },
   {
    "duration": 186,
    "start_time": "2022-08-25T13:29:08.389Z"
   },
   {
    "duration": 166,
    "start_time": "2022-08-25T13:29:08.577Z"
   },
   {
    "duration": 173,
    "start_time": "2022-08-25T13:29:08.745Z"
   },
   {
    "duration": 169,
    "start_time": "2022-08-25T13:29:08.920Z"
   },
   {
    "duration": 166,
    "start_time": "2022-08-25T13:29:09.091Z"
   },
   {
    "duration": 148,
    "start_time": "2022-08-25T13:29:09.259Z"
   },
   {
    "duration": 161,
    "start_time": "2022-08-25T13:29:09.409Z"
   },
   {
    "duration": 250,
    "start_time": "2022-08-25T13:29:09.572Z"
   },
   {
    "duration": 12,
    "start_time": "2022-08-25T13:29:09.823Z"
   },
   {
    "duration": 183,
    "start_time": "2022-08-25T13:29:09.839Z"
   },
   {
    "duration": 315,
    "start_time": "2022-08-25T13:29:10.023Z"
   },
   {
    "duration": 329,
    "start_time": "2022-08-25T13:29:37.132Z"
   },
   {
    "duration": 729,
    "start_time": "2022-08-25T13:41:35.664Z"
   },
   {
    "duration": 14,
    "start_time": "2022-08-25T13:41:36.395Z"
   },
   {
    "duration": 14,
    "start_time": "2022-08-25T13:41:36.410Z"
   },
   {
    "duration": 16,
    "start_time": "2022-08-25T13:41:36.426Z"
   },
   {
    "duration": 42,
    "start_time": "2022-08-25T13:41:36.444Z"
   },
   {
    "duration": 5,
    "start_time": "2022-08-25T13:41:36.488Z"
   },
   {
    "duration": 17,
    "start_time": "2022-08-25T13:41:36.495Z"
   },
   {
    "duration": 26,
    "start_time": "2022-08-25T13:41:36.514Z"
   },
   {
    "duration": 52,
    "start_time": "2022-08-25T13:41:36.542Z"
   },
   {
    "duration": 192,
    "start_time": "2022-08-25T13:41:36.596Z"
   },
   {
    "duration": 17,
    "start_time": "2022-08-25T13:41:36.790Z"
   },
   {
    "duration": 179,
    "start_time": "2022-08-25T13:41:36.808Z"
   },
   {
    "duration": 157,
    "start_time": "2022-08-25T13:41:36.988Z"
   },
   {
    "duration": 169,
    "start_time": "2022-08-25T13:41:37.148Z"
   },
   {
    "duration": 205,
    "start_time": "2022-08-25T13:41:37.319Z"
   },
   {
    "duration": 164,
    "start_time": "2022-08-25T13:41:37.526Z"
   },
   {
    "duration": 166,
    "start_time": "2022-08-25T13:41:37.693Z"
   },
   {
    "duration": 9,
    "start_time": "2022-08-25T13:41:37.861Z"
   },
   {
    "duration": 183,
    "start_time": "2022-08-25T13:41:37.871Z"
   },
   {
    "duration": 166,
    "start_time": "2022-08-25T13:41:38.056Z"
   },
   {
    "duration": 178,
    "start_time": "2022-08-25T13:41:38.223Z"
   },
   {
    "duration": 169,
    "start_time": "2022-08-25T13:41:38.403Z"
   },
   {
    "duration": 178,
    "start_time": "2022-08-25T13:41:38.574Z"
   },
   {
    "duration": 188,
    "start_time": "2022-08-25T13:41:38.753Z"
   },
   {
    "duration": 180,
    "start_time": "2022-08-25T13:41:38.943Z"
   },
   {
    "duration": 188,
    "start_time": "2022-08-25T13:41:39.125Z"
   },
   {
    "duration": 233,
    "start_time": "2022-08-25T13:41:39.315Z"
   },
   {
    "duration": 175,
    "start_time": "2022-08-25T13:41:39.550Z"
   },
   {
    "duration": 165,
    "start_time": "2022-08-25T13:41:39.727Z"
   },
   {
    "duration": 11,
    "start_time": "2022-08-25T13:41:39.893Z"
   },
   {
    "duration": 261,
    "start_time": "2022-08-25T13:41:39.906Z"
   },
   {
    "duration": 307,
    "start_time": "2022-08-25T13:41:40.169Z"
   },
   {
    "duration": 198,
    "start_time": "2022-08-25T13:41:40.478Z"
   },
   {
    "duration": 159,
    "start_time": "2022-08-25T13:41:40.684Z"
   },
   {
    "duration": 179,
    "start_time": "2022-08-25T13:41:40.844Z"
   },
   {
    "duration": 168,
    "start_time": "2022-08-25T13:41:41.025Z"
   },
   {
    "duration": 177,
    "start_time": "2022-08-25T13:41:41.195Z"
   },
   {
    "duration": 218,
    "start_time": "2022-08-25T13:41:41.374Z"
   },
   {
    "duration": 182,
    "start_time": "2022-08-25T13:41:41.594Z"
   },
   {
    "duration": 194,
    "start_time": "2022-08-25T13:41:41.784Z"
   },
   {
    "duration": 11,
    "start_time": "2022-08-25T13:41:41.984Z"
   },
   {
    "duration": 218,
    "start_time": "2022-08-25T13:41:41.997Z"
   },
   {
    "duration": 318,
    "start_time": "2022-08-25T13:41:42.217Z"
   },
   {
    "duration": 174,
    "start_time": "2022-08-25T13:51:32.791Z"
   },
   {
    "duration": 74,
    "start_time": "2022-08-25T13:53:50.800Z"
   },
   {
    "duration": 10,
    "start_time": "2022-08-25T13:54:05.792Z"
   },
   {
    "duration": 146,
    "start_time": "2022-08-25T13:55:25.655Z"
   },
   {
    "duration": 153,
    "start_time": "2022-08-25T13:56:40.876Z"
   },
   {
    "duration": 650,
    "start_time": "2022-08-25T13:56:57.325Z"
   },
   {
    "duration": 14,
    "start_time": "2022-08-25T13:56:57.977Z"
   },
   {
    "duration": 16,
    "start_time": "2022-08-25T13:56:57.992Z"
   },
   {
    "duration": 15,
    "start_time": "2022-08-25T13:56:58.010Z"
   },
   {
    "duration": 18,
    "start_time": "2022-08-25T13:56:58.027Z"
   },
   {
    "duration": 5,
    "start_time": "2022-08-25T13:56:58.046Z"
   },
   {
    "duration": 43,
    "start_time": "2022-08-25T13:56:58.053Z"
   },
   {
    "duration": 26,
    "start_time": "2022-08-25T13:56:58.098Z"
   },
   {
    "duration": 17,
    "start_time": "2022-08-25T13:56:58.126Z"
   },
   {
    "duration": 205,
    "start_time": "2022-08-25T13:56:58.145Z"
   },
   {
    "duration": 14,
    "start_time": "2022-08-25T13:56:58.352Z"
   },
   {
    "duration": 164,
    "start_time": "2022-08-25T13:56:58.368Z"
   },
   {
    "duration": 161,
    "start_time": "2022-08-25T13:56:58.535Z"
   },
   {
    "duration": 179,
    "start_time": "2022-08-25T13:56:58.700Z"
   },
   {
    "duration": 205,
    "start_time": "2022-08-25T13:56:58.881Z"
   },
   {
    "duration": 166,
    "start_time": "2022-08-25T13:56:59.088Z"
   },
   {
    "duration": 154,
    "start_time": "2022-08-25T13:56:59.255Z"
   },
   {
    "duration": 6,
    "start_time": "2022-08-25T13:56:59.411Z"
   },
   {
    "duration": 176,
    "start_time": "2022-08-25T13:56:59.418Z"
   },
   {
    "duration": 162,
    "start_time": "2022-08-25T13:56:59.595Z"
   },
   {
    "duration": 170,
    "start_time": "2022-08-25T13:56:59.759Z"
   },
   {
    "duration": 171,
    "start_time": "2022-08-25T13:56:59.931Z"
   },
   {
    "duration": 159,
    "start_time": "2022-08-25T13:57:00.104Z"
   },
   {
    "duration": 167,
    "start_time": "2022-08-25T13:57:00.265Z"
   },
   {
    "duration": 173,
    "start_time": "2022-08-25T13:57:00.433Z"
   },
   {
    "duration": 190,
    "start_time": "2022-08-25T13:57:00.607Z"
   },
   {
    "duration": 244,
    "start_time": "2022-08-25T13:57:00.800Z"
   },
   {
    "duration": 173,
    "start_time": "2022-08-25T13:57:01.046Z"
   },
   {
    "duration": 155,
    "start_time": "2022-08-25T13:57:01.221Z"
   },
   {
    "duration": 11,
    "start_time": "2022-08-25T13:57:01.388Z"
   },
   {
    "duration": 240,
    "start_time": "2022-08-25T13:57:01.400Z"
   },
   {
    "duration": 0,
    "start_time": "2022-08-25T13:57:01.641Z"
   },
   {
    "duration": 0,
    "start_time": "2022-08-25T13:57:01.643Z"
   },
   {
    "duration": 0,
    "start_time": "2022-08-25T13:57:01.644Z"
   },
   {
    "duration": 0,
    "start_time": "2022-08-25T13:57:01.646Z"
   },
   {
    "duration": 0,
    "start_time": "2022-08-25T13:57:01.647Z"
   },
   {
    "duration": 0,
    "start_time": "2022-08-25T13:57:01.649Z"
   },
   {
    "duration": 0,
    "start_time": "2022-08-25T13:57:01.650Z"
   },
   {
    "duration": 0,
    "start_time": "2022-08-25T13:57:01.652Z"
   },
   {
    "duration": 0,
    "start_time": "2022-08-25T13:57:01.653Z"
   },
   {
    "duration": 0,
    "start_time": "2022-08-25T13:57:01.654Z"
   },
   {
    "duration": 0,
    "start_time": "2022-08-25T13:57:01.656Z"
   },
   {
    "duration": 0,
    "start_time": "2022-08-25T13:57:01.685Z"
   },
   {
    "duration": 0,
    "start_time": "2022-08-25T13:57:01.687Z"
   },
   {
    "duration": 222,
    "start_time": "2022-08-25T13:57:33.824Z"
   },
   {
    "duration": 227,
    "start_time": "2022-08-25T13:58:32.947Z"
   },
   {
    "duration": 707,
    "start_time": "2022-08-25T13:58:50.651Z"
   },
   {
    "duration": 13,
    "start_time": "2022-08-25T13:58:51.360Z"
   },
   {
    "duration": 12,
    "start_time": "2022-08-25T13:58:51.374Z"
   },
   {
    "duration": 14,
    "start_time": "2022-08-25T13:58:51.387Z"
   },
   {
    "duration": 18,
    "start_time": "2022-08-25T13:58:51.403Z"
   },
   {
    "duration": 5,
    "start_time": "2022-08-25T13:58:51.422Z"
   },
   {
    "duration": 21,
    "start_time": "2022-08-25T13:58:51.428Z"
   },
   {
    "duration": 41,
    "start_time": "2022-08-25T13:58:51.450Z"
   },
   {
    "duration": 14,
    "start_time": "2022-08-25T13:58:51.492Z"
   },
   {
    "duration": 234,
    "start_time": "2022-08-25T13:58:51.508Z"
   },
   {
    "duration": 14,
    "start_time": "2022-08-25T13:58:51.744Z"
   },
   {
    "duration": 168,
    "start_time": "2022-08-25T13:58:51.760Z"
   },
   {
    "duration": 164,
    "start_time": "2022-08-25T13:58:51.929Z"
   },
   {
    "duration": 167,
    "start_time": "2022-08-25T13:58:52.097Z"
   },
   {
    "duration": 204,
    "start_time": "2022-08-25T13:58:52.266Z"
   },
   {
    "duration": 162,
    "start_time": "2022-08-25T13:58:52.472Z"
   },
   {
    "duration": 193,
    "start_time": "2022-08-25T13:58:52.636Z"
   },
   {
    "duration": 8,
    "start_time": "2022-08-25T13:58:52.831Z"
   },
   {
    "duration": 191,
    "start_time": "2022-08-25T13:58:52.841Z"
   },
   {
    "duration": 207,
    "start_time": "2022-08-25T13:58:53.034Z"
   },
   {
    "duration": 164,
    "start_time": "2022-08-25T13:58:53.242Z"
   },
   {
    "duration": 163,
    "start_time": "2022-08-25T13:58:53.407Z"
   },
   {
    "duration": 163,
    "start_time": "2022-08-25T13:58:53.572Z"
   },
   {
    "duration": 171,
    "start_time": "2022-08-25T13:58:53.737Z"
   },
   {
    "duration": 172,
    "start_time": "2022-08-25T13:58:53.909Z"
   },
   {
    "duration": 178,
    "start_time": "2022-08-25T13:58:54.085Z"
   },
   {
    "duration": 350,
    "start_time": "2022-08-25T13:58:54.264Z"
   },
   {
    "duration": 196,
    "start_time": "2022-08-25T13:58:54.616Z"
   },
   {
    "duration": 181,
    "start_time": "2022-08-25T13:58:54.814Z"
   },
   {
    "duration": 14,
    "start_time": "2022-08-25T13:58:54.997Z"
   },
   {
    "duration": 265,
    "start_time": "2022-08-25T13:58:55.012Z"
   },
   {
    "duration": 175,
    "start_time": "2022-08-25T13:58:55.284Z"
   },
   {
    "duration": 154,
    "start_time": "2022-08-25T13:58:55.461Z"
   },
   {
    "duration": 189,
    "start_time": "2022-08-25T13:58:55.617Z"
   },
   {
    "duration": 191,
    "start_time": "2022-08-25T13:58:55.808Z"
   },
   {
    "duration": 218,
    "start_time": "2022-08-25T13:58:56.001Z"
   },
   {
    "duration": 153,
    "start_time": "2022-08-25T13:58:56.220Z"
   },
   {
    "duration": 165,
    "start_time": "2022-08-25T13:58:56.375Z"
   },
   {
    "duration": 259,
    "start_time": "2022-08-25T13:58:56.542Z"
   },
   {
    "duration": 12,
    "start_time": "2022-08-25T13:58:56.803Z"
   },
   {
    "duration": 209,
    "start_time": "2022-08-25T13:58:56.818Z"
   },
   {
    "duration": 307,
    "start_time": "2022-08-25T13:58:57.028Z"
   },
   {
    "duration": 10,
    "start_time": "2022-08-25T13:58:57.336Z"
   },
   {
    "duration": 147,
    "start_time": "2022-08-25T13:58:57.348Z"
   },
   {
    "duration": 1105,
    "start_time": "2022-08-25T14:01:32.929Z"
   },
   {
    "duration": 137,
    "start_time": "2022-08-25T14:01:50.844Z"
   },
   {
    "duration": 6,
    "start_time": "2022-08-25T14:03:06.001Z"
   },
   {
    "duration": 4,
    "start_time": "2022-08-25T14:03:50.243Z"
   },
   {
    "duration": 7,
    "start_time": "2022-08-25T14:06:25.390Z"
   },
   {
    "duration": 30,
    "start_time": "2022-08-25T14:06:38.110Z"
   },
   {
    "duration": 201,
    "start_time": "2022-08-25T14:08:22.800Z"
   },
   {
    "duration": 172,
    "start_time": "2022-08-25T14:08:37.890Z"
   },
   {
    "duration": 141,
    "start_time": "2022-08-25T14:09:21.207Z"
   },
   {
    "duration": 168,
    "start_time": "2022-08-25T14:10:00.764Z"
   },
   {
    "duration": 247,
    "start_time": "2022-08-25T14:10:30.766Z"
   },
   {
    "duration": 173,
    "start_time": "2022-08-25T14:11:00.382Z"
   },
   {
    "duration": 160,
    "start_time": "2022-08-25T14:11:27.236Z"
   },
   {
    "duration": 162,
    "start_time": "2022-08-25T14:12:01.903Z"
   },
   {
    "duration": 165,
    "start_time": "2022-08-25T14:12:27.643Z"
   },
   {
    "duration": 10,
    "start_time": "2022-08-25T14:12:42.081Z"
   },
   {
    "duration": 696,
    "start_time": "2022-08-25T14:12:59.347Z"
   },
   {
    "duration": 13,
    "start_time": "2022-08-25T14:13:00.045Z"
   },
   {
    "duration": 11,
    "start_time": "2022-08-25T14:13:00.060Z"
   },
   {
    "duration": 21,
    "start_time": "2022-08-25T14:13:00.073Z"
   },
   {
    "duration": 18,
    "start_time": "2022-08-25T14:13:00.096Z"
   },
   {
    "duration": 6,
    "start_time": "2022-08-25T14:13:00.115Z"
   },
   {
    "duration": 19,
    "start_time": "2022-08-25T14:13:00.122Z"
   },
   {
    "duration": 46,
    "start_time": "2022-08-25T14:13:00.143Z"
   },
   {
    "duration": 14,
    "start_time": "2022-08-25T14:13:00.191Z"
   },
   {
    "duration": 190,
    "start_time": "2022-08-25T14:13:00.207Z"
   },
   {
    "duration": 14,
    "start_time": "2022-08-25T14:13:00.399Z"
   },
   {
    "duration": 172,
    "start_time": "2022-08-25T14:13:00.415Z"
   },
   {
    "duration": 172,
    "start_time": "2022-08-25T14:13:00.589Z"
   },
   {
    "duration": 186,
    "start_time": "2022-08-25T14:13:00.763Z"
   },
   {
    "duration": 214,
    "start_time": "2022-08-25T14:13:00.951Z"
   },
   {
    "duration": 160,
    "start_time": "2022-08-25T14:13:01.166Z"
   },
   {
    "duration": 159,
    "start_time": "2022-08-25T14:13:01.328Z"
   },
   {
    "duration": 6,
    "start_time": "2022-08-25T14:13:01.489Z"
   },
   {
    "duration": 161,
    "start_time": "2022-08-25T14:13:01.496Z"
   },
   {
    "duration": 166,
    "start_time": "2022-08-25T14:13:01.659Z"
   },
   {
    "duration": 167,
    "start_time": "2022-08-25T14:13:01.827Z"
   },
   {
    "duration": 165,
    "start_time": "2022-08-25T14:13:01.996Z"
   },
   {
    "duration": 163,
    "start_time": "2022-08-25T14:13:02.163Z"
   },
   {
    "duration": 168,
    "start_time": "2022-08-25T14:13:02.328Z"
   },
   {
    "duration": 164,
    "start_time": "2022-08-25T14:13:02.498Z"
   },
   {
    "duration": 181,
    "start_time": "2022-08-25T14:13:02.664Z"
   },
   {
    "duration": 247,
    "start_time": "2022-08-25T14:13:02.846Z"
   },
   {
    "duration": 173,
    "start_time": "2022-08-25T14:13:03.097Z"
   },
   {
    "duration": 152,
    "start_time": "2022-08-25T14:13:03.271Z"
   },
   {
    "duration": 10,
    "start_time": "2022-08-25T14:13:03.425Z"
   },
   {
    "duration": 239,
    "start_time": "2022-08-25T14:13:03.437Z"
   },
   {
    "duration": 177,
    "start_time": "2022-08-25T14:13:03.677Z"
   },
   {
    "duration": 157,
    "start_time": "2022-08-25T14:13:03.855Z"
   },
   {
    "duration": 176,
    "start_time": "2022-08-25T14:13:04.014Z"
   },
   {
    "duration": 164,
    "start_time": "2022-08-25T14:13:04.191Z"
   },
   {
    "duration": 215,
    "start_time": "2022-08-25T14:13:04.356Z"
   },
   {
    "duration": 154,
    "start_time": "2022-08-25T14:13:04.574Z"
   },
   {
    "duration": 188,
    "start_time": "2022-08-25T14:13:04.730Z"
   },
   {
    "duration": 273,
    "start_time": "2022-08-25T14:13:04.920Z"
   },
   {
    "duration": 206,
    "start_time": "2022-08-25T14:13:05.194Z"
   },
   {
    "duration": 326,
    "start_time": "2022-08-25T14:13:05.403Z"
   },
   {
    "duration": 11,
    "start_time": "2022-08-25T14:13:05.732Z"
   },
   {
    "duration": 150,
    "start_time": "2022-08-25T14:13:05.744Z"
   },
   {
    "duration": 4,
    "start_time": "2022-08-25T14:13:05.896Z"
   },
   {
    "duration": 205,
    "start_time": "2022-08-25T14:13:05.901Z"
   },
   {
    "duration": 148,
    "start_time": "2022-08-25T14:15:03.855Z"
   },
   {
    "duration": 6,
    "start_time": "2022-08-25T14:17:49.268Z"
   },
   {
    "duration": 140,
    "start_time": "2022-08-25T14:17:54.035Z"
   },
   {
    "duration": 12,
    "start_time": "2022-08-25T14:18:33.259Z"
   },
   {
    "duration": 7,
    "start_time": "2022-08-25T14:18:53.909Z"
   },
   {
    "duration": 4,
    "start_time": "2022-08-25T14:20:36.615Z"
   },
   {
    "duration": 143,
    "start_time": "2022-08-25T14:20:40.681Z"
   },
   {
    "duration": 679,
    "start_time": "2022-08-25T14:21:03.590Z"
   },
   {
    "duration": 13,
    "start_time": "2022-08-25T14:21:04.271Z"
   },
   {
    "duration": 12,
    "start_time": "2022-08-25T14:21:04.286Z"
   },
   {
    "duration": 15,
    "start_time": "2022-08-25T14:21:04.300Z"
   },
   {
    "duration": 19,
    "start_time": "2022-08-25T14:21:04.318Z"
   },
   {
    "duration": 4,
    "start_time": "2022-08-25T14:21:04.339Z"
   },
   {
    "duration": 42,
    "start_time": "2022-08-25T14:21:04.345Z"
   },
   {
    "duration": 27,
    "start_time": "2022-08-25T14:21:04.389Z"
   },
   {
    "duration": 17,
    "start_time": "2022-08-25T14:21:04.418Z"
   },
   {
    "duration": 249,
    "start_time": "2022-08-25T14:21:04.437Z"
   },
   {
    "duration": 12,
    "start_time": "2022-08-25T14:21:04.688Z"
   },
   {
    "duration": 158,
    "start_time": "2022-08-25T14:21:04.702Z"
   },
   {
    "duration": 171,
    "start_time": "2022-08-25T14:21:04.861Z"
   },
   {
    "duration": 174,
    "start_time": "2022-08-25T14:21:05.036Z"
   },
   {
    "duration": 202,
    "start_time": "2022-08-25T14:21:05.212Z"
   },
   {
    "duration": 166,
    "start_time": "2022-08-25T14:21:05.416Z"
   },
   {
    "duration": 151,
    "start_time": "2022-08-25T14:21:05.584Z"
   },
   {
    "duration": 6,
    "start_time": "2022-08-25T14:21:05.737Z"
   },
   {
    "duration": 170,
    "start_time": "2022-08-25T14:21:05.744Z"
   },
   {
    "duration": 165,
    "start_time": "2022-08-25T14:21:05.916Z"
   },
   {
    "duration": 181,
    "start_time": "2022-08-25T14:21:06.084Z"
   },
   {
    "duration": 162,
    "start_time": "2022-08-25T14:21:06.266Z"
   },
   {
    "duration": 165,
    "start_time": "2022-08-25T14:21:06.430Z"
   },
   {
    "duration": 176,
    "start_time": "2022-08-25T14:21:06.596Z"
   },
   {
    "duration": 173,
    "start_time": "2022-08-25T14:21:06.773Z"
   },
   {
    "duration": 183,
    "start_time": "2022-08-25T14:21:06.948Z"
   },
   {
    "duration": 231,
    "start_time": "2022-08-25T14:21:07.133Z"
   },
   {
    "duration": 171,
    "start_time": "2022-08-25T14:21:07.366Z"
   },
   {
    "duration": 170,
    "start_time": "2022-08-25T14:21:07.539Z"
   },
   {
    "duration": 12,
    "start_time": "2022-08-25T14:21:07.711Z"
   },
   {
    "duration": 253,
    "start_time": "2022-08-25T14:21:07.725Z"
   },
   {
    "duration": 195,
    "start_time": "2022-08-25T14:21:07.980Z"
   },
   {
    "duration": 179,
    "start_time": "2022-08-25T14:21:08.177Z"
   },
   {
    "duration": 177,
    "start_time": "2022-08-25T14:21:08.358Z"
   },
   {
    "duration": 178,
    "start_time": "2022-08-25T14:21:08.536Z"
   },
   {
    "duration": 183,
    "start_time": "2022-08-25T14:21:08.717Z"
   },
   {
    "duration": 154,
    "start_time": "2022-08-25T14:21:08.902Z"
   },
   {
    "duration": 187,
    "start_time": "2022-08-25T14:21:09.057Z"
   },
   {
    "duration": 266,
    "start_time": "2022-08-25T14:21:09.247Z"
   },
   {
    "duration": 200,
    "start_time": "2022-08-25T14:21:09.515Z"
   },
   {
    "duration": 328,
    "start_time": "2022-08-25T14:21:09.719Z"
   },
   {
    "duration": 11,
    "start_time": "2022-08-25T14:21:10.048Z"
   },
   {
    "duration": 164,
    "start_time": "2022-08-25T14:21:10.061Z"
   },
   {
    "duration": 8,
    "start_time": "2022-08-25T14:21:10.227Z"
   },
   {
    "duration": 13,
    "start_time": "2022-08-25T14:21:10.237Z"
   },
   {
    "duration": 228,
    "start_time": "2022-08-25T14:21:10.252Z"
   },
   {
    "duration": 648,
    "start_time": "2022-08-25T14:23:12.433Z"
   },
   {
    "duration": 14,
    "start_time": "2022-08-25T14:23:13.083Z"
   },
   {
    "duration": 26,
    "start_time": "2022-08-25T14:23:13.098Z"
   },
   {
    "duration": 16,
    "start_time": "2022-08-25T14:23:13.126Z"
   },
   {
    "duration": 24,
    "start_time": "2022-08-25T14:23:13.143Z"
   },
   {
    "duration": 5,
    "start_time": "2022-08-25T14:23:13.169Z"
   },
   {
    "duration": 15,
    "start_time": "2022-08-25T14:23:13.185Z"
   },
   {
    "duration": 26,
    "start_time": "2022-08-25T14:23:13.202Z"
   },
   {
    "duration": 16,
    "start_time": "2022-08-25T14:23:13.229Z"
   },
   {
    "duration": 201,
    "start_time": "2022-08-25T14:23:13.248Z"
   },
   {
    "duration": 11,
    "start_time": "2022-08-25T14:23:13.450Z"
   },
   {
    "duration": 156,
    "start_time": "2022-08-25T14:23:13.463Z"
   },
   {
    "duration": 174,
    "start_time": "2022-08-25T14:23:13.620Z"
   },
   {
    "duration": 167,
    "start_time": "2022-08-25T14:23:13.795Z"
   },
   {
    "duration": 219,
    "start_time": "2022-08-25T14:23:13.963Z"
   },
   {
    "duration": 151,
    "start_time": "2022-08-25T14:23:14.184Z"
   },
   {
    "duration": 193,
    "start_time": "2022-08-25T14:23:14.336Z"
   },
   {
    "duration": 8,
    "start_time": "2022-08-25T14:23:14.531Z"
   },
   {
    "duration": 193,
    "start_time": "2022-08-25T14:23:14.541Z"
   },
   {
    "duration": 165,
    "start_time": "2022-08-25T14:23:14.736Z"
   },
   {
    "duration": 168,
    "start_time": "2022-08-25T14:23:14.903Z"
   },
   {
    "duration": 163,
    "start_time": "2022-08-25T14:23:15.072Z"
   },
   {
    "duration": 155,
    "start_time": "2022-08-25T14:23:15.236Z"
   },
   {
    "duration": 159,
    "start_time": "2022-08-25T14:23:15.393Z"
   },
   {
    "duration": 169,
    "start_time": "2022-08-25T14:23:15.554Z"
   },
   {
    "duration": 172,
    "start_time": "2022-08-25T14:23:15.725Z"
   },
   {
    "duration": 251,
    "start_time": "2022-08-25T14:23:15.899Z"
   },
   {
    "duration": 180,
    "start_time": "2022-08-25T14:23:16.155Z"
   },
   {
    "duration": 157,
    "start_time": "2022-08-25T14:23:16.337Z"
   },
   {
    "duration": 10,
    "start_time": "2022-08-25T14:23:16.496Z"
   },
   {
    "duration": 232,
    "start_time": "2022-08-25T14:23:16.508Z"
   },
   {
    "duration": 168,
    "start_time": "2022-08-25T14:23:16.741Z"
   },
   {
    "duration": 157,
    "start_time": "2022-08-25T14:23:16.910Z"
   },
   {
    "duration": 179,
    "start_time": "2022-08-25T14:23:17.069Z"
   },
   {
    "duration": 170,
    "start_time": "2022-08-25T14:23:17.250Z"
   },
   {
    "duration": 169,
    "start_time": "2022-08-25T14:23:17.422Z"
   },
   {
    "duration": 152,
    "start_time": "2022-08-25T14:23:17.593Z"
   },
   {
    "duration": 174,
    "start_time": "2022-08-25T14:23:17.747Z"
   },
   {
    "duration": 255,
    "start_time": "2022-08-25T14:23:17.923Z"
   },
   {
    "duration": 192,
    "start_time": "2022-08-25T14:23:18.184Z"
   },
   {
    "duration": 303,
    "start_time": "2022-08-25T14:23:18.378Z"
   },
   {
    "duration": 10,
    "start_time": "2022-08-25T14:23:18.685Z"
   },
   {
    "duration": 144,
    "start_time": "2022-08-25T14:23:18.697Z"
   },
   {
    "duration": 3,
    "start_time": "2022-08-25T14:23:18.843Z"
   },
   {
    "duration": 9,
    "start_time": "2022-08-25T14:23:18.847Z"
   },
   {
    "duration": 70,
    "start_time": "2022-08-25T14:24:22.211Z"
   },
   {
    "duration": 127,
    "start_time": "2022-08-25T14:25:10.947Z"
   },
   {
    "duration": 136,
    "start_time": "2022-08-25T14:25:28.796Z"
   },
   {
    "duration": 11,
    "start_time": "2022-08-25T14:29:31.241Z"
   },
   {
    "duration": 136,
    "start_time": "2022-08-25T14:30:21.358Z"
   },
   {
    "duration": 145,
    "start_time": "2022-08-25T14:31:21.498Z"
   },
   {
    "duration": 151,
    "start_time": "2022-08-25T14:31:50.528Z"
   },
   {
    "duration": 148,
    "start_time": "2022-08-25T14:33:37.735Z"
   },
   {
    "duration": 230,
    "start_time": "2022-08-25T14:33:44.276Z"
   },
   {
    "duration": 10,
    "start_time": "2022-08-25T14:35:48.699Z"
   },
   {
    "duration": 283,
    "start_time": "2022-08-25T14:36:58.946Z"
   },
   {
    "duration": 265,
    "start_time": "2022-08-25T14:37:11.891Z"
   },
   {
    "duration": 289,
    "start_time": "2022-08-25T14:37:19.880Z"
   },
   {
    "duration": 296,
    "start_time": "2022-08-25T14:39:52.491Z"
   },
   {
    "duration": 422,
    "start_time": "2022-08-25T14:40:36.298Z"
   },
   {
    "duration": 10,
    "start_time": "2022-08-25T14:42:56.720Z"
   },
   {
    "duration": 204,
    "start_time": "2022-08-25T14:43:29.645Z"
   },
   {
    "duration": 288,
    "start_time": "2022-08-25T14:44:09.169Z"
   },
   {
    "duration": 392,
    "start_time": "2022-08-25T14:45:58.943Z"
   },
   {
    "duration": 415,
    "start_time": "2022-08-25T14:46:41.870Z"
   },
   {
    "duration": 494,
    "start_time": "2022-08-25T14:47:01.011Z"
   },
   {
    "duration": 511,
    "start_time": "2022-08-25T14:48:32.598Z"
   },
   {
    "duration": 674,
    "start_time": "2022-08-25T14:48:57.600Z"
   },
   {
    "duration": 13,
    "start_time": "2022-08-25T14:48:58.276Z"
   },
   {
    "duration": 13,
    "start_time": "2022-08-25T14:48:58.290Z"
   },
   {
    "duration": 14,
    "start_time": "2022-08-25T14:48:58.304Z"
   },
   {
    "duration": 20,
    "start_time": "2022-08-25T14:48:58.320Z"
   },
   {
    "duration": 44,
    "start_time": "2022-08-25T14:48:58.341Z"
   },
   {
    "duration": 14,
    "start_time": "2022-08-25T14:48:58.387Z"
   },
   {
    "duration": 23,
    "start_time": "2022-08-25T14:48:58.402Z"
   },
   {
    "duration": 14,
    "start_time": "2022-08-25T14:48:58.426Z"
   },
   {
    "duration": 196,
    "start_time": "2022-08-25T14:48:58.443Z"
   },
   {
    "duration": 12,
    "start_time": "2022-08-25T14:48:58.641Z"
   },
   {
    "duration": 147,
    "start_time": "2022-08-25T14:48:58.655Z"
   },
   {
    "duration": 152,
    "start_time": "2022-08-25T14:48:58.803Z"
   },
   {
    "duration": 164,
    "start_time": "2022-08-25T14:48:58.956Z"
   },
   {
    "duration": 188,
    "start_time": "2022-08-25T14:48:59.122Z"
   },
   {
    "duration": 149,
    "start_time": "2022-08-25T14:48:59.311Z"
   },
   {
    "duration": 161,
    "start_time": "2022-08-25T14:48:59.461Z"
   },
   {
    "duration": 5,
    "start_time": "2022-08-25T14:48:59.624Z"
   },
   {
    "duration": 164,
    "start_time": "2022-08-25T14:48:59.630Z"
   },
   {
    "duration": 159,
    "start_time": "2022-08-25T14:48:59.795Z"
   },
   {
    "duration": 172,
    "start_time": "2022-08-25T14:48:59.955Z"
   },
   {
    "duration": 173,
    "start_time": "2022-08-25T14:49:00.129Z"
   },
   {
    "duration": 175,
    "start_time": "2022-08-25T14:49:00.304Z"
   },
   {
    "duration": 175,
    "start_time": "2022-08-25T14:49:00.481Z"
   },
   {
    "duration": 184,
    "start_time": "2022-08-25T14:49:00.658Z"
   },
   {
    "duration": 193,
    "start_time": "2022-08-25T14:49:00.844Z"
   },
   {
    "duration": 248,
    "start_time": "2022-08-25T14:49:01.039Z"
   },
   {
    "duration": 172,
    "start_time": "2022-08-25T14:49:01.291Z"
   },
   {
    "duration": 148,
    "start_time": "2022-08-25T14:49:01.465Z"
   },
   {
    "duration": 9,
    "start_time": "2022-08-25T14:49:01.614Z"
   },
   {
    "duration": 233,
    "start_time": "2022-08-25T14:49:01.625Z"
   },
   {
    "duration": 177,
    "start_time": "2022-08-25T14:49:01.859Z"
   },
   {
    "duration": 174,
    "start_time": "2022-08-25T14:49:02.038Z"
   },
   {
    "duration": 165,
    "start_time": "2022-08-25T14:49:02.214Z"
   },
   {
    "duration": 183,
    "start_time": "2022-08-25T14:49:02.380Z"
   },
   {
    "duration": 174,
    "start_time": "2022-08-25T14:49:02.564Z"
   },
   {
    "duration": 189,
    "start_time": "2022-08-25T14:49:02.739Z"
   },
   {
    "duration": 190,
    "start_time": "2022-08-25T14:49:02.930Z"
   },
   {
    "duration": 266,
    "start_time": "2022-08-25T14:49:03.121Z"
   },
   {
    "duration": 197,
    "start_time": "2022-08-25T14:49:03.388Z"
   },
   {
    "duration": 318,
    "start_time": "2022-08-25T14:49:03.586Z"
   },
   {
    "duration": 469,
    "start_time": "2022-08-25T14:49:03.906Z"
   },
   {
    "duration": 18,
    "start_time": "2022-08-25T14:49:04.376Z"
   },
   {
    "duration": 198,
    "start_time": "2022-08-25T14:49:04.395Z"
   },
   {
    "duration": 644,
    "start_time": "2022-08-25T14:50:12.584Z"
   },
   {
    "duration": 551,
    "start_time": "2022-08-25T14:50:58.199Z"
   },
   {
    "duration": 565,
    "start_time": "2022-08-25T14:51:14.708Z"
   },
   {
    "duration": 648,
    "start_time": "2022-08-25T14:51:34.223Z"
   },
   {
    "duration": 514,
    "start_time": "2022-08-25T14:53:34.937Z"
   },
   {
    "duration": 836,
    "start_time": "2022-08-25T15:08:58.760Z"
   },
   {
    "duration": 512,
    "start_time": "2022-08-25T15:09:30.337Z"
   },
   {
    "duration": 168,
    "start_time": "2022-08-25T15:10:01.228Z"
   },
   {
    "duration": 4,
    "start_time": "2022-08-25T15:10:12.275Z"
   },
   {
    "duration": 338,
    "start_time": "2022-08-25T15:10:20.407Z"
   },
   {
    "duration": 1304,
    "start_time": "2022-08-25T16:46:40.082Z"
   },
   {
    "duration": 16,
    "start_time": "2022-08-25T16:46:41.388Z"
   },
   {
    "duration": 15,
    "start_time": "2022-08-25T16:46:41.405Z"
   },
   {
    "duration": 15,
    "start_time": "2022-08-25T16:46:41.423Z"
   },
   {
    "duration": 46,
    "start_time": "2022-08-25T16:46:41.440Z"
   },
   {
    "duration": 6,
    "start_time": "2022-08-25T16:46:41.489Z"
   },
   {
    "duration": 25,
    "start_time": "2022-08-25T16:46:41.496Z"
   },
   {
    "duration": 47,
    "start_time": "2022-08-25T16:46:41.522Z"
   },
   {
    "duration": 16,
    "start_time": "2022-08-25T16:46:41.572Z"
   },
   {
    "duration": 212,
    "start_time": "2022-08-25T16:46:41.590Z"
   },
   {
    "duration": 13,
    "start_time": "2022-08-25T16:46:41.804Z"
   },
   {
    "duration": 172,
    "start_time": "2022-08-25T16:46:41.819Z"
   },
   {
    "duration": 181,
    "start_time": "2022-08-25T16:46:41.993Z"
   },
   {
    "duration": 182,
    "start_time": "2022-08-25T16:46:42.175Z"
   },
   {
    "duration": 229,
    "start_time": "2022-08-25T16:46:42.358Z"
   },
   {
    "duration": 170,
    "start_time": "2022-08-25T16:46:42.589Z"
   },
   {
    "duration": 167,
    "start_time": "2022-08-25T16:46:42.761Z"
   },
   {
    "duration": 6,
    "start_time": "2022-08-25T16:46:42.930Z"
   },
   {
    "duration": 190,
    "start_time": "2022-08-25T16:46:42.938Z"
   },
   {
    "duration": 185,
    "start_time": "2022-08-25T16:46:43.129Z"
   },
   {
    "duration": 179,
    "start_time": "2022-08-25T16:46:43.316Z"
   },
   {
    "duration": 186,
    "start_time": "2022-08-25T16:46:43.497Z"
   },
   {
    "duration": 178,
    "start_time": "2022-08-25T16:46:43.685Z"
   },
   {
    "duration": 196,
    "start_time": "2022-08-25T16:46:43.865Z"
   },
   {
    "duration": 197,
    "start_time": "2022-08-25T16:46:44.062Z"
   },
   {
    "duration": 217,
    "start_time": "2022-08-25T16:46:44.268Z"
   },
   {
    "duration": 287,
    "start_time": "2022-08-25T16:46:44.487Z"
   },
   {
    "duration": 219,
    "start_time": "2022-08-25T16:46:44.778Z"
   },
   {
    "duration": 197,
    "start_time": "2022-08-25T16:46:44.999Z"
   },
   {
    "duration": 11,
    "start_time": "2022-08-25T16:46:45.198Z"
   },
   {
    "duration": 302,
    "start_time": "2022-08-25T16:46:45.212Z"
   },
   {
    "duration": 198,
    "start_time": "2022-08-25T16:46:45.517Z"
   },
   {
    "duration": 178,
    "start_time": "2022-08-25T16:46:45.717Z"
   },
   {
    "duration": 198,
    "start_time": "2022-08-25T16:46:45.897Z"
   },
   {
    "duration": 191,
    "start_time": "2022-08-25T16:46:46.097Z"
   },
   {
    "duration": 202,
    "start_time": "2022-08-25T16:46:46.290Z"
   },
   {
    "duration": 215,
    "start_time": "2022-08-25T16:46:46.494Z"
   },
   {
    "duration": 202,
    "start_time": "2022-08-25T16:46:46.711Z"
   },
   {
    "duration": 290,
    "start_time": "2022-08-25T16:46:46.915Z"
   },
   {
    "duration": 233,
    "start_time": "2022-08-25T16:46:47.207Z"
   },
   {
    "duration": 352,
    "start_time": "2022-08-25T16:46:47.442Z"
   },
   {
    "duration": 569,
    "start_time": "2022-08-25T16:46:47.796Z"
   },
   {
    "duration": 590,
    "start_time": "2022-08-25T16:46:48.366Z"
   },
   {
    "duration": 565,
    "start_time": "2022-08-25T16:46:48.958Z"
   },
   {
    "duration": 6,
    "start_time": "2022-08-25T17:03:18.494Z"
   },
   {
    "duration": 97,
    "start_time": "2022-08-25T17:03:43.032Z"
   },
   {
    "duration": 5,
    "start_time": "2022-08-25T17:04:43.460Z"
   },
   {
    "duration": 6,
    "start_time": "2022-08-25T17:05:59.999Z"
   },
   {
    "duration": 6,
    "start_time": "2022-08-25T17:06:31.396Z"
   },
   {
    "duration": 12,
    "start_time": "2022-08-25T17:07:31.646Z"
   },
   {
    "duration": 7,
    "start_time": "2022-08-25T17:08:10.270Z"
   },
   {
    "duration": 1322,
    "start_time": "2022-08-25T17:08:39.804Z"
   },
   {
    "duration": 14,
    "start_time": "2022-08-25T17:08:41.129Z"
   },
   {
    "duration": 14,
    "start_time": "2022-08-25T17:08:41.145Z"
   },
   {
    "duration": 15,
    "start_time": "2022-08-25T17:08:41.168Z"
   },
   {
    "duration": 22,
    "start_time": "2022-08-25T17:08:41.185Z"
   },
   {
    "duration": 5,
    "start_time": "2022-08-25T17:08:41.209Z"
   },
   {
    "duration": 36,
    "start_time": "2022-08-25T17:08:41.215Z"
   },
   {
    "duration": 37,
    "start_time": "2022-08-25T17:08:41.253Z"
   },
   {
    "duration": 15,
    "start_time": "2022-08-25T17:08:41.292Z"
   },
   {
    "duration": 216,
    "start_time": "2022-08-25T17:08:41.310Z"
   },
   {
    "duration": 17,
    "start_time": "2022-08-25T17:08:41.528Z"
   },
   {
    "duration": 201,
    "start_time": "2022-08-25T17:08:41.548Z"
   },
   {
    "duration": 188,
    "start_time": "2022-08-25T17:08:41.751Z"
   },
   {
    "duration": 189,
    "start_time": "2022-08-25T17:08:41.940Z"
   },
   {
    "duration": 180,
    "start_time": "2022-08-25T17:08:42.130Z"
   },
   {
    "duration": 200,
    "start_time": "2022-08-25T17:08:42.312Z"
   },
   {
    "duration": 178,
    "start_time": "2022-08-25T17:08:42.514Z"
   },
   {
    "duration": 7,
    "start_time": "2022-08-25T17:08:42.693Z"
   },
   {
    "duration": 198,
    "start_time": "2022-08-25T17:08:42.702Z"
   },
   {
    "duration": 188,
    "start_time": "2022-08-25T17:08:42.902Z"
   },
   {
    "duration": 264,
    "start_time": "2022-08-25T17:08:43.092Z"
   },
   {
    "duration": 199,
    "start_time": "2022-08-25T17:08:43.358Z"
   },
   {
    "duration": 201,
    "start_time": "2022-08-25T17:08:43.559Z"
   },
   {
    "duration": 196,
    "start_time": "2022-08-25T17:08:43.762Z"
   },
   {
    "duration": 208,
    "start_time": "2022-08-25T17:08:43.960Z"
   },
   {
    "duration": 206,
    "start_time": "2022-08-25T17:08:44.170Z"
   },
   {
    "duration": 197,
    "start_time": "2022-08-25T17:08:44.379Z"
   },
   {
    "duration": 188,
    "start_time": "2022-08-25T17:08:44.579Z"
   },
   {
    "duration": 181,
    "start_time": "2022-08-25T17:08:44.769Z"
   },
   {
    "duration": 17,
    "start_time": "2022-08-25T17:08:44.952Z"
   },
   {
    "duration": 272,
    "start_time": "2022-08-25T17:08:44.970Z"
   },
   {
    "duration": 196,
    "start_time": "2022-08-25T17:08:45.244Z"
   },
   {
    "duration": 263,
    "start_time": "2022-08-25T17:08:45.442Z"
   },
   {
    "duration": 198,
    "start_time": "2022-08-25T17:08:45.707Z"
   },
   {
    "duration": 191,
    "start_time": "2022-08-25T17:08:45.906Z"
   },
   {
    "duration": 208,
    "start_time": "2022-08-25T17:08:46.099Z"
   },
   {
    "duration": 185,
    "start_time": "2022-08-25T17:08:46.309Z"
   },
   {
    "duration": 241,
    "start_time": "2022-08-25T17:08:46.496Z"
   },
   {
    "duration": 256,
    "start_time": "2022-08-25T17:08:46.739Z"
   },
   {
    "duration": 209,
    "start_time": "2022-08-25T17:08:46.997Z"
   },
   {
    "duration": 354,
    "start_time": "2022-08-25T17:08:47.208Z"
   },
   {
    "duration": 686,
    "start_time": "2022-08-25T17:08:47.567Z"
   },
   {
    "duration": 608,
    "start_time": "2022-08-25T17:08:48.254Z"
   },
   {
    "duration": 548,
    "start_time": "2022-08-25T17:08:48.867Z"
   },
   {
    "duration": 6,
    "start_time": "2022-08-25T17:08:49.417Z"
   },
   {
    "duration": 9,
    "start_time": "2022-08-25T17:08:49.425Z"
   },
   {
    "duration": 8,
    "start_time": "2022-08-25T17:14:22.158Z"
   },
   {
    "duration": 222,
    "start_time": "2022-08-25T17:16:09.849Z"
   },
   {
    "duration": 27,
    "start_time": "2022-08-25T17:16:33.295Z"
   },
   {
    "duration": 25,
    "start_time": "2022-08-25T17:16:52.581Z"
   },
   {
    "duration": 10,
    "start_time": "2022-08-25T17:17:45.638Z"
   },
   {
    "duration": 11,
    "start_time": "2022-08-25T17:18:13.235Z"
   },
   {
    "duration": 9,
    "start_time": "2022-08-25T17:19:10.863Z"
   },
   {
    "duration": 9,
    "start_time": "2022-08-25T17:19:18.489Z"
   },
   {
    "duration": 4,
    "start_time": "2022-08-25T17:20:04.491Z"
   },
   {
    "duration": 6,
    "start_time": "2022-08-25T17:20:15.703Z"
   },
   {
    "duration": 4,
    "start_time": "2022-08-25T17:20:27.648Z"
   },
   {
    "duration": 6,
    "start_time": "2022-08-25T17:21:37.445Z"
   },
   {
    "duration": 88,
    "start_time": "2022-08-25T17:21:50.126Z"
   },
   {
    "duration": 5,
    "start_time": "2022-08-25T17:22:33.639Z"
   },
   {
    "duration": 5,
    "start_time": "2022-08-25T17:24:31.414Z"
   },
   {
    "duration": 7,
    "start_time": "2022-08-25T17:24:40.253Z"
   },
   {
    "duration": 6,
    "start_time": "2022-08-25T17:24:47.085Z"
   },
   {
    "duration": 6,
    "start_time": "2022-08-25T17:24:52.840Z"
   },
   {
    "duration": 7,
    "start_time": "2022-08-25T17:26:26.727Z"
   },
   {
    "duration": 7,
    "start_time": "2022-08-25T17:27:02.420Z"
   },
   {
    "duration": 8,
    "start_time": "2022-08-25T17:27:10.253Z"
   },
   {
    "duration": 22,
    "start_time": "2022-08-25T17:27:30.319Z"
   },
   {
    "duration": 6,
    "start_time": "2022-08-25T17:27:51.846Z"
   },
   {
    "duration": 1264,
    "start_time": "2022-08-25T18:28:45.569Z"
   },
   {
    "duration": 16,
    "start_time": "2022-08-25T18:28:46.834Z"
   },
   {
    "duration": 14,
    "start_time": "2022-08-25T18:28:46.852Z"
   },
   {
    "duration": 16,
    "start_time": "2022-08-25T18:28:46.868Z"
   },
   {
    "duration": 19,
    "start_time": "2022-08-25T18:28:46.885Z"
   },
   {
    "duration": 4,
    "start_time": "2022-08-25T18:28:46.906Z"
   },
   {
    "duration": 16,
    "start_time": "2022-08-25T18:28:46.912Z"
   },
   {
    "duration": 55,
    "start_time": "2022-08-25T18:28:46.931Z"
   },
   {
    "duration": 16,
    "start_time": "2022-08-25T18:28:46.988Z"
   },
   {
    "duration": 197,
    "start_time": "2022-08-25T18:28:47.008Z"
   },
   {
    "duration": 14,
    "start_time": "2022-08-25T18:28:47.207Z"
   },
   {
    "duration": 178,
    "start_time": "2022-08-25T18:28:47.223Z"
   },
   {
    "duration": 191,
    "start_time": "2022-08-25T18:28:47.403Z"
   },
   {
    "duration": 188,
    "start_time": "2022-08-25T18:28:47.596Z"
   },
   {
    "duration": 184,
    "start_time": "2022-08-25T18:28:47.786Z"
   },
   {
    "duration": 179,
    "start_time": "2022-08-25T18:28:47.972Z"
   },
   {
    "duration": 166,
    "start_time": "2022-08-25T18:28:48.153Z"
   },
   {
    "duration": 7,
    "start_time": "2022-08-25T18:28:48.322Z"
   },
   {
    "duration": 189,
    "start_time": "2022-08-25T18:28:48.330Z"
   },
   {
    "duration": 178,
    "start_time": "2022-08-25T18:28:48.521Z"
   },
   {
    "duration": 269,
    "start_time": "2022-08-25T18:28:48.701Z"
   },
   {
    "duration": 175,
    "start_time": "2022-08-25T18:28:48.972Z"
   },
   {
    "duration": 189,
    "start_time": "2022-08-25T18:28:49.148Z"
   },
   {
    "duration": 199,
    "start_time": "2022-08-25T18:28:49.339Z"
   },
   {
    "duration": 187,
    "start_time": "2022-08-25T18:28:49.541Z"
   },
   {
    "duration": 197,
    "start_time": "2022-08-25T18:28:49.731Z"
   },
   {
    "duration": 194,
    "start_time": "2022-08-25T18:28:49.930Z"
   },
   {
    "duration": 193,
    "start_time": "2022-08-25T18:28:50.127Z"
   },
   {
    "duration": 177,
    "start_time": "2022-08-25T18:28:50.322Z"
   },
   {
    "duration": 11,
    "start_time": "2022-08-25T18:28:50.501Z"
   },
   {
    "duration": 262,
    "start_time": "2022-08-25T18:28:50.514Z"
   },
   {
    "duration": 190,
    "start_time": "2022-08-25T18:28:50.778Z"
   },
   {
    "duration": 266,
    "start_time": "2022-08-25T18:28:50.969Z"
   },
   {
    "duration": 193,
    "start_time": "2022-08-25T18:28:51.237Z"
   },
   {
    "duration": 202,
    "start_time": "2022-08-25T18:28:51.433Z"
   },
   {
    "duration": 195,
    "start_time": "2022-08-25T18:28:51.637Z"
   },
   {
    "duration": 169,
    "start_time": "2022-08-25T18:28:51.833Z"
   },
   {
    "duration": 216,
    "start_time": "2022-08-25T18:28:52.004Z"
   },
   {
    "duration": 214,
    "start_time": "2022-08-25T18:28:52.222Z"
   },
   {
    "duration": 216,
    "start_time": "2022-08-25T18:28:52.438Z"
   },
   {
    "duration": 321,
    "start_time": "2022-08-25T18:28:52.655Z"
   },
   {
    "duration": 633,
    "start_time": "2022-08-25T18:28:52.978Z"
   },
   {
    "duration": 568,
    "start_time": "2022-08-25T18:28:53.613Z"
   },
   {
    "duration": 519,
    "start_time": "2022-08-25T18:28:54.183Z"
   },
   {
    "duration": 6,
    "start_time": "2022-08-25T18:28:54.704Z"
   },
   {
    "duration": 22,
    "start_time": "2022-08-25T18:28:54.711Z"
   },
   {
    "duration": 14,
    "start_time": "2022-08-25T18:28:54.734Z"
   },
   {
    "duration": 13,
    "start_time": "2022-08-25T18:28:54.749Z"
   },
   {
    "duration": 18,
    "start_time": "2022-08-25T18:28:54.764Z"
   },
   {
    "duration": 11,
    "start_time": "2022-08-25T18:28:54.783Z"
   },
   {
    "duration": 10,
    "start_time": "2022-08-25T18:28:54.796Z"
   },
   {
    "duration": 115,
    "start_time": "2022-08-25T18:36:30.067Z"
   },
   {
    "duration": 7,
    "start_time": "2022-08-25T18:41:12.315Z"
   },
   {
    "duration": 6,
    "start_time": "2022-08-25T18:42:03.291Z"
   },
   {
    "duration": 10,
    "start_time": "2022-08-25T18:43:36.782Z"
   },
   {
    "duration": 140,
    "start_time": "2022-08-25T19:03:59.227Z"
   },
   {
    "duration": 98,
    "start_time": "2022-08-25T19:04:09.250Z"
   },
   {
    "duration": 8,
    "start_time": "2022-08-25T19:04:19.040Z"
   },
   {
    "duration": 6,
    "start_time": "2022-08-25T19:04:42.962Z"
   },
   {
    "duration": 5,
    "start_time": "2022-08-25T19:04:56.844Z"
   },
   {
    "duration": 5,
    "start_time": "2022-08-25T19:29:29.134Z"
   },
   {
    "duration": 1209,
    "start_time": "2022-08-25T19:32:54.882Z"
   },
   {
    "duration": 14,
    "start_time": "2022-08-25T19:32:56.093Z"
   },
   {
    "duration": 13,
    "start_time": "2022-08-25T19:32:56.109Z"
   },
   {
    "duration": 16,
    "start_time": "2022-08-25T19:32:56.124Z"
   },
   {
    "duration": 21,
    "start_time": "2022-08-25T19:32:56.167Z"
   },
   {
    "duration": 6,
    "start_time": "2022-08-25T19:32:56.190Z"
   },
   {
    "duration": 27,
    "start_time": "2022-08-25T19:32:56.198Z"
   },
   {
    "duration": 41,
    "start_time": "2022-08-25T19:32:56.228Z"
   },
   {
    "duration": 15,
    "start_time": "2022-08-25T19:32:56.271Z"
   },
   {
    "duration": 212,
    "start_time": "2022-08-25T19:32:56.288Z"
   },
   {
    "duration": 16,
    "start_time": "2022-08-25T19:32:56.502Z"
   },
   {
    "duration": 224,
    "start_time": "2022-08-25T19:32:56.520Z"
   },
   {
    "duration": 173,
    "start_time": "2022-08-25T19:32:56.746Z"
   },
   {
    "duration": 170,
    "start_time": "2022-08-25T19:32:56.922Z"
   },
   {
    "duration": 150,
    "start_time": "2022-08-25T19:32:57.093Z"
   },
   {
    "duration": 162,
    "start_time": "2022-08-25T19:32:57.244Z"
   },
   {
    "duration": 166,
    "start_time": "2022-08-25T19:32:57.408Z"
   },
   {
    "duration": 7,
    "start_time": "2022-08-25T19:32:57.575Z"
   },
   {
    "duration": 189,
    "start_time": "2022-08-25T19:32:57.583Z"
   },
   {
    "duration": 172,
    "start_time": "2022-08-25T19:32:57.773Z"
   },
   {
    "duration": 242,
    "start_time": "2022-08-25T19:32:57.947Z"
   },
   {
    "duration": 172,
    "start_time": "2022-08-25T19:32:58.190Z"
   },
   {
    "duration": 157,
    "start_time": "2022-08-25T19:32:58.367Z"
   },
   {
    "duration": 174,
    "start_time": "2022-08-25T19:32:58.526Z"
   },
   {
    "duration": 169,
    "start_time": "2022-08-25T19:32:58.701Z"
   },
   {
    "duration": 172,
    "start_time": "2022-08-25T19:32:58.872Z"
   },
   {
    "duration": 172,
    "start_time": "2022-08-25T19:32:59.046Z"
   },
   {
    "duration": 188,
    "start_time": "2022-08-25T19:32:59.219Z"
   },
   {
    "duration": 178,
    "start_time": "2022-08-25T19:32:59.409Z"
   },
   {
    "duration": 12,
    "start_time": "2022-08-25T19:32:59.589Z"
   },
   {
    "duration": 265,
    "start_time": "2022-08-25T19:32:59.603Z"
   },
   {
    "duration": 201,
    "start_time": "2022-08-25T19:32:59.870Z"
   },
   {
    "duration": 269,
    "start_time": "2022-08-25T19:33:00.073Z"
   },
   {
    "duration": 198,
    "start_time": "2022-08-25T19:33:00.344Z"
   },
   {
    "duration": 199,
    "start_time": "2022-08-25T19:33:00.544Z"
   },
   {
    "duration": 209,
    "start_time": "2022-08-25T19:33:00.745Z"
   },
   {
    "duration": 194,
    "start_time": "2022-08-25T19:33:00.956Z"
   },
   {
    "duration": 216,
    "start_time": "2022-08-25T19:33:01.152Z"
   },
   {
    "duration": 223,
    "start_time": "2022-08-25T19:33:01.370Z"
   },
   {
    "duration": 207,
    "start_time": "2022-08-25T19:33:01.595Z"
   },
   {
    "duration": 348,
    "start_time": "2022-08-25T19:33:01.806Z"
   },
   {
    "duration": 631,
    "start_time": "2022-08-25T19:33:02.156Z"
   },
   {
    "duration": 582,
    "start_time": "2022-08-25T19:33:02.789Z"
   },
   {
    "duration": 556,
    "start_time": "2022-08-25T19:33:03.373Z"
   },
   {
    "duration": 7,
    "start_time": "2022-08-25T19:33:03.930Z"
   },
   {
    "duration": 17,
    "start_time": "2022-08-25T19:33:03.940Z"
   },
   {
    "duration": 5,
    "start_time": "2022-08-25T19:35:18.766Z"
   },
   {
    "duration": 5,
    "start_time": "2022-08-25T19:35:33.265Z"
   },
   {
    "duration": 7,
    "start_time": "2022-08-25T19:36:51.984Z"
   },
   {
    "duration": 6,
    "start_time": "2022-08-25T19:37:36.159Z"
   },
   {
    "duration": 5,
    "start_time": "2022-08-25T19:38:15.074Z"
   },
   {
    "duration": 5,
    "start_time": "2022-08-25T19:38:44.575Z"
   },
   {
    "duration": 7,
    "start_time": "2022-08-25T19:38:50.316Z"
   },
   {
    "duration": 6,
    "start_time": "2022-08-25T19:45:48.968Z"
   },
   {
    "duration": 7,
    "start_time": "2022-08-25T19:46:04.246Z"
   },
   {
    "duration": 6,
    "start_time": "2022-08-25T19:46:29.723Z"
   },
   {
    "duration": 6,
    "start_time": "2022-08-25T19:46:43.431Z"
   },
   {
    "duration": 5,
    "start_time": "2022-08-25T19:55:11.997Z"
   },
   {
    "duration": 5,
    "start_time": "2022-08-25T19:55:14.892Z"
   },
   {
    "duration": 5,
    "start_time": "2022-08-25T19:55:23.631Z"
   },
   {
    "duration": 4,
    "start_time": "2022-08-25T19:55:58.550Z"
   },
   {
    "duration": 10,
    "start_time": "2022-08-25T19:59:39.725Z"
   },
   {
    "duration": 9,
    "start_time": "2022-08-25T20:00:25.657Z"
   },
   {
    "duration": 9,
    "start_time": "2022-08-25T20:01:08.925Z"
   },
   {
    "duration": 12,
    "start_time": "2022-08-25T20:01:41.813Z"
   },
   {
    "duration": 6,
    "start_time": "2022-08-25T20:16:31.011Z"
   },
   {
    "duration": 6,
    "start_time": "2022-08-25T20:19:57.849Z"
   },
   {
    "duration": 6,
    "start_time": "2022-08-25T20:20:11.959Z"
   },
   {
    "duration": 4,
    "start_time": "2022-08-25T20:21:03.091Z"
   },
   {
    "duration": 5,
    "start_time": "2022-08-25T20:21:11.779Z"
   },
   {
    "duration": 5,
    "start_time": "2022-08-25T20:21:26.259Z"
   },
   {
    "duration": 9,
    "start_time": "2022-08-25T21:03:34.554Z"
   },
   {
    "duration": 1087,
    "start_time": "2022-08-25T21:33:14.923Z"
   },
   {
    "duration": 14,
    "start_time": "2022-08-25T21:33:16.012Z"
   },
   {
    "duration": 13,
    "start_time": "2022-08-25T21:33:16.028Z"
   },
   {
    "duration": 32,
    "start_time": "2022-08-25T21:33:16.043Z"
   },
   {
    "duration": 20,
    "start_time": "2022-08-25T21:33:16.077Z"
   },
   {
    "duration": 5,
    "start_time": "2022-08-25T21:33:16.098Z"
   },
   {
    "duration": 17,
    "start_time": "2022-08-25T21:33:16.105Z"
   },
   {
    "duration": 47,
    "start_time": "2022-08-25T21:33:16.124Z"
   },
   {
    "duration": 15,
    "start_time": "2022-08-25T21:33:16.173Z"
   },
   {
    "duration": 196,
    "start_time": "2022-08-25T21:33:16.190Z"
   },
   {
    "duration": 13,
    "start_time": "2022-08-25T21:33:16.388Z"
   },
   {
    "duration": 204,
    "start_time": "2022-08-25T21:33:16.402Z"
   },
   {
    "duration": 198,
    "start_time": "2022-08-25T21:33:16.608Z"
   },
   {
    "duration": 194,
    "start_time": "2022-08-25T21:33:16.808Z"
   },
   {
    "duration": 171,
    "start_time": "2022-08-25T21:33:17.004Z"
   },
   {
    "duration": 182,
    "start_time": "2022-08-25T21:33:17.177Z"
   },
   {
    "duration": 173,
    "start_time": "2022-08-25T21:33:17.361Z"
   },
   {
    "duration": 7,
    "start_time": "2022-08-25T21:33:17.536Z"
   },
   {
    "duration": 203,
    "start_time": "2022-08-25T21:33:17.545Z"
   },
   {
    "duration": 193,
    "start_time": "2022-08-25T21:33:17.750Z"
   },
   {
    "duration": 264,
    "start_time": "2022-08-25T21:33:17.945Z"
   },
   {
    "duration": 176,
    "start_time": "2022-08-25T21:33:18.211Z"
   },
   {
    "duration": 178,
    "start_time": "2022-08-25T21:33:18.389Z"
   },
   {
    "duration": 178,
    "start_time": "2022-08-25T21:33:18.569Z"
   },
   {
    "duration": 181,
    "start_time": "2022-08-25T21:33:18.749Z"
   },
   {
    "duration": 203,
    "start_time": "2022-08-25T21:33:18.932Z"
   },
   {
    "duration": 186,
    "start_time": "2022-08-25T21:33:19.137Z"
   },
   {
    "duration": 195,
    "start_time": "2022-08-25T21:33:19.327Z"
   },
   {
    "duration": 178,
    "start_time": "2022-08-25T21:33:19.525Z"
   },
   {
    "duration": 12,
    "start_time": "2022-08-25T21:33:19.705Z"
   },
   {
    "duration": 269,
    "start_time": "2022-08-25T21:33:19.719Z"
   },
   {
    "duration": 204,
    "start_time": "2022-08-25T21:33:19.990Z"
   },
   {
    "duration": 285,
    "start_time": "2022-08-25T21:33:20.196Z"
   },
   {
    "duration": 8,
    "start_time": "2022-08-25T21:33:20.483Z"
   },
   {
    "duration": 222,
    "start_time": "2022-08-25T21:33:20.493Z"
   },
   {
    "duration": 336,
    "start_time": "2022-08-25T21:33:20.717Z"
   },
   {
    "duration": 588,
    "start_time": "2022-08-25T21:33:21.054Z"
   },
   {
    "duration": 578,
    "start_time": "2022-08-25T21:33:21.644Z"
   },
   {
    "duration": 517,
    "start_time": "2022-08-25T21:33:22.224Z"
   },
   {
    "duration": 10,
    "start_time": "2022-08-25T21:33:22.743Z"
   },
   {
    "duration": 21,
    "start_time": "2022-08-25T21:33:22.754Z"
   },
   {
    "duration": 6,
    "start_time": "2022-08-25T21:33:22.776Z"
   },
   {
    "duration": 13,
    "start_time": "2022-08-25T21:33:22.783Z"
   },
   {
    "duration": 8,
    "start_time": "2022-08-25T21:33:22.798Z"
   },
   {
    "duration": 6,
    "start_time": "2022-08-25T21:33:22.808Z"
   },
   {
    "duration": 1188,
    "start_time": "2022-08-25T21:42:20.622Z"
   },
   {
    "duration": 17,
    "start_time": "2022-08-25T21:42:21.812Z"
   },
   {
    "duration": 16,
    "start_time": "2022-08-25T21:42:21.831Z"
   },
   {
    "duration": 29,
    "start_time": "2022-08-25T21:42:21.849Z"
   },
   {
    "duration": 22,
    "start_time": "2022-08-25T21:42:21.881Z"
   },
   {
    "duration": 5,
    "start_time": "2022-08-25T21:42:21.905Z"
   },
   {
    "duration": 19,
    "start_time": "2022-08-25T21:42:21.912Z"
   },
   {
    "duration": 52,
    "start_time": "2022-08-25T21:42:21.933Z"
   },
   {
    "duration": 16,
    "start_time": "2022-08-25T21:42:21.987Z"
   },
   {
    "duration": 206,
    "start_time": "2022-08-25T21:42:22.004Z"
   },
   {
    "duration": 14,
    "start_time": "2022-08-25T21:42:22.213Z"
   },
   {
    "duration": 172,
    "start_time": "2022-08-25T21:42:22.229Z"
   },
   {
    "duration": 181,
    "start_time": "2022-08-25T21:42:22.403Z"
   },
   {
    "duration": 188,
    "start_time": "2022-08-25T21:42:22.589Z"
   },
   {
    "duration": 167,
    "start_time": "2022-08-25T21:42:22.779Z"
   },
   {
    "duration": 187,
    "start_time": "2022-08-25T21:42:22.948Z"
   },
   {
    "duration": 174,
    "start_time": "2022-08-25T21:42:23.137Z"
   },
   {
    "duration": 6,
    "start_time": "2022-08-25T21:42:23.313Z"
   },
   {
    "duration": 195,
    "start_time": "2022-08-25T21:42:23.321Z"
   },
   {
    "duration": 181,
    "start_time": "2022-08-25T21:42:23.518Z"
   },
   {
    "duration": 261,
    "start_time": "2022-08-25T21:42:23.701Z"
   },
   {
    "duration": 172,
    "start_time": "2022-08-25T21:42:23.967Z"
   },
   {
    "duration": 172,
    "start_time": "2022-08-25T21:42:24.141Z"
   },
   {
    "duration": 189,
    "start_time": "2022-08-25T21:42:24.315Z"
   },
   {
    "duration": 193,
    "start_time": "2022-08-25T21:42:24.506Z"
   },
   {
    "duration": 183,
    "start_time": "2022-08-25T21:42:24.701Z"
   },
   {
    "duration": 182,
    "start_time": "2022-08-25T21:42:24.885Z"
   },
   {
    "duration": 184,
    "start_time": "2022-08-25T21:42:25.069Z"
   },
   {
    "duration": 185,
    "start_time": "2022-08-25T21:42:25.254Z"
   },
   {
    "duration": 11,
    "start_time": "2022-08-25T21:42:25.440Z"
   },
   {
    "duration": 266,
    "start_time": "2022-08-25T21:42:25.452Z"
   },
   {
    "duration": 192,
    "start_time": "2022-08-25T21:42:25.720Z"
   },
   {
    "duration": 268,
    "start_time": "2022-08-25T21:42:25.914Z"
   },
   {
    "duration": 7,
    "start_time": "2022-08-25T21:42:26.185Z"
   },
   {
    "duration": 208,
    "start_time": "2022-08-25T21:42:26.194Z"
   },
   {
    "duration": 385,
    "start_time": "2022-08-25T21:42:26.404Z"
   },
   {
    "duration": 555,
    "start_time": "2022-08-25T21:42:26.791Z"
   },
   {
    "duration": 561,
    "start_time": "2022-08-25T21:42:27.348Z"
   },
   {
    "duration": 527,
    "start_time": "2022-08-25T21:42:27.910Z"
   },
   {
    "duration": 8,
    "start_time": "2022-08-25T21:42:28.439Z"
   },
   {
    "duration": 22,
    "start_time": "2022-08-25T21:42:28.451Z"
   },
   {
    "duration": 5,
    "start_time": "2022-08-25T21:42:28.474Z"
   },
   {
    "duration": 11,
    "start_time": "2022-08-25T21:42:28.480Z"
   },
   {
    "duration": 13,
    "start_time": "2022-08-25T21:42:28.493Z"
   },
   {
    "duration": 5,
    "start_time": "2022-08-25T21:42:28.508Z"
   },
   {
    "duration": 71,
    "start_time": "2022-08-25T22:10:30.446Z"
   },
   {
    "duration": 105,
    "start_time": "2022-08-25T22:18:59.667Z"
   },
   {
    "duration": 11,
    "start_time": "2022-08-25T22:19:12.421Z"
   },
   {
    "duration": 1224,
    "start_time": "2022-08-25T22:19:27.760Z"
   },
   {
    "duration": 15,
    "start_time": "2022-08-25T22:19:28.987Z"
   },
   {
    "duration": 16,
    "start_time": "2022-08-25T22:19:29.004Z"
   },
   {
    "duration": 18,
    "start_time": "2022-08-25T22:19:29.023Z"
   },
   {
    "duration": 47,
    "start_time": "2022-08-25T22:19:29.043Z"
   },
   {
    "duration": 6,
    "start_time": "2022-08-25T22:19:29.091Z"
   },
   {
    "duration": 19,
    "start_time": "2022-08-25T22:19:29.098Z"
   },
   {
    "duration": 58,
    "start_time": "2022-08-25T22:19:29.119Z"
   },
   {
    "duration": 15,
    "start_time": "2022-08-25T22:19:29.179Z"
   },
   {
    "duration": 231,
    "start_time": "2022-08-25T22:19:29.197Z"
   },
   {
    "duration": 14,
    "start_time": "2022-08-25T22:19:29.431Z"
   },
   {
    "duration": 174,
    "start_time": "2022-08-25T22:19:29.447Z"
   },
   {
    "duration": 179,
    "start_time": "2022-08-25T22:19:29.623Z"
   },
   {
    "duration": 173,
    "start_time": "2022-08-25T22:19:29.804Z"
   },
   {
    "duration": 165,
    "start_time": "2022-08-25T22:19:29.979Z"
   },
   {
    "duration": 172,
    "start_time": "2022-08-25T22:19:30.146Z"
   },
   {
    "duration": 179,
    "start_time": "2022-08-25T22:19:30.320Z"
   },
   {
    "duration": 7,
    "start_time": "2022-08-25T22:19:30.502Z"
   },
   {
    "duration": 208,
    "start_time": "2022-08-25T22:19:30.512Z"
   },
   {
    "duration": 177,
    "start_time": "2022-08-25T22:19:30.722Z"
   },
   {
    "duration": 263,
    "start_time": "2022-08-25T22:19:30.901Z"
   },
   {
    "duration": 168,
    "start_time": "2022-08-25T22:19:31.166Z"
   },
   {
    "duration": 181,
    "start_time": "2022-08-25T22:19:31.336Z"
   },
   {
    "duration": 186,
    "start_time": "2022-08-25T22:19:31.519Z"
   },
   {
    "duration": 178,
    "start_time": "2022-08-25T22:19:31.707Z"
   },
   {
    "duration": 181,
    "start_time": "2022-08-25T22:19:31.887Z"
   },
   {
    "duration": 171,
    "start_time": "2022-08-25T22:19:32.070Z"
   },
   {
    "duration": 170,
    "start_time": "2022-08-25T22:19:32.244Z"
   },
   {
    "duration": 160,
    "start_time": "2022-08-25T22:19:32.416Z"
   },
   {
    "duration": 12,
    "start_time": "2022-08-25T22:19:32.578Z"
   },
   {
    "duration": 240,
    "start_time": "2022-08-25T22:19:32.591Z"
   },
   {
    "duration": 176,
    "start_time": "2022-08-25T22:19:32.832Z"
   },
   {
    "duration": 266,
    "start_time": "2022-08-25T22:19:33.010Z"
   },
   {
    "duration": 9,
    "start_time": "2022-08-25T22:19:33.277Z"
   },
   {
    "duration": 215,
    "start_time": "2022-08-25T22:19:33.288Z"
   },
   {
    "duration": 313,
    "start_time": "2022-08-25T22:19:33.505Z"
   },
   {
    "duration": 517,
    "start_time": "2022-08-25T22:19:33.819Z"
   },
   {
    "duration": 539,
    "start_time": "2022-08-25T22:19:34.338Z"
   },
   {
    "duration": 511,
    "start_time": "2022-08-25T22:19:34.878Z"
   },
   {
    "duration": 9,
    "start_time": "2022-08-25T22:19:35.391Z"
   },
   {
    "duration": 12,
    "start_time": "2022-08-25T22:19:35.402Z"
   },
   {
    "duration": 4,
    "start_time": "2022-08-25T22:19:35.415Z"
   },
   {
    "duration": 13,
    "start_time": "2022-08-25T22:19:35.421Z"
   },
   {
    "duration": 36,
    "start_time": "2022-08-25T22:19:35.435Z"
   },
   {
    "duration": 7,
    "start_time": "2022-08-25T22:19:35.473Z"
   },
   {
    "duration": 410,
    "start_time": "2022-08-25T22:23:53.367Z"
   },
   {
    "duration": 3,
    "start_time": "2022-08-25T22:24:34.598Z"
   },
   {
    "duration": 16,
    "start_time": "2022-08-25T22:24:46.157Z"
   },
   {
    "duration": 6,
    "start_time": "2022-08-25T22:25:25.617Z"
   },
   {
    "duration": 432,
    "start_time": "2022-08-25T22:25:37.495Z"
   },
   {
    "duration": 641,
    "start_time": "2022-08-25T22:32:33.146Z"
   },
   {
    "duration": 6,
    "start_time": "2022-08-25T22:32:42.178Z"
   },
   {
    "duration": 9,
    "start_time": "2022-08-25T22:33:59.450Z"
   },
   {
    "duration": 21,
    "start_time": "2022-08-25T22:34:27.847Z"
   },
   {
    "duration": 825,
    "start_time": "2022-08-25T22:36:43.673Z"
   },
   {
    "duration": 707,
    "start_time": "2022-08-25T22:37:35.227Z"
   },
   {
    "duration": 714,
    "start_time": "2022-08-25T22:38:06.289Z"
   },
   {
    "duration": 578,
    "start_time": "2022-08-25T22:44:24.644Z"
   },
   {
    "duration": 10,
    "start_time": "2022-08-25T22:45:46.129Z"
   },
   {
    "duration": 1121,
    "start_time": "2022-08-25T22:46:01.851Z"
   },
   {
    "duration": 15,
    "start_time": "2022-08-25T22:46:02.975Z"
   },
   {
    "duration": 17,
    "start_time": "2022-08-25T22:46:02.991Z"
   },
   {
    "duration": 16,
    "start_time": "2022-08-25T22:46:03.011Z"
   },
   {
    "duration": 44,
    "start_time": "2022-08-25T22:46:03.028Z"
   },
   {
    "duration": 6,
    "start_time": "2022-08-25T22:46:03.074Z"
   },
   {
    "duration": 16,
    "start_time": "2022-08-25T22:46:03.082Z"
   },
   {
    "duration": 26,
    "start_time": "2022-08-25T22:46:03.100Z"
   },
   {
    "duration": 48,
    "start_time": "2022-08-25T22:46:03.128Z"
   },
   {
    "duration": 15,
    "start_time": "2022-08-25T22:46:03.180Z"
   },
   {
    "duration": 205,
    "start_time": "2022-08-25T22:46:03.197Z"
   },
   {
    "duration": 13,
    "start_time": "2022-08-25T22:46:03.403Z"
   },
   {
    "duration": 168,
    "start_time": "2022-08-25T22:46:03.418Z"
   },
   {
    "duration": 184,
    "start_time": "2022-08-25T22:46:03.587Z"
   },
   {
    "duration": 273,
    "start_time": "2022-08-25T22:46:03.773Z"
   },
   {
    "duration": 168,
    "start_time": "2022-08-25T22:46:04.047Z"
   },
   {
    "duration": 221,
    "start_time": "2022-08-25T22:46:04.217Z"
   },
   {
    "duration": 227,
    "start_time": "2022-08-25T22:46:04.440Z"
   },
   {
    "duration": 6,
    "start_time": "2022-08-25T22:46:04.669Z"
   },
   {
    "duration": 186,
    "start_time": "2022-08-25T22:46:04.676Z"
   },
   {
    "duration": 179,
    "start_time": "2022-08-25T22:46:04.863Z"
   },
   {
    "duration": 252,
    "start_time": "2022-08-25T22:46:05.044Z"
   },
   {
    "duration": 169,
    "start_time": "2022-08-25T22:46:05.298Z"
   },
   {
    "duration": 177,
    "start_time": "2022-08-25T22:46:05.469Z"
   },
   {
    "duration": 169,
    "start_time": "2022-08-25T22:46:05.648Z"
   },
   {
    "duration": 181,
    "start_time": "2022-08-25T22:46:05.819Z"
   },
   {
    "duration": 185,
    "start_time": "2022-08-25T22:46:06.001Z"
   },
   {
    "duration": 184,
    "start_time": "2022-08-25T22:46:06.189Z"
   },
   {
    "duration": 195,
    "start_time": "2022-08-25T22:46:06.375Z"
   },
   {
    "duration": 173,
    "start_time": "2022-08-25T22:46:06.572Z"
   },
   {
    "duration": 21,
    "start_time": "2022-08-25T22:46:06.748Z"
   },
   {
    "duration": 264,
    "start_time": "2022-08-25T22:46:06.771Z"
   },
   {
    "duration": 190,
    "start_time": "2022-08-25T22:46:07.037Z"
   },
   {
    "duration": 271,
    "start_time": "2022-08-25T22:46:07.228Z"
   },
   {
    "duration": 11,
    "start_time": "2022-08-25T22:46:07.500Z"
   },
   {
    "duration": 214,
    "start_time": "2022-08-25T22:46:07.513Z"
   },
   {
    "duration": 321,
    "start_time": "2022-08-25T22:46:07.729Z"
   },
   {
    "duration": 101,
    "start_time": "2022-08-25T22:46:08.052Z"
   },
   {
    "duration": 0,
    "start_time": "2022-08-25T22:46:08.155Z"
   },
   {
    "duration": 0,
    "start_time": "2022-08-25T22:46:08.156Z"
   },
   {
    "duration": 0,
    "start_time": "2022-08-25T22:46:08.157Z"
   },
   {
    "duration": 0,
    "start_time": "2022-08-25T22:46:08.158Z"
   },
   {
    "duration": 0,
    "start_time": "2022-08-25T22:46:08.159Z"
   },
   {
    "duration": 0,
    "start_time": "2022-08-25T22:46:08.160Z"
   },
   {
    "duration": 0,
    "start_time": "2022-08-25T22:46:08.161Z"
   },
   {
    "duration": 0,
    "start_time": "2022-08-25T22:46:08.167Z"
   },
   {
    "duration": 0,
    "start_time": "2022-08-25T22:46:08.169Z"
   },
   {
    "duration": 10,
    "start_time": "2022-08-25T22:46:39.703Z"
   },
   {
    "duration": 82,
    "start_time": "2022-08-25T22:47:08.851Z"
   },
   {
    "duration": 5,
    "start_time": "2022-08-25T22:47:14.189Z"
   },
   {
    "duration": 4,
    "start_time": "2022-08-25T22:48:51.092Z"
   },
   {
    "duration": 5,
    "start_time": "2022-08-25T22:49:46.486Z"
   },
   {
    "duration": 547,
    "start_time": "2022-08-25T22:49:52.584Z"
   },
   {
    "duration": 672,
    "start_time": "2022-08-25T22:50:07.356Z"
   },
   {
    "duration": 558,
    "start_time": "2022-08-25T22:50:23.951Z"
   },
   {
    "duration": 597,
    "start_time": "2022-08-25T22:50:50.567Z"
   },
   {
    "duration": 1406,
    "start_time": "2022-08-26T21:34:37.541Z"
   },
   {
    "duration": 16,
    "start_time": "2022-08-26T21:34:38.949Z"
   },
   {
    "duration": 18,
    "start_time": "2022-08-26T21:34:38.967Z"
   },
   {
    "duration": 23,
    "start_time": "2022-08-26T21:34:38.988Z"
   },
   {
    "duration": 25,
    "start_time": "2022-08-26T21:34:39.014Z"
   },
   {
    "duration": 5,
    "start_time": "2022-08-26T21:34:39.040Z"
   },
   {
    "duration": 21,
    "start_time": "2022-08-26T21:34:39.047Z"
   },
   {
    "duration": 55,
    "start_time": "2022-08-26T21:34:39.069Z"
   },
   {
    "duration": 15,
    "start_time": "2022-08-26T21:34:39.126Z"
   },
   {
    "duration": 16,
    "start_time": "2022-08-26T21:34:39.143Z"
   },
   {
    "duration": 229,
    "start_time": "2022-08-26T21:34:39.160Z"
   },
   {
    "duration": 26,
    "start_time": "2022-08-26T21:34:39.391Z"
   },
   {
    "duration": 168,
    "start_time": "2022-08-26T21:34:39.420Z"
   },
   {
    "duration": 199,
    "start_time": "2022-08-26T21:34:39.590Z"
   },
   {
    "duration": 193,
    "start_time": "2022-08-26T21:34:39.790Z"
   },
   {
    "duration": 177,
    "start_time": "2022-08-26T21:34:39.985Z"
   },
   {
    "duration": 198,
    "start_time": "2022-08-26T21:34:40.164Z"
   },
   {
    "duration": 203,
    "start_time": "2022-08-26T21:34:40.365Z"
   },
   {
    "duration": 7,
    "start_time": "2022-08-26T21:34:40.570Z"
   },
   {
    "duration": 198,
    "start_time": "2022-08-26T21:34:40.579Z"
   },
   {
    "duration": 269,
    "start_time": "2022-08-26T21:34:40.779Z"
   },
   {
    "duration": 193,
    "start_time": "2022-08-26T21:34:41.049Z"
   },
   {
    "duration": 192,
    "start_time": "2022-08-26T21:34:41.243Z"
   },
   {
    "duration": 193,
    "start_time": "2022-08-26T21:34:41.437Z"
   },
   {
    "duration": 197,
    "start_time": "2022-08-26T21:34:41.632Z"
   },
   {
    "duration": 181,
    "start_time": "2022-08-26T21:34:41.831Z"
   },
   {
    "duration": 206,
    "start_time": "2022-08-26T21:34:42.015Z"
   },
   {
    "duration": 178,
    "start_time": "2022-08-26T21:34:42.226Z"
   },
   {
    "duration": 186,
    "start_time": "2022-08-26T21:34:42.409Z"
   },
   {
    "duration": 177,
    "start_time": "2022-08-26T21:34:42.596Z"
   },
   {
    "duration": 12,
    "start_time": "2022-08-26T21:34:42.774Z"
   },
   {
    "duration": 273,
    "start_time": "2022-08-26T21:34:42.788Z"
   },
   {
    "duration": 280,
    "start_time": "2022-08-26T21:34:43.063Z"
   },
   {
    "duration": 215,
    "start_time": "2022-08-26T21:34:43.345Z"
   },
   {
    "duration": 8,
    "start_time": "2022-08-26T21:34:43.562Z"
   },
   {
    "duration": 230,
    "start_time": "2022-08-26T21:34:43.572Z"
   },
   {
    "duration": 343,
    "start_time": "2022-08-26T21:34:43.808Z"
   },
   {
    "duration": 5,
    "start_time": "2022-08-26T21:34:44.153Z"
   },
   {
    "duration": 560,
    "start_time": "2022-08-26T21:34:44.160Z"
   },
   {
    "duration": 577,
    "start_time": "2022-08-26T21:34:44.723Z"
   },
   {
    "duration": 557,
    "start_time": "2022-08-26T21:34:45.302Z"
   },
   {
    "duration": 9,
    "start_time": "2022-08-26T21:34:45.860Z"
   },
   {
    "duration": 19,
    "start_time": "2022-08-26T21:34:45.871Z"
   },
   {
    "duration": 18,
    "start_time": "2022-08-26T21:34:45.892Z"
   },
   {
    "duration": 24,
    "start_time": "2022-08-26T21:34:45.912Z"
   },
   {
    "duration": 10,
    "start_time": "2022-08-26T21:34:45.938Z"
   },
   {
    "duration": 8,
    "start_time": "2022-08-26T21:34:45.950Z"
   },
   {
    "duration": 5,
    "start_time": "2022-08-26T21:39:06.280Z"
   },
   {
    "duration": 4,
    "start_time": "2022-08-26T21:39:58.929Z"
   },
   {
    "duration": 5,
    "start_time": "2022-08-26T21:41:22.398Z"
   },
   {
    "duration": 1135,
    "start_time": "2022-08-26T21:41:38.906Z"
   },
   {
    "duration": 16,
    "start_time": "2022-08-26T21:41:40.042Z"
   },
   {
    "duration": 14,
    "start_time": "2022-08-26T21:41:40.061Z"
   },
   {
    "duration": 46,
    "start_time": "2022-08-26T21:41:40.078Z"
   },
   {
    "duration": 20,
    "start_time": "2022-08-26T21:41:40.126Z"
   },
   {
    "duration": 5,
    "start_time": "2022-08-26T21:41:40.148Z"
   },
   {
    "duration": 18,
    "start_time": "2022-08-26T21:41:40.155Z"
   },
   {
    "duration": 49,
    "start_time": "2022-08-26T21:41:40.174Z"
   },
   {
    "duration": 15,
    "start_time": "2022-08-26T21:41:40.224Z"
   },
   {
    "duration": 15,
    "start_time": "2022-08-26T21:41:40.241Z"
   },
   {
    "duration": 4,
    "start_time": "2022-08-26T21:41:40.258Z"
   },
   {
    "duration": 234,
    "start_time": "2022-08-26T21:41:40.264Z"
   },
   {
    "duration": 26,
    "start_time": "2022-08-26T21:41:40.500Z"
   },
   {
    "duration": 164,
    "start_time": "2022-08-26T21:41:40.528Z"
   },
   {
    "duration": 193,
    "start_time": "2022-08-26T21:41:40.694Z"
   },
   {
    "duration": 189,
    "start_time": "2022-08-26T21:41:40.889Z"
   },
   {
    "duration": 171,
    "start_time": "2022-08-26T21:41:41.079Z"
   },
   {
    "duration": 180,
    "start_time": "2022-08-26T21:41:41.252Z"
   },
   {
    "duration": 189,
    "start_time": "2022-08-26T21:41:41.434Z"
   },
   {
    "duration": 7,
    "start_time": "2022-08-26T21:41:41.625Z"
   },
   {
    "duration": 206,
    "start_time": "2022-08-26T21:41:41.634Z"
   },
   {
    "duration": 185,
    "start_time": "2022-08-26T21:41:41.842Z"
   },
   {
    "duration": 301,
    "start_time": "2022-08-26T21:41:42.029Z"
   },
   {
    "duration": 176,
    "start_time": "2022-08-26T21:41:42.332Z"
   },
   {
    "duration": 176,
    "start_time": "2022-08-26T21:41:42.510Z"
   },
   {
    "duration": 207,
    "start_time": "2022-08-26T21:41:42.687Z"
   },
   {
    "duration": 186,
    "start_time": "2022-08-26T21:41:42.895Z"
   },
   {
    "duration": 203,
    "start_time": "2022-08-26T21:41:43.085Z"
   },
   {
    "duration": 181,
    "start_time": "2022-08-26T21:41:43.290Z"
   },
   {
    "duration": 183,
    "start_time": "2022-08-26T21:41:43.473Z"
   },
   {
    "duration": 187,
    "start_time": "2022-08-26T21:41:43.658Z"
   },
   {
    "duration": 11,
    "start_time": "2022-08-26T21:41:43.847Z"
   },
   {
    "duration": 265,
    "start_time": "2022-08-26T21:41:43.860Z"
   },
   {
    "duration": 197,
    "start_time": "2022-08-26T21:41:44.126Z"
   },
   {
    "duration": 272,
    "start_time": "2022-08-26T21:41:44.325Z"
   },
   {
    "duration": 21,
    "start_time": "2022-08-26T21:41:44.599Z"
   },
   {
    "duration": 202,
    "start_time": "2022-08-26T21:41:44.622Z"
   },
   {
    "duration": 332,
    "start_time": "2022-08-26T21:41:44.826Z"
   },
   {
    "duration": 537,
    "start_time": "2022-08-26T21:41:45.160Z"
   },
   {
    "duration": 625,
    "start_time": "2022-08-26T21:41:45.699Z"
   },
   {
    "duration": 524,
    "start_time": "2022-08-26T21:41:46.326Z"
   },
   {
    "duration": 9,
    "start_time": "2022-08-26T21:41:46.851Z"
   },
   {
    "duration": 18,
    "start_time": "2022-08-26T21:41:46.861Z"
   },
   {
    "duration": 8,
    "start_time": "2022-08-26T21:41:46.880Z"
   },
   {
    "duration": 33,
    "start_time": "2022-08-26T21:41:46.889Z"
   },
   {
    "duration": 16,
    "start_time": "2022-08-26T21:41:46.924Z"
   },
   {
    "duration": 13,
    "start_time": "2022-08-26T21:41:46.942Z"
   },
   {
    "duration": 5,
    "start_time": "2022-08-26T21:52:01.943Z"
   },
   {
    "duration": 1213,
    "start_time": "2022-08-26T22:09:02.931Z"
   },
   {
    "duration": 16,
    "start_time": "2022-08-26T22:09:04.146Z"
   },
   {
    "duration": 25,
    "start_time": "2022-08-26T22:09:04.164Z"
   },
   {
    "duration": 30,
    "start_time": "2022-08-26T22:09:04.192Z"
   },
   {
    "duration": 21,
    "start_time": "2022-08-26T22:09:04.223Z"
   },
   {
    "duration": 8,
    "start_time": "2022-08-26T22:09:04.246Z"
   },
   {
    "duration": 27,
    "start_time": "2022-08-26T22:09:04.255Z"
   },
   {
    "duration": 44,
    "start_time": "2022-08-26T22:09:04.284Z"
   },
   {
    "duration": 15,
    "start_time": "2022-08-26T22:09:04.330Z"
   },
   {
    "duration": 15,
    "start_time": "2022-08-26T22:09:04.348Z"
   },
   {
    "duration": 9,
    "start_time": "2022-08-26T22:09:04.364Z"
   },
   {
    "duration": 218,
    "start_time": "2022-08-26T22:09:04.375Z"
   },
   {
    "duration": 17,
    "start_time": "2022-08-26T22:09:04.595Z"
   },
   {
    "duration": 163,
    "start_time": "2022-08-26T22:09:04.614Z"
   },
   {
    "duration": 180,
    "start_time": "2022-08-26T22:09:04.779Z"
   },
   {
    "duration": 179,
    "start_time": "2022-08-26T22:09:04.961Z"
   },
   {
    "duration": 159,
    "start_time": "2022-08-26T22:09:05.142Z"
   },
   {
    "duration": 174,
    "start_time": "2022-08-26T22:09:05.303Z"
   },
   {
    "duration": 177,
    "start_time": "2022-08-26T22:09:05.480Z"
   },
   {
    "duration": 6,
    "start_time": "2022-08-26T22:09:05.659Z"
   },
   {
    "duration": 189,
    "start_time": "2022-08-26T22:09:05.667Z"
   },
   {
    "duration": 201,
    "start_time": "2022-08-26T22:09:05.858Z"
   },
   {
    "duration": 267,
    "start_time": "2022-08-26T22:09:06.061Z"
   },
   {
    "duration": 187,
    "start_time": "2022-08-26T22:09:06.329Z"
   },
   {
    "duration": 175,
    "start_time": "2022-08-26T22:09:06.518Z"
   },
   {
    "duration": 174,
    "start_time": "2022-08-26T22:09:06.695Z"
   },
   {
    "duration": 177,
    "start_time": "2022-08-26T22:09:06.871Z"
   },
   {
    "duration": 213,
    "start_time": "2022-08-26T22:09:07.051Z"
   },
   {
    "duration": 194,
    "start_time": "2022-08-26T22:09:07.266Z"
   },
   {
    "duration": 176,
    "start_time": "2022-08-26T22:09:07.462Z"
   },
   {
    "duration": 171,
    "start_time": "2022-08-26T22:09:07.640Z"
   },
   {
    "duration": 11,
    "start_time": "2022-08-26T22:09:07.812Z"
   },
   {
    "duration": 252,
    "start_time": "2022-08-26T22:09:07.825Z"
   },
   {
    "duration": 179,
    "start_time": "2022-08-26T22:09:08.079Z"
   },
   {
    "duration": 278,
    "start_time": "2022-08-26T22:09:08.260Z"
   },
   {
    "duration": 8,
    "start_time": "2022-08-26T22:09:08.539Z"
   },
   {
    "duration": 211,
    "start_time": "2022-08-26T22:09:08.549Z"
   },
   {
    "duration": 316,
    "start_time": "2022-08-26T22:09:08.762Z"
   },
   {
    "duration": 513,
    "start_time": "2022-08-26T22:09:09.079Z"
   },
   {
    "duration": 555,
    "start_time": "2022-08-26T22:09:09.594Z"
   },
   {
    "duration": 538,
    "start_time": "2022-08-26T22:09:10.151Z"
   },
   {
    "duration": 19,
    "start_time": "2022-08-26T22:09:10.691Z"
   },
   {
    "duration": 13,
    "start_time": "2022-08-26T22:09:10.712Z"
   },
   {
    "duration": 6,
    "start_time": "2022-08-26T22:09:10.726Z"
   },
   {
    "duration": 13,
    "start_time": "2022-08-26T22:09:10.734Z"
   },
   {
    "duration": 8,
    "start_time": "2022-08-26T22:09:10.749Z"
   },
   {
    "duration": 14,
    "start_time": "2022-08-26T22:09:10.759Z"
   },
   {
    "duration": 1431,
    "start_time": "2022-08-27T20:01:18.373Z"
   },
   {
    "duration": 17,
    "start_time": "2022-08-27T20:01:19.807Z"
   },
   {
    "duration": 15,
    "start_time": "2022-08-27T20:01:19.825Z"
   },
   {
    "duration": 13,
    "start_time": "2022-08-27T20:01:19.842Z"
   },
   {
    "duration": 17,
    "start_time": "2022-08-27T20:01:19.856Z"
   },
   {
    "duration": 5,
    "start_time": "2022-08-27T20:01:19.874Z"
   },
   {
    "duration": 40,
    "start_time": "2022-08-27T20:01:19.880Z"
   },
   {
    "duration": 22,
    "start_time": "2022-08-27T20:01:19.923Z"
   },
   {
    "duration": 16,
    "start_time": "2022-08-27T20:01:19.946Z"
   },
   {
    "duration": 16,
    "start_time": "2022-08-27T20:01:19.964Z"
   },
   {
    "duration": 25,
    "start_time": "2022-08-27T20:01:19.981Z"
   },
   {
    "duration": 216,
    "start_time": "2022-08-27T20:01:20.008Z"
   },
   {
    "duration": 12,
    "start_time": "2022-08-27T20:01:20.226Z"
   },
   {
    "duration": 152,
    "start_time": "2022-08-27T20:01:20.239Z"
   },
   {
    "duration": 164,
    "start_time": "2022-08-27T20:01:20.392Z"
   },
   {
    "duration": 158,
    "start_time": "2022-08-27T20:01:20.558Z"
   },
   {
    "duration": 148,
    "start_time": "2022-08-27T20:01:20.718Z"
   },
   {
    "duration": 164,
    "start_time": "2022-08-27T20:01:20.868Z"
   },
   {
    "duration": 152,
    "start_time": "2022-08-27T20:01:21.034Z"
   },
   {
    "duration": 9,
    "start_time": "2022-08-27T20:01:21.188Z"
   },
   {
    "duration": 167,
    "start_time": "2022-08-27T20:01:21.206Z"
   },
   {
    "duration": 159,
    "start_time": "2022-08-27T20:01:21.375Z"
   },
   {
    "duration": 220,
    "start_time": "2022-08-27T20:01:21.535Z"
   },
   {
    "duration": 168,
    "start_time": "2022-08-27T20:01:21.756Z"
   },
   {
    "duration": 169,
    "start_time": "2022-08-27T20:01:21.926Z"
   },
   {
    "duration": 156,
    "start_time": "2022-08-27T20:01:22.096Z"
   },
   {
    "duration": 178,
    "start_time": "2022-08-27T20:01:22.254Z"
   },
   {
    "duration": 180,
    "start_time": "2022-08-27T20:01:22.436Z"
   },
   {
    "duration": 163,
    "start_time": "2022-08-27T20:01:22.619Z"
   },
   {
    "duration": 186,
    "start_time": "2022-08-27T20:01:22.785Z"
   },
   {
    "duration": 169,
    "start_time": "2022-08-27T20:01:22.973Z"
   },
   {
    "duration": 12,
    "start_time": "2022-08-27T20:01:23.144Z"
   },
   {
    "duration": 248,
    "start_time": "2022-08-27T20:01:23.158Z"
   },
   {
    "duration": 178,
    "start_time": "2022-08-27T20:01:23.408Z"
   },
   {
    "duration": 277,
    "start_time": "2022-08-27T20:01:23.587Z"
   },
   {
    "duration": 7,
    "start_time": "2022-08-27T20:01:23.866Z"
   },
   {
    "duration": 199,
    "start_time": "2022-08-27T20:01:23.874Z"
   },
   {
    "duration": 306,
    "start_time": "2022-08-27T20:01:24.075Z"
   },
   {
    "duration": 478,
    "start_time": "2022-08-27T20:01:24.383Z"
   },
   {
    "duration": 526,
    "start_time": "2022-08-27T20:01:24.863Z"
   },
   {
    "duration": 467,
    "start_time": "2022-08-27T20:01:25.391Z"
   },
   {
    "duration": 8,
    "start_time": "2022-08-27T20:01:25.860Z"
   },
   {
    "duration": 13,
    "start_time": "2022-08-27T20:01:25.870Z"
   },
   {
    "duration": 7,
    "start_time": "2022-08-27T20:01:25.884Z"
   },
   {
    "duration": 18,
    "start_time": "2022-08-27T20:01:25.893Z"
   },
   {
    "duration": 24,
    "start_time": "2022-08-27T20:01:25.913Z"
   },
   {
    "duration": 26,
    "start_time": "2022-08-27T20:01:25.939Z"
   }
  ],
  "kernelspec": {
   "display_name": "Python 3 (ipykernel)",
   "language": "python",
   "name": "python3"
  },
  "language_info": {
   "codemirror_mode": {
    "name": "ipython",
    "version": 3
   },
   "file_extension": ".py",
   "mimetype": "text/x-python",
   "name": "python",
   "nbconvert_exporter": "python",
   "pygments_lexer": "ipython3",
   "version": "3.9.12"
  },
  "toc": {
   "base_numbering": 1,
   "nav_menu": {},
   "number_sections": true,
   "sideBar": true,
   "skip_h1_title": true,
   "title_cell": "Table of Contents",
   "title_sidebar": "Contents",
   "toc_cell": false,
   "toc_position": {},
   "toc_section_display": true,
   "toc_window_display": false
  }
 },
 "nbformat": 4,
 "nbformat_minor": 2
}
